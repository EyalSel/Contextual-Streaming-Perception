{
 "cells": [
  {
   "cell_type": "code",
   "execution_count": null,
   "id": "filled-spending",
   "metadata": {},
   "outputs": [],
   "source": [
    "import os\n",
    "import numpy as np\n",
    "\n",
    "import torch\n",
    "from torch import nn\n",
    "import torch.nn.functional as F\n",
    "from torchvision.datasets import MNIST\n",
    "from torch.utils.data import Dataset, DataLoader, random_split\n",
    "from torchvision import transforms\n",
    "import pytorch_lightning as pl\n",
    "\n",
    "from PIL import Image\n",
    "import pickle\n",
    "from pl_bolts.models.self_supervised import SimCLR\n",
    "from pl_bolts.models.self_supervised.simclr.transforms import SimCLRTrainDataTransform, SimCLREvalDataTransform\n",
    "import pytorch_lightning as pl\n",
    "\n",
    "import tensorflow as tf\n",
    "tf.executing_eagerly()\n",
    "\n",
    "from waymo_open_dataset.utils import frame_utils\n",
    "from waymo_open_dataset import dataset_pb2 as open_dataset"
   ]
  },
  {
   "cell_type": "code",
   "execution_count": null,
   "id": "characteristic-retreat",
   "metadata": {},
   "outputs": [],
   "source": [
    "def get_encoder(model):\n",
    "    WEIGHTS = {\n",
    "        'simclr' : 'https://pl-bolts-weights.s3.us-east-2.amazonaws.com/simclr/bolts_simclr_imagenet/simclr_imagenet.ckpt'\n",
    "    }\n",
    "    weight_path = WEIGHTS[model]\n",
    "    if model == 'simclr':\n",
    "        simclr = SimCLR.load_from_checkpoint(weight_path)\n",
    "        simclr.freeze()\n",
    "        encoder = simclr.encoder \n",
    "        encoder.eval()\n",
    "    \n",
    "    return encoder"
   ]
  },
  {
   "cell_type": "code",
   "execution_count": null,
   "id": "behind-spyware",
   "metadata": {},
   "outputs": [],
   "source": [
    "class WaymoAD(Dataset):\n",
    "    def __init__(self, tfrecords, transform=None):\n",
    "        \"\"\"\n",
    "        Args:\n",
    "            pklfile (string) : pkl dump from tfrecords\n",
    "            transform (callable, optional) : Optional transform per sample\n",
    "        \"\"\"\n",
    "        frames = os.path.tf.data.TFRecordDataset(tfrecords, compression_type='')\n",
    "        self.transform = transform \n",
    "\n",
    "    def __getitem__(self, idx):\n",
    "        if torch.is_tensor(idx):\n",
    "            idx = idx.tolist()\n",
    "        if self.transform:\n",
    "            sample = self.transform(sample)\n",
    "\n",
    "        return sample"
   ]
  },
  {
   "cell_type": "code",
   "execution_count": null,
   "id": "dressed-heading",
   "metadata": {},
   "outputs": [],
   "source": [
    "BATCH_SIZE = 32\n",
    "NUM_WORKERS = 8\n",
    "\n",
    "dataset = WaymoAD(pklfile, root_dir, transform=simclr_encoder)\n",
    "dataloader = DataLoader(dataset, batch_size=BATCH_SIZE, shuffle=True, num_workers=NUM_WORKERS)"
   ]
  },
  {
   "cell_type": "code",
   "execution_count": null,
   "metadata": {},
   "outputs": [],
   "source": [
    "import matplotlib\n",
    "import matplotlib.pyplot as plt\n",
    "%matplotlib inline\n",
    "\n",
    "def create_img_dataset(tfrecords=None):\n",
    "    if tfrecords is None:\n",
    "        tfrecords = [\n",
    "            '/data/krishna/waymo/segment-10017090168044687777_6380_000_6400_000_with_camera_labels.tfrecord',\n",
    "            '/data/krishna/waymo/segment-10023947602400723454_1120_000_1140_000_with_camera_labels.tfrecord'\n",
    "        ]\n",
    "    tfdataset = tf.data.TFRecordDataset(tfrecords, compression_type='')\n",
    "\n",
    "    count = 0\n",
    "    for data in tfdataset:\n",
    "        frame = open_dataset.Frame()\n",
    "        frame.ParseFromString(bytearray(data.numpy()))\n",
    "        count += 1\n",
    "    print(\"PROCESSED %s SAMPLES ACROSS TFRECORDS\" % count)\n",
    "    "
   ]
  },
  {
   "cell_type": "code",
   "execution_count": null,
   "metadata": {},
   "outputs": [],
   "source": [
    "plt.figure(figsize=(25, 20))\n",
    "\n",
    "def image_show(data, name, layout, cmap=None):\n",
    "  \"\"\"Show an image.\"\"\"\n",
    "  plt.subplot(*layout)\n",
    "  plt.imshow(tf.image.decode_jpeg(data), cmap=cmap)\n",
    "  plt.title(name)\n",
    "  plt.grid(False)\n",
    "  plt.axis('off')\n",
    "\n",
    "for index, image in enumerate(frame.images):\n",
    "  image_show(image.image, open_dataset.CameraName.Name.Name(image.name),\n",
    "             [3, 3, index+1])"
   ]
  },
  {
   "cell_type": "code",
   "execution_count": null,
   "metadata": {},
   "outputs": [],
   "source": [
    "class WaymoDataset(Dataset):\n",
    "    def __init__(self, datafile, transform=None):\n",
    "        self.datafile = datafile\n",
    "        with open(self.datafile, 'rb') as f:\n",
    "            datadict = pickle.load(f)\n",
    "        self.data = [image['center_camera_feed'] for image in datadict]\n",
    "        self.transform = transform\n",
    "\n",
    "    def __getitem__(self, index):\n",
    "        x = self.data[index].astype(np.float32).transpose(2, 0, 1)\n",
    "        if self.transform:\n",
    "            x = Image.fromarray(self.data[index].astype(np.uint8))\n",
    "            x = self.transform(x)\n",
    "        return x\n",
    "\n",
    "    def __len__(self):\n",
    "        return len(self.data)"
   ]
  },
  {
   "cell_type": "code",
   "execution_count": null,
   "metadata": {
    "tags": []
   },
   "outputs": [],
   "source": [
    "weight_path = 'https://pl-bolts-weights.s3.us-east-2.amazonaws.com/simclr/bolts_simclr_imagenet/simclr_imagenet.ckpt'\n",
    "simclr = SimCLR.load_from_checkpoint(weight_path, strict=False)\n",
    "simclr_resnet50 = simclr.encoder\n",
    "simclr_resnet50.eval()\n",
    "\n"
   ]
  },
  {
   "cell_type": "code",
   "execution_count": null,
   "metadata": {
    "tags": []
   },
   "outputs": [],
   "source": [
    "allfeats = None\n",
    "for batch in dataloader:\n",
    "    print(batch.shape)\n",
    "    feats = simclr_resnet50(batch)[0].detach().numpy()\n",
    "    if allfeats is None:\n",
    "        allfeats = feats\n",
    "    allfeats = np.append(allfeats, feats, axis=0)\n"
   ]
  }
 ],
 "metadata": {
  "kernelspec": {
   "name": "python388jvsc74a57bd0d5518f3a001b39bd98bdb50e339d05753dedfb62ea8e3fe6103ccee0ece9d914",
   "display_name": "Python 3.8.8 64-bit ('cerve': conda)"
  },
  "language_info": {
   "codemirror_mode": {
    "name": "ipython",
    "version": 3
   },
   "file_extension": ".py",
   "mimetype": "text/x-python",
   "name": "python",
   "nbconvert_exporter": "python",
   "pygments_lexer": "ipython3",
   "version": "3.8.8-final"
  }
 },
 "nbformat": 4,
 "nbformat_minor": 5
}