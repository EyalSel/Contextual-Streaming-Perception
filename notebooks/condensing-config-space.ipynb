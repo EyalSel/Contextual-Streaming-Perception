{
 "cells": [
  {
   "cell_type": "markdown",
   "metadata": {},
   "source": [
    "# Condensing the configuration space fine grained"
   ]
  },
  {
   "cell_type": "code",
   "execution_count": 1,
   "metadata": {},
   "outputs": [],
   "source": [
    "import pickle\n",
    "import json\n",
    "import numpy as np\n",
    "import seaborn as sns\n",
    "import matplotlib.pyplot as plt\n",
    "import pandas as pd\n",
    "from tqdm import tqdm\n",
    "\n",
    "from ad_config_search.config_space_control import ConfigSpace\n",
    "\n",
    "%load_ext autoreload\n",
    "%autoreload 2"
   ]
  },
  {
   "cell_type": "markdown",
   "metadata": {},
   "source": [
    "## Get fine grained policy"
   ]
  },
  {
   "cell_type": "code",
   "execution_count": 2,
   "metadata": {},
   "outputs": [],
   "source": [
    "with open(\"df_configs_5sectors.pl\", 'rb') as f:\n",
    "    df_configs_5sectors = pickle.load(f)"
   ]
  },
  {
   "cell_type": "code",
   "execution_count": 23,
   "metadata": {},
   "outputs": [
    {
     "data": {
      "text/html": [
       "<div>\n",
       "<style scoped>\n",
       "    .dataframe tbody tr th:only-of-type {\n",
       "        vertical-align: middle;\n",
       "    }\n",
       "\n",
       "    .dataframe tbody tr th {\n",
       "        vertical-align: top;\n",
       "    }\n",
       "\n",
       "    .dataframe thead th {\n",
       "        text-align: right;\n",
       "    }\n",
       "</style>\n",
       "<table border=\"1\" class=\"dataframe\">\n",
       "  <thead>\n",
       "    <tr style=\"text-align: right;\">\n",
       "      <th></th>\n",
       "      <th>run</th>\n",
       "      <th>D-model</th>\n",
       "      <th>D-conf</th>\n",
       "      <th>D-seq-pol</th>\n",
       "      <th>T-model</th>\n",
       "      <th>T-min-iou</th>\n",
       "      <th>T-max-age</th>\n",
       "      <th>T-every-nth-det</th>\n",
       "      <th>score</th>\n",
       "      <th>metric</th>\n",
       "    </tr>\n",
       "  </thead>\n",
       "  <tbody>\n",
       "    <tr>\n",
       "      <th>0</th>\n",
       "      <td>training_0000-S23-P0_5</td>\n",
       "      <td>efficientdet-d5</td>\n",
       "      <td>0.5</td>\n",
       "      <td>eager</td>\n",
       "      <td>sort</td>\n",
       "      <td>0.3</td>\n",
       "      <td>5</td>\n",
       "      <td>1</td>\n",
       "      <td>30.547550</td>\n",
       "      <td>T_mota</td>\n",
       "    </tr>\n",
       "    <tr>\n",
       "      <th>1</th>\n",
       "      <td>training_0000-S23-P1_5</td>\n",
       "      <td>efficientdet-d5</td>\n",
       "      <td>0.5</td>\n",
       "      <td>eager</td>\n",
       "      <td>sort</td>\n",
       "      <td>0.3</td>\n",
       "      <td>5</td>\n",
       "      <td>1</td>\n",
       "      <td>39.197930</td>\n",
       "      <td>T_mota</td>\n",
       "    </tr>\n",
       "    <tr>\n",
       "      <th>2</th>\n",
       "      <td>training_0000-S23-P2_5</td>\n",
       "      <td>efficientdet-d5</td>\n",
       "      <td>0.5</td>\n",
       "      <td>eager</td>\n",
       "      <td>sort</td>\n",
       "      <td>0.3</td>\n",
       "      <td>5</td>\n",
       "      <td>1</td>\n",
       "      <td>37.049861</td>\n",
       "      <td>T_mota</td>\n",
       "    </tr>\n",
       "    <tr>\n",
       "      <th>3</th>\n",
       "      <td>training_0000-S23-P3_5</td>\n",
       "      <td>efficientdet-d5</td>\n",
       "      <td>0.5</td>\n",
       "      <td>eager</td>\n",
       "      <td>sort</td>\n",
       "      <td>0.3</td>\n",
       "      <td>5</td>\n",
       "      <td>1</td>\n",
       "      <td>28.266494</td>\n",
       "      <td>T_mota</td>\n",
       "    </tr>\n",
       "    <tr>\n",
       "      <th>4</th>\n",
       "      <td>training_0000-S23-P4_5</td>\n",
       "      <td>efficientdet-d5</td>\n",
       "      <td>0.5</td>\n",
       "      <td>eager</td>\n",
       "      <td>sort</td>\n",
       "      <td>0.3</td>\n",
       "      <td>5</td>\n",
       "      <td>1</td>\n",
       "      <td>29.371688</td>\n",
       "      <td>T_mota</td>\n",
       "    </tr>\n",
       "    <tr>\n",
       "      <th>...</th>\n",
       "      <td>...</td>\n",
       "      <td>...</td>\n",
       "      <td>...</td>\n",
       "      <td>...</td>\n",
       "      <td>...</td>\n",
       "      <td>...</td>\n",
       "      <td>...</td>\n",
       "      <td>...</td>\n",
       "      <td>...</td>\n",
       "      <td>...</td>\n",
       "    </tr>\n",
       "    <tr>\n",
       "      <th>1704955</th>\n",
       "      <td>training_0003-S1-P0_5</td>\n",
       "      <td>efficientdet-d6</td>\n",
       "      <td>0.3</td>\n",
       "      <td>eager</td>\n",
       "      <td>sort</td>\n",
       "      <td>0.5</td>\n",
       "      <td>3</td>\n",
       "      <td>3</td>\n",
       "      <td>-9.959350</td>\n",
       "      <td>T_mota</td>\n",
       "    </tr>\n",
       "    <tr>\n",
       "      <th>1704956</th>\n",
       "      <td>training_0003-S1-P1_5</td>\n",
       "      <td>efficientdet-d6</td>\n",
       "      <td>0.3</td>\n",
       "      <td>eager</td>\n",
       "      <td>sort</td>\n",
       "      <td>0.5</td>\n",
       "      <td>3</td>\n",
       "      <td>3</td>\n",
       "      <td>-3.034682</td>\n",
       "      <td>T_mota</td>\n",
       "    </tr>\n",
       "    <tr>\n",
       "      <th>1704957</th>\n",
       "      <td>training_0003-S1-P2_5</td>\n",
       "      <td>efficientdet-d6</td>\n",
       "      <td>0.3</td>\n",
       "      <td>eager</td>\n",
       "      <td>sort</td>\n",
       "      <td>0.5</td>\n",
       "      <td>3</td>\n",
       "      <td>3</td>\n",
       "      <td>-10.264901</td>\n",
       "      <td>T_mota</td>\n",
       "    </tr>\n",
       "    <tr>\n",
       "      <th>1704958</th>\n",
       "      <td>training_0003-S1-P3_5</td>\n",
       "      <td>efficientdet-d6</td>\n",
       "      <td>0.3</td>\n",
       "      <td>eager</td>\n",
       "      <td>sort</td>\n",
       "      <td>0.5</td>\n",
       "      <td>3</td>\n",
       "      <td>3</td>\n",
       "      <td>-27.734375</td>\n",
       "      <td>T_mota</td>\n",
       "    </tr>\n",
       "    <tr>\n",
       "      <th>1704959</th>\n",
       "      <td>training_0003-S1-P4_5</td>\n",
       "      <td>efficientdet-d6</td>\n",
       "      <td>0.3</td>\n",
       "      <td>eager</td>\n",
       "      <td>sort</td>\n",
       "      <td>0.5</td>\n",
       "      <td>3</td>\n",
       "      <td>3</td>\n",
       "      <td>-45.783133</td>\n",
       "      <td>T_mota</td>\n",
       "    </tr>\n",
       "  </tbody>\n",
       "</table>\n",
       "<p>1704960 rows × 10 columns</p>\n",
       "</div>"
      ],
      "text/plain": [
       "                            run          D-model  D-conf D-seq-pol T-model  \\\n",
       "0        training_0000-S23-P0_5  efficientdet-d5     0.5     eager    sort   \n",
       "1        training_0000-S23-P1_5  efficientdet-d5     0.5     eager    sort   \n",
       "2        training_0000-S23-P2_5  efficientdet-d5     0.5     eager    sort   \n",
       "3        training_0000-S23-P3_5  efficientdet-d5     0.5     eager    sort   \n",
       "4        training_0000-S23-P4_5  efficientdet-d5     0.5     eager    sort   \n",
       "...                         ...              ...     ...       ...     ...   \n",
       "1704955   training_0003-S1-P0_5  efficientdet-d6     0.3     eager    sort   \n",
       "1704956   training_0003-S1-P1_5  efficientdet-d6     0.3     eager    sort   \n",
       "1704957   training_0003-S1-P2_5  efficientdet-d6     0.3     eager    sort   \n",
       "1704958   training_0003-S1-P3_5  efficientdet-d6     0.3     eager    sort   \n",
       "1704959   training_0003-S1-P4_5  efficientdet-d6     0.3     eager    sort   \n",
       "\n",
       "         T-min-iou  T-max-age  T-every-nth-det      score  metric  \n",
       "0              0.3          5                1  30.547550  T_mota  \n",
       "1              0.3          5                1  39.197930  T_mota  \n",
       "2              0.3          5                1  37.049861  T_mota  \n",
       "3              0.3          5                1  28.266494  T_mota  \n",
       "4              0.3          5                1  29.371688  T_mota  \n",
       "...            ...        ...              ...        ...     ...  \n",
       "1704955        0.5          3                3  -9.959350  T_mota  \n",
       "1704956        0.5          3                3  -3.034682  T_mota  \n",
       "1704957        0.5          3                3 -10.264901  T_mota  \n",
       "1704958        0.5          3                3 -27.734375  T_mota  \n",
       "1704959        0.5          3                3 -45.783133  T_mota  \n",
       "\n",
       "[1704960 rows x 10 columns]"
      ]
     },
     "execution_count": 23,
     "metadata": {},
     "output_type": "execute_result"
    }
   ],
   "source": [
    "df_configs_5sectors"
   ]
  },
  {
   "cell_type": "code",
   "execution_count": 4,
   "metadata": {},
   "outputs": [],
   "source": [
    "df_configs_5sectors = df_configs_5sectors[df_configs_5sectors[\"D-seq-pol\"] != \"infinite\"]\n",
    "df_configs_5sectors[\"D-conf\"] = df_configs_5sectors[\"D-conf\"].astype(float)\n",
    "df_configs_5sectors[\"T-min-iou\"] = df_configs_5sectors[\"T-min-iou\"].astype(float)\n",
    "df_configs_5sectors[\"T-max-age\"] = df_configs_5sectors[\"T-max-age\"].astype(int)\n",
    "df_configs_5sectors[\"T-every-nth-det\"] = df_configs_5sectors[\"T-every-nth-det\"].astype(int)\n",
    "df_configs_5sectors[\"score\"] = df_configs_5sectors[\"score\"].astype(float)"
   ]
  },
  {
   "cell_type": "code",
   "execution_count": 5,
   "metadata": {},
   "outputs": [],
   "source": [
    "config_space_5sectors = ConfigSpace(df_configs_5sectors,\n",
    "                                    scenario_column=\"run\",\n",
    "                                    metric_column=\"metric\",\n",
    "                                    score_column=\"score\",\n",
    "                                    config_columns=[\"D-model\", \"D-conf\", \"D-seq-pol\", \"T-min-iou\", \"T-max-age\", \"T-every-nth-det\"])"
   ]
  },
  {
   "cell_type": "code",
   "execution_count": 6,
   "metadata": {},
   "outputs": [
    {
     "name": "stderr",
     "output_type": "stream",
     "text": [
      "100%|██████████| 740/740 [02:33<00:00,  4.83it/s]\n",
      "100%|██████████| 740/740 [01:22<00:00,  8.98it/s]\n"
     ]
    }
   ],
   "source": [
    "oracle_5sectors_policy = config_space_5sectors.oracle_per_scenario_policy(\"T_mota\")\n",
    "oracle_5sectors_policy_scores = config_space_5sectors.get_scores_of_policy(oracle_5sectors_policy, \"T_mota\")"
   ]
  },
  {
   "cell_type": "markdown",
   "metadata": {},
   "source": [
    "## Per-scenario grained analysis"
   ]
  },
  {
   "cell_type": "markdown",
   "metadata": {},
   "source": [
    "### Load policy and count occurence of configurations"
   ]
  },
  {
   "cell_type": "code",
   "execution_count": 7,
   "metadata": {},
   "outputs": [],
   "source": [
    "oracle_per_scenario_policy_str = {k: json.dumps(v) for k,v in oracle_5sectors_policy.items()}"
   ]
  },
  {
   "cell_type": "code",
   "execution_count": 8,
   "metadata": {},
   "outputs": [],
   "source": [
    "oracle_configs, oracle_config_counts = np.unique(list(oracle_per_scenario_policy_str.values()), return_counts=True)"
   ]
  },
  {
   "cell_type": "markdown",
   "metadata": {},
   "source": [
    "### Distribution is long/heavy tailed"
   ]
  },
  {
   "cell_type": "code",
   "execution_count": 9,
   "metadata": {},
   "outputs": [
    {
     "data": {
      "text/plain": [
       "([<matplotlib.axis.XTick at 0x7f57b0d7a208>,\n",
       "  <matplotlib.axis.XTick at 0x7f57b0d6bda0>,\n",
       "  <matplotlib.axis.XTick at 0x7f57b0d6ba20>,\n",
       "  <matplotlib.axis.XTick at 0x7f57a98646d8>,\n",
       "  <matplotlib.axis.XTick at 0x7f57a9864b70>,\n",
       "  <matplotlib.axis.XTick at 0x7f57a97f9048>,\n",
       "  <matplotlib.axis.XTick at 0x7f57a97f94e0>,\n",
       "  <matplotlib.axis.XTick at 0x7f57a97f9978>,\n",
       "  <matplotlib.axis.XTick at 0x7f57a97f9e10>,\n",
       "  <matplotlib.axis.XTick at 0x7f57a98022e8>,\n",
       "  <matplotlib.axis.XTick at 0x7f57a9802780>,\n",
       "  <matplotlib.axis.XTick at 0x7f57a97f96a0>,\n",
       "  <matplotlib.axis.XTick at 0x7f57a9802ac8>],\n",
       " [Text(0, 0, '0'),\n",
       "  Text(1, 0, '1'),\n",
       "  Text(2, 0, '2'),\n",
       "  Text(3, 0, '3'),\n",
       "  Text(4, 0, '4'),\n",
       "  Text(5, 0, '5'),\n",
       "  Text(6, 0, '6'),\n",
       "  Text(7, 0, '7'),\n",
       "  Text(8, 0, '8'),\n",
       "  Text(9, 0, '9'),\n",
       "  Text(10, 0, '10'),\n",
       "  Text(11, 0, '11'),\n",
       "  Text(12, 0, '12')])"
      ]
     },
     "execution_count": 9,
     "metadata": {},
     "output_type": "execute_result"
    },
    {
     "data": {
      "image/png": "[encoded data removed]",
      "text/plain": [
       "<Figure size 432x288 with 1 Axes>"
      ]
     },
     "metadata": {
      "needs_background": "light"
     },
     "output_type": "display_data"
    }
   ],
   "source": [
    "# plt.title(\"Number of scenarios with the same optimal config\")\n",
    "plt.ylabel(\"Number of scenarios\")\n",
    "plt.xlabel(\"config\")\n",
    "sns.barplot(x=np.arange(len(oracle_config_counts)), y=sorted(oracle_config_counts, reverse=True))\n",
    "plt.xticks(ticks=np.arange(0,260,20))"
   ]
  },
  {
   "cell_type": "code",
   "execution_count": 10,
   "metadata": {},
   "outputs": [
    {
     "data": {
      "text/plain": [
       "1.2925730421889967"
      ]
     },
     "execution_count": 10,
     "metadata": {},
     "output_type": "execute_result"
    }
   ],
   "source": [
    "# subexponential\n",
    "np.std(oracle_config_counts)/np.mean(oracle_config_counts)"
   ]
  },
  {
   "cell_type": "code",
   "execution_count": 50,
   "metadata": {
    "collapsed": true,
    "jupyter": {
     "outputs_hidden": true
    }
   },
   "outputs": [
    {
     "data": {
      "text/plain": [
       "array([['{\"D-model\": \"efficientdet-d7x\", \"D-conf\": 0.5, \"D-seq-pol\": \"eager\", \"T-min-iou\": 0.1, \"T-max-age\": 7, \"T-every-nth-det\": 1}',\n",
       "        '40'],\n",
       "       ['{\"D-model\": \"efficientdet-d7x\", \"D-conf\": 0.3, \"D-seq-pol\": \"tail-aware\", \"T-min-iou\": 0.1, \"T-max-age\": 7, \"T-every-nth-det\": 1}',\n",
       "        '21'],\n",
       "       ['{\"D-model\": \"efficientdet-d7x\", \"D-conf\": 0.5, \"D-seq-pol\": \"wait\", \"T-min-iou\": 0.1, \"T-max-age\": 7, \"T-every-nth-det\": 1}',\n",
       "        '19'],\n",
       "       ['{\"D-model\": \"efficientdet-d7x\", \"D-conf\": 0.3, \"D-seq-pol\": \"eager\", \"T-min-iou\": 0.1, \"T-max-age\": 7, \"T-every-nth-det\": 1}',\n",
       "        '19'],\n",
       "       ['{\"D-model\": \"efficientdet-d7x\", \"D-conf\": 0.5, \"D-seq-pol\": \"tail-aware\", \"T-min-iou\": 0.1, \"T-max-age\": 7, \"T-every-nth-det\": 1}',\n",
       "        '16'],\n",
       "       ['{\"D-model\": \"efficientdet-d7x\", \"D-conf\": 0.3, \"D-seq-pol\": \"wait\", \"T-min-iou\": 0.1, \"T-max-age\": 7, \"T-every-nth-det\": 1}',\n",
       "        '15'],\n",
       "       ['{\"D-model\": \"efficientdet-d4\", \"D-conf\": 0.3, \"D-seq-pol\": \"eager\", \"T-min-iou\": 0.1, \"T-max-age\": 7, \"T-every-nth-det\": 1}',\n",
       "        '13'],\n",
       "       ['{\"D-model\": \"efficientdet-d4\", \"D-conf\": 0.3, \"D-seq-pol\": \"wait\", \"T-min-iou\": 0.1, \"T-max-age\": 7, \"T-every-nth-det\": 1}',\n",
       "        '10'],\n",
       "       ['{\"D-model\": \"efficientdet-d4\", \"D-conf\": 0.3, \"D-seq-pol\": \"eager\", \"T-min-iou\": 0.1, \"T-max-age\": 3, \"T-every-nth-det\": 1}',\n",
       "        '9'],\n",
       "       ['{\"D-model\": \"efficientdet-d5\", \"D-conf\": 0.3, \"D-seq-pol\": \"tail-aware\", \"T-min-iou\": 0.1, \"T-max-age\": 7, \"T-every-nth-det\": 1}',\n",
       "        '9'],\n",
       "       ['{\"D-model\": \"efficientdet-d4\", \"D-conf\": 0.5, \"D-seq-pol\": \"tail-aware\", \"T-min-iou\": 0.1, \"T-max-age\": 1, \"T-every-nth-det\": 1}',\n",
       "        '9'],\n",
       "       ['{\"D-model\": \"efficientdet-d7\", \"D-conf\": 0.3, \"D-seq-pol\": \"eager\", \"T-min-iou\": 0.1, \"T-max-age\": 7, \"T-every-nth-det\": 1}',\n",
       "        '8'],\n",
       "       ['{\"D-model\": \"efficientdet-d4\", \"D-conf\": 0.5, \"D-seq-pol\": \"eager\", \"T-min-iou\": 0.1, \"T-max-age\": 7, \"T-every-nth-det\": 1}',\n",
       "        '8'],\n",
       "       ['{\"D-model\": \"efficientdet-d4\", \"D-conf\": 0.5, \"D-seq-pol\": \"wait\", \"T-min-iou\": 0.1, \"T-max-age\": 7, \"T-every-nth-det\": 1}',\n",
       "        '8'],\n",
       "       ['{\"D-model\": \"efficientdet-d5\", \"D-conf\": 0.5, \"D-seq-pol\": \"wait\", \"T-min-iou\": 0.1, \"T-max-age\": 7, \"T-every-nth-det\": 1}',\n",
       "        '7'],\n",
       "       ['{\"D-model\": \"efficientdet-d7x\", \"D-conf\": 0.5, \"D-seq-pol\": \"wait\", \"T-min-iou\": 0.1, \"T-max-age\": 3, \"T-every-nth-det\": 1}',\n",
       "        '7'],\n",
       "       ['{\"D-model\": \"efficientdet-d4\", \"D-conf\": 0.3, \"D-seq-pol\": \"eager\", \"T-min-iou\": 0.1, \"T-max-age\": 1, \"T-every-nth-det\": 1}',\n",
       "        '7'],\n",
       "       ['{\"D-model\": \"efficientdet-d7x\", \"D-conf\": 0.3, \"D-seq-pol\": \"tail-aware\", \"T-min-iou\": 0.1, \"T-max-age\": 5, \"T-every-nth-det\": 1}',\n",
       "        '7'],\n",
       "       ['{\"D-model\": \"efficientdet-d5\", \"D-conf\": 0.3, \"D-seq-pol\": \"wait\", \"T-min-iou\": 0.1, \"T-max-age\": 7, \"T-every-nth-det\": 1}',\n",
       "        '7'],\n",
       "       ['{\"D-model\": \"efficientdet-d4\", \"D-conf\": 0.5, \"D-seq-pol\": \"tail-aware\", \"T-min-iou\": 0.1, \"T-max-age\": 7, \"T-every-nth-det\": 1}',\n",
       "        '7'],\n",
       "       ['{\"D-model\": \"efficientdet-d4\", \"D-conf\": 0.3, \"D-seq-pol\": \"tail-aware\", \"T-min-iou\": 0.1, \"T-max-age\": 1, \"T-every-nth-det\": 1}',\n",
       "        '7'],\n",
       "       ['{\"D-model\": \"efficientdet-d4\", \"D-conf\": 0.3, \"D-seq-pol\": \"tail-aware\", \"T-min-iou\": 0.1, \"T-max-age\": 5, \"T-every-nth-det\": 1}',\n",
       "        '6'],\n",
       "       ['{\"D-model\": \"efficientdet-d4\", \"D-conf\": 0.3, \"D-seq-pol\": \"eager\", \"T-min-iou\": 0.1, \"T-max-age\": 5, \"T-every-nth-det\": 1}',\n",
       "        '6'],\n",
       "       ['{\"D-model\": \"efficientdet-d7\", \"D-conf\": 0.5, \"D-seq-pol\": \"eager\", \"T-min-iou\": 0.1, \"T-max-age\": 7, \"T-every-nth-det\": 1}',\n",
       "        '6'],\n",
       "       ['{\"D-model\": \"efficientdet-d7\", \"D-conf\": 0.3, \"D-seq-pol\": \"tail-aware\", \"T-min-iou\": 0.1, \"T-max-age\": 7, \"T-every-nth-det\": 1}',\n",
       "        '6'],\n",
       "       ['{\"D-model\": \"efficientdet-d4\", \"D-conf\": 0.3, \"D-seq-pol\": \"tail-aware\", \"T-min-iou\": 0.1, \"T-max-age\": 7, \"T-every-nth-det\": 1}',\n",
       "        '6'],\n",
       "       ['{\"D-model\": \"efficientdet-d4\", \"D-conf\": 0.3, \"D-seq-pol\": \"wait\", \"T-min-iou\": 0.1, \"T-max-age\": 1, \"T-every-nth-det\": 1}',\n",
       "        '6'],\n",
       "       ['{\"D-model\": \"efficientdet-d4\", \"D-conf\": 0.3, \"D-seq-pol\": \"wait\", \"T-min-iou\": 0.1, \"T-max-age\": 3, \"T-every-nth-det\": 1}',\n",
       "        '6'],\n",
       "       ['{\"D-model\": \"efficientdet-d5\", \"D-conf\": 0.3, \"D-seq-pol\": \"eager\", \"T-min-iou\": 0.1, \"T-max-age\": 7, \"T-every-nth-det\": 1}',\n",
       "        '6'],\n",
       "       ['{\"D-model\": \"efficientdet-d7x\", \"D-conf\": 0.3, \"D-seq-pol\": \"eager\", \"T-min-iou\": 0.1, \"T-max-age\": 5, \"T-every-nth-det\": 1}',\n",
       "        '6'],\n",
       "       ['{\"D-model\": \"efficientdet-d5\", \"D-conf\": 0.5, \"D-seq-pol\": \"eager\", \"T-min-iou\": 0.1, \"T-max-age\": 7, \"T-every-nth-det\": 1}',\n",
       "        '6'],\n",
       "       ['{\"D-model\": \"efficientdet-d4\", \"D-conf\": 0.5, \"D-seq-pol\": \"wait\", \"T-min-iou\": 0.1, \"T-max-age\": 5, \"T-every-nth-det\": 1}',\n",
       "        '6'],\n",
       "       ['{\"D-model\": \"efficientdet-d6\", \"D-conf\": 0.5, \"D-seq-pol\": \"tail-aware\", \"T-min-iou\": 0.1, \"T-max-age\": 7, \"T-every-nth-det\": 1}',\n",
       "        '6'],\n",
       "       ['{\"D-model\": \"efficientdet-d7x\", \"D-conf\": 0.5, \"D-seq-pol\": \"tail-aware\", \"T-min-iou\": 0.1, \"T-max-age\": 1, \"T-every-nth-det\": 1}',\n",
       "        '6'],\n",
       "       ['{\"D-model\": \"efficientdet-d7x\", \"D-conf\": 0.5, \"D-seq-pol\": \"eager\", \"T-min-iou\": 0.1, \"T-max-age\": 5, \"T-every-nth-det\": 1}',\n",
       "        '5'],\n",
       "       ['{\"D-model\": \"efficientdet-d7x\", \"D-conf\": 0.3, \"D-seq-pol\": \"eager\", \"T-min-iou\": 0.1, \"T-max-age\": 3, \"T-every-nth-det\": 1}',\n",
       "        '5'],\n",
       "       ['{\"D-model\": \"efficientdet-d7x\", \"D-conf\": 0.3, \"D-seq-pol\": \"eager\", \"T-min-iou\": 0.1, \"T-max-age\": 1, \"T-every-nth-det\": 1}',\n",
       "        '5'],\n",
       "       ['{\"D-model\": \"efficientdet-d7x\", \"D-conf\": 0.3, \"D-seq-pol\": \"tail-aware\", \"T-min-iou\": 0.1, \"T-max-age\": 3, \"T-every-nth-det\": 1}',\n",
       "        '5'],\n",
       "       ['{\"D-model\": \"efficientdet-d6\", \"D-conf\": 0.3, \"D-seq-pol\": \"eager\", \"T-min-iou\": 0.1, \"T-max-age\": 7, \"T-every-nth-det\": 1}',\n",
       "        '5'],\n",
       "       ['{\"D-model\": \"efficientdet-d7x\", \"D-conf\": 0.5, \"D-seq-pol\": \"wait\", \"T-min-iou\": 0.1, \"T-max-age\": 5, \"T-every-nth-det\": 1}',\n",
       "        '5'],\n",
       "       ['{\"D-model\": \"efficientdet-d5\", \"D-conf\": 0.5, \"D-seq-pol\": \"tail-aware\", \"T-min-iou\": 0.1, \"T-max-age\": 5, \"T-every-nth-det\": 1}',\n",
       "        '5'],\n",
       "       ['{\"D-model\": \"efficientdet-d4\", \"D-conf\": 0.5, \"D-seq-pol\": \"tail-aware\", \"T-min-iou\": 0.1, \"T-max-age\": 3, \"T-every-nth-det\": 1}',\n",
       "        '5'],\n",
       "       ['{\"D-model\": \"efficientdet-d4\", \"D-conf\": 0.3, \"D-seq-pol\": \"tail-aware\", \"T-min-iou\": 0.1, \"T-max-age\": 3, \"T-every-nth-det\": 1}',\n",
       "        '5'],\n",
       "       ['{\"D-model\": \"efficientdet-d7\", \"D-conf\": 0.3, \"D-seq-pol\": \"wait\", \"T-min-iou\": 0.1, \"T-max-age\": 7, \"T-every-nth-det\": 1}',\n",
       "        '5'],\n",
       "       ['{\"D-model\": \"efficientdet-d5\", \"D-conf\": 0.5, \"D-seq-pol\": \"tail-aware\", \"T-min-iou\": 0.1, \"T-max-age\": 7, \"T-every-nth-det\": 1}',\n",
       "        '5'],\n",
       "       ['{\"D-model\": \"efficientdet-d7x\", \"D-conf\": 0.5, \"D-seq-pol\": \"tail-aware\", \"T-min-iou\": 0.1, \"T-max-age\": 7, \"T-every-nth-det\": 5}',\n",
       "        '4'],\n",
       "       ['{\"D-model\": \"efficientdet-d4\", \"D-conf\": 0.5, \"D-seq-pol\": \"tail-aware\", \"T-min-iou\": 0.1, \"T-max-age\": 5, \"T-every-nth-det\": 1}',\n",
       "        '4'],\n",
       "       ['{\"D-model\": \"efficientdet-d7\", \"D-conf\": 0.5, \"D-seq-pol\": \"wait\", \"T-min-iou\": 0.1, \"T-max-age\": 5, \"T-every-nth-det\": 1}',\n",
       "        '4'],\n",
       "       ['{\"D-model\": \"efficientdet-d6\", \"D-conf\": 0.3, \"D-seq-pol\": \"eager\", \"T-min-iou\": 0.1, \"T-max-age\": 1, \"T-every-nth-det\": 1}',\n",
       "        '4'],\n",
       "       ['{\"D-model\": \"efficientdet-d6\", \"D-conf\": 0.5, \"D-seq-pol\": \"eager\", \"T-min-iou\": 0.1, \"T-max-age\": 7, \"T-every-nth-det\": 1}',\n",
       "        '4'],\n",
       "       ['{\"D-model\": \"efficientdet-d1\", \"D-conf\": 0.5, \"D-seq-pol\": \"tail-aware\", \"T-min-iou\": 0.1, \"T-max-age\": 1, \"T-every-nth-det\": 1}',\n",
       "        '4'],\n",
       "       ['{\"D-model\": \"efficientdet-d7x\", \"D-conf\": 0.5, \"D-seq-pol\": \"wait\", \"T-min-iou\": 0.1, \"T-max-age\": 7, \"T-every-nth-det\": 5}',\n",
       "        '4'],\n",
       "       ['{\"D-model\": \"efficientdet-d4\", \"D-conf\": 0.5, \"D-seq-pol\": \"wait\", \"T-min-iou\": 0.1, \"T-max-age\": 1, \"T-every-nth-det\": 1}',\n",
       "        '4'],\n",
       "       ['{\"D-model\": \"efficientdet-d4\", \"D-conf\": 0.5, \"D-seq-pol\": \"eager\", \"T-min-iou\": 0.1, \"T-max-age\": 1, \"T-every-nth-det\": 1}',\n",
       "        '4'],\n",
       "       ['{\"D-model\": \"efficientdet-d2\", \"D-conf\": 0.5, \"D-seq-pol\": \"tail-aware\", \"T-min-iou\": 0.1, \"T-max-age\": 1, \"T-every-nth-det\": 1}',\n",
       "        '4'],\n",
       "       ['{\"D-model\": \"efficientdet-d3\", \"D-conf\": 0.3, \"D-seq-pol\": \"wait\", \"T-min-iou\": 0.1, \"T-max-age\": 1, \"T-every-nth-det\": 1}',\n",
       "        '4'],\n",
       "       ['{\"D-model\": \"efficientdet-d7x\", \"D-conf\": 0.5, \"D-seq-pol\": \"eager\", \"T-min-iou\": 0.1, \"T-max-age\": 1, \"T-every-nth-det\": 1}',\n",
       "        '4'],\n",
       "       ['{\"D-model\": \"efficientdet-d7x\", \"D-conf\": 0.3, \"D-seq-pol\": \"wait\", \"T-min-iou\": 0.1, \"T-max-age\": 5, \"T-every-nth-det\": 1}',\n",
       "        '4'],\n",
       "       ['{\"D-model\": \"efficientdet-d6\", \"D-conf\": 0.5, \"D-seq-pol\": \"wait\", \"T-min-iou\": 0.1, \"T-max-age\": 1, \"T-every-nth-det\": 1}',\n",
       "        '4'],\n",
       "       ['{\"D-model\": \"efficientdet-d7x\", \"D-conf\": 0.5, \"D-seq-pol\": \"eager\", \"T-min-iou\": 0.1, \"T-max-age\": 7, \"T-every-nth-det\": 5}',\n",
       "        '4'],\n",
       "       ['{\"D-model\": \"efficientdet-d7x\", \"D-conf\": 0.5, \"D-seq-pol\": \"tail-aware\", \"T-min-iou\": 0.1, \"T-max-age\": 3, \"T-every-nth-det\": 1}',\n",
       "        '4'],\n",
       "       ['{\"D-model\": \"efficientdet-d7x\", \"D-conf\": 0.3, \"D-seq-pol\": \"tail-aware\", \"T-min-iou\": 0.1, \"T-max-age\": 1, \"T-every-nth-det\": 1}',\n",
       "        '4'],\n",
       "       ['{\"D-model\": \"efficientdet-d7x\", \"D-conf\": 0.5, \"D-seq-pol\": \"tail-aware\", \"T-min-iou\": 0.1, \"T-max-age\": 5, \"T-every-nth-det\": 1}',\n",
       "        '4'],\n",
       "       ['{\"D-model\": \"efficientdet-d4\", \"D-conf\": 0.5, \"D-seq-pol\": \"eager\", \"T-min-iou\": 0.1, \"T-max-age\": 3, \"T-every-nth-det\": 1}',\n",
       "        '4'],\n",
       "       ['{\"D-model\": \"efficientdet-d6\", \"D-conf\": 0.5, \"D-seq-pol\": \"tail-aware\", \"T-min-iou\": 0.1, \"T-max-age\": 3, \"T-every-nth-det\": 1}',\n",
       "        '3'],\n",
       "       ['{\"D-model\": \"efficientdet-d5\", \"D-conf\": 0.5, \"D-seq-pol\": \"wait\", \"T-min-iou\": 0.1, \"T-max-age\": 5, \"T-every-nth-det\": 1}',\n",
       "        '3'],\n",
       "       ['{\"D-model\": \"efficientdet-d5\", \"D-conf\": 0.3, \"D-seq-pol\": \"wait\", \"T-min-iou\": 0.2, \"T-max-age\": 7, \"T-every-nth-det\": 1}',\n",
       "        '3'],\n",
       "       ['{\"D-model\": \"efficientdet-d7\", \"D-conf\": 0.3, \"D-seq-pol\": \"eager\", \"T-min-iou\": 0.1, \"T-max-age\": 7, \"T-every-nth-det\": 3}',\n",
       "        '3'],\n",
       "       ['{\"D-model\": \"efficientdet-d7\", \"D-conf\": 0.3, \"D-seq-pol\": \"tail-aware\", \"T-min-iou\": 0.1, \"T-max-age\": 5, \"T-every-nth-det\": 1}',\n",
       "        '3'],\n",
       "       ['{\"D-model\": \"efficientdet-d6\", \"D-conf\": 0.5, \"D-seq-pol\": \"wait\", \"T-min-iou\": 0.1, \"T-max-age\": 3, \"T-every-nth-det\": 1}',\n",
       "        '3'],\n",
       "       ['{\"D-model\": \"efficientdet-d5\", \"D-conf\": 0.3, \"D-seq-pol\": \"eager\", \"T-min-iou\": 0.1, \"T-max-age\": 5, \"T-every-nth-det\": 1}',\n",
       "        '3'],\n",
       "       ['{\"D-model\": \"efficientdet-d6\", \"D-conf\": 0.3, \"D-seq-pol\": \"wait\", \"T-min-iou\": 0.3, \"T-max-age\": 1, \"T-every-nth-det\": 1}',\n",
       "        '3'],\n",
       "       ['{\"D-model\": \"efficientdet-d6\", \"D-conf\": 0.5, \"D-seq-pol\": \"wait\", \"T-min-iou\": 0.1, \"T-max-age\": 5, \"T-every-nth-det\": 1}',\n",
       "        '3'],\n",
       "       ['{\"D-model\": \"efficientdet-d5\", \"D-conf\": 0.5, \"D-seq-pol\": \"wait\", \"T-min-iou\": 0.1, \"T-max-age\": 1, \"T-every-nth-det\": 1}',\n",
       "        '3'],\n",
       "       ['{\"D-model\": \"efficientdet-d4\", \"D-conf\": 0.5, \"D-seq-pol\": \"wait\", \"T-min-iou\": 0.1, \"T-max-age\": 3, \"T-every-nth-det\": 1}',\n",
       "        '3'],\n",
       "       ['{\"D-model\": \"efficientdet-d4\", \"D-conf\": 0.5, \"D-seq-pol\": \"eager\", \"T-min-iou\": 0.1, \"T-max-age\": 5, \"T-every-nth-det\": 1}',\n",
       "        '3'],\n",
       "       ['{\"D-model\": \"efficientdet-d7x\", \"D-conf\": 0.5, \"D-seq-pol\": \"tail-aware\", \"T-min-iou\": 0.1, \"T-max-age\": 7, \"T-every-nth-det\": 3}',\n",
       "        '3'],\n",
       "       ['{\"D-model\": \"efficientdet-d3\", \"D-conf\": 0.3, \"D-seq-pol\": \"wait\", \"T-min-iou\": 0.1, \"T-max-age\": 3, \"T-every-nth-det\": 1}',\n",
       "        '3'],\n",
       "       ['{\"D-model\": \"efficientdet-d3\", \"D-conf\": 0.5, \"D-seq-pol\": \"eager\", \"T-min-iou\": 0.1, \"T-max-age\": 1, \"T-every-nth-det\": 1}',\n",
       "        '3'],\n",
       "       ['{\"D-model\": \"efficientdet-d3\", \"D-conf\": 0.5, \"D-seq-pol\": \"tail-aware\", \"T-min-iou\": 0.1, \"T-max-age\": 7, \"T-every-nth-det\": 1}',\n",
       "        '3'],\n",
       "       ['{\"D-model\": \"efficientdet-d4\", \"D-conf\": 0.5, \"D-seq-pol\": \"tail-aware\", \"T-min-iou\": 0.2, \"T-max-age\": 1, \"T-every-nth-det\": 1}',\n",
       "        '3'],\n",
       "       ['{\"D-model\": \"efficientdet-d7x\", \"D-conf\": 0.3, \"D-seq-pol\": \"tail-aware\", \"T-min-iou\": 0.1, \"T-max-age\": 7, \"T-every-nth-det\": 3}',\n",
       "        '3'],\n",
       "       ['{\"D-model\": \"efficientdet-d7x\", \"D-conf\": 0.3, \"D-seq-pol\": \"tail-aware\", \"T-min-iou\": 0.1, \"T-max-age\": 5, \"T-every-nth-det\": 3}',\n",
       "        '3'],\n",
       "       ['{\"D-model\": \"efficientdet-d6\", \"D-conf\": 0.3, \"D-seq-pol\": \"tail-aware\", \"T-min-iou\": 0.1, \"T-max-age\": 7, \"T-every-nth-det\": 1}',\n",
       "        '3'],\n",
       "       ['{\"D-model\": \"efficientdet-d6\", \"D-conf\": 0.3, \"D-seq-pol\": \"tail-aware\", \"T-min-iou\": 0.1, \"T-max-age\": 5, \"T-every-nth-det\": 1}',\n",
       "        '3'],\n",
       "       ['{\"D-model\": \"efficientdet-d7\", \"D-conf\": 0.5, \"D-seq-pol\": \"tail-aware\", \"T-min-iou\": 0.1, \"T-max-age\": 3, \"T-every-nth-det\": 1}',\n",
       "        '3'],\n",
       "       ['{\"D-model\": \"efficientdet-d7\", \"D-conf\": 0.5, \"D-seq-pol\": \"wait\", \"T-min-iou\": 0.1, \"T-max-age\": 7, \"T-every-nth-det\": 1}',\n",
       "        '3'],\n",
       "       ['{\"D-model\": \"efficientdet-d7\", \"D-conf\": 0.5, \"D-seq-pol\": \"tail-aware\", \"T-min-iou\": 0.1, \"T-max-age\": 7, \"T-every-nth-det\": 1}',\n",
       "        '3'],\n",
       "       ['{\"D-model\": \"efficientdet-d7\", \"D-conf\": 0.5, \"D-seq-pol\": \"tail-aware\", \"T-min-iou\": 0.1, \"T-max-age\": 5, \"T-every-nth-det\": 1}',\n",
       "        '3'],\n",
       "       ['{\"D-model\": \"efficientdet-d5\", \"D-conf\": 0.3, \"D-seq-pol\": \"wait\", \"T-min-iou\": 0.1, \"T-max-age\": 1, \"T-every-nth-det\": 1}',\n",
       "        '2'],\n",
       "       ['{\"D-model\": \"efficientdet-d1\", \"D-conf\": 0.3, \"D-seq-pol\": \"tail-aware\", \"T-min-iou\": 0.1, \"T-max-age\": 1, \"T-every-nth-det\": 3}',\n",
       "        '2'],\n",
       "       ['{\"D-model\": \"efficientdet-d6\", \"D-conf\": 0.3, \"D-seq-pol\": \"tail-aware\", \"T-min-iou\": 0.1, \"T-max-age\": 1, \"T-every-nth-det\": 1}',\n",
       "        '2'],\n",
       "       ['{\"D-model\": \"efficientdet-d2\", \"D-conf\": 0.3, \"D-seq-pol\": \"eager\", \"T-min-iou\": 0.1, \"T-max-age\": 1, \"T-every-nth-det\": 1}',\n",
       "        '2'],\n",
       "       ['{\"D-model\": \"efficientdet-d2\", \"D-conf\": 0.3, \"D-seq-pol\": \"eager\", \"T-min-iou\": 0.2, \"T-max-age\": 1, \"T-every-nth-det\": 1}',\n",
       "        '2'],\n",
       "       ['{\"D-model\": \"efficientdet-d2\", \"D-conf\": 0.3, \"D-seq-pol\": \"tail-aware\", \"T-min-iou\": 0.2, \"T-max-age\": 1, \"T-every-nth-det\": 1}',\n",
       "        '2'],\n",
       "       ['{\"D-model\": \"efficientdet-d4\", \"D-conf\": 0.5, \"D-seq-pol\": \"wait\", \"T-min-iou\": 0.2, \"T-max-age\": 3, \"T-every-nth-det\": 1}',\n",
       "        '2'],\n",
       "       ['{\"D-model\": \"efficientdet-d3\", \"D-conf\": 0.3, \"D-seq-pol\": \"eager\", \"T-min-iou\": 0.1, \"T-max-age\": 3, \"T-every-nth-det\": 1}',\n",
       "        '2'],\n",
       "       ['{\"D-model\": \"efficientdet-d3\", \"D-conf\": 0.3, \"D-seq-pol\": \"tail-aware\", \"T-min-iou\": 0.1, \"T-max-age\": 1, \"T-every-nth-det\": 1}',\n",
       "        '2'],\n",
       "       ['{\"D-model\": \"efficientdet-d3\", \"D-conf\": 0.3, \"D-seq-pol\": \"tail-aware\", \"T-min-iou\": 0.1, \"T-max-age\": 3, \"T-every-nth-det\": 5}',\n",
       "        '2'],\n",
       "       ['{\"D-model\": \"efficientdet-d3\", \"D-conf\": 0.3, \"D-seq-pol\": \"wait\", \"T-min-iou\": 0.1, \"T-max-age\": 7, \"T-every-nth-det\": 1}',\n",
       "        '2'],\n",
       "       ['{\"D-model\": \"efficientdet-d7x\", \"D-conf\": 0.5, \"D-seq-pol\": \"wait\", \"T-min-iou\": 0.2, \"T-max-age\": 3, \"T-every-nth-det\": 3}',\n",
       "        '2'],\n",
       "       ['{\"D-model\": \"efficientdet-d5\", \"D-conf\": 0.3, \"D-seq-pol\": \"wait\", \"T-min-iou\": 0.1, \"T-max-age\": 3, \"T-every-nth-det\": 1}',\n",
       "        '2'],\n",
       "       ['{\"D-model\": \"efficientdet-d3\", \"D-conf\": 0.5, \"D-seq-pol\": \"eager\", \"T-min-iou\": 0.1, \"T-max-age\": 3, \"T-every-nth-det\": 1}',\n",
       "        '2'],\n",
       "       ['{\"D-model\": \"efficientdet-d4\", \"D-conf\": 0.3, \"D-seq-pol\": \"wait\", \"T-min-iou\": 0.1, \"T-max-age\": 5, \"T-every-nth-det\": 1}',\n",
       "        '2'],\n",
       "       ['{\"D-model\": \"efficientdet-d5\", \"D-conf\": 0.3, \"D-seq-pol\": \"tail-aware\", \"T-min-iou\": 0.1, \"T-max-age\": 1, \"T-every-nth-det\": 1}',\n",
       "        '2'],\n",
       "       ['{\"D-model\": \"efficientdet-d5\", \"D-conf\": 0.3, \"D-seq-pol\": \"tail-aware\", \"T-min-iou\": 0.1, \"T-max-age\": 3, \"T-every-nth-det\": 1}',\n",
       "        '2'],\n",
       "       ['{\"D-model\": \"efficientdet-d4\", \"D-conf\": 0.5, \"D-seq-pol\": \"eager\", \"T-min-iou\": 0.2, \"T-max-age\": 3, \"T-every-nth-det\": 1}',\n",
       "        '2'],\n",
       "       ['{\"D-model\": \"efficientdet-d5\", \"D-conf\": 0.3, \"D-seq-pol\": \"wait\", \"T-min-iou\": 0.1, \"T-max-age\": 5, \"T-every-nth-det\": 1}',\n",
       "        '2'],\n",
       "       ['{\"D-model\": \"efficientdet-d4\", \"D-conf\": 0.3, \"D-seq-pol\": \"wait\", \"T-min-iou\": 0.2, \"T-max-age\": 5, \"T-every-nth-det\": 1}',\n",
       "        '2'],\n",
       "       ['{\"D-model\": \"efficientdet-d5\", \"D-conf\": 0.5, \"D-seq-pol\": \"eager\", \"T-min-iou\": 0.1, \"T-max-age\": 5, \"T-every-nth-det\": 1}',\n",
       "        '2'],\n",
       "       ['{\"D-model\": \"efficientdet-d7x\", \"D-conf\": 0.5, \"D-seq-pol\": \"wait\", \"T-min-iou\": 0.3, \"T-max-age\": 3, \"T-every-nth-det\": 1}',\n",
       "        '2'],\n",
       "       ['{\"D-model\": \"efficientdet-d7x\", \"D-conf\": 0.3, \"D-seq-pol\": \"eager\", \"T-min-iou\": 0.1, \"T-max-age\": 7, \"T-every-nth-det\": 5}',\n",
       "        '2'],\n",
       "       ['{\"D-model\": \"efficientdet-d6\", \"D-conf\": 0.5, \"D-seq-pol\": \"wait\", \"T-min-iou\": 0.1, \"T-max-age\": 7, \"T-every-nth-det\": 1}',\n",
       "        '2'],\n",
       "       ['{\"D-model\": \"efficientdet-d7x\", \"D-conf\": 0.3, \"D-seq-pol\": \"wait\", \"T-min-iou\": 0.1, \"T-max-age\": 3, \"T-every-nth-det\": 3}',\n",
       "        '2'],\n",
       "       ['{\"D-model\": \"efficientdet-d7x\", \"D-conf\": 0.3, \"D-seq-pol\": \"tail-aware\", \"T-min-iou\": 0.2, \"T-max-age\": 7, \"T-every-nth-det\": 1}',\n",
       "        '2'],\n",
       "       ['{\"D-model\": \"efficientdet-d7x\", \"D-conf\": 0.3, \"D-seq-pol\": \"tail-aware\", \"T-min-iou\": 0.1, \"T-max-age\": 7, \"T-every-nth-det\": 5}',\n",
       "        '2'],\n",
       "       ['{\"D-model\": \"efficientdet-d7x\", \"D-conf\": 0.3, \"D-seq-pol\": \"eager\", \"T-min-iou\": 0.2, \"T-max-age\": 7, \"T-every-nth-det\": 1}',\n",
       "        '2'],\n",
       "       ['{\"D-model\": \"efficientdet-d6\", \"D-conf\": 0.3, \"D-seq-pol\": \"wait\", \"T-min-iou\": 0.1, \"T-max-age\": 1, \"T-every-nth-det\": 1}',\n",
       "        '2'],\n",
       "       ['{\"D-model\": \"efficientdet-d7\", \"D-conf\": 0.5, \"D-seq-pol\": \"wait\", \"T-min-iou\": 0.1, \"T-max-age\": 3, \"T-every-nth-det\": 1}',\n",
       "        '2'],\n",
       "       ['{\"D-model\": \"efficientdet-d7\", \"D-conf\": 0.5, \"D-seq-pol\": \"tail-aware\", \"T-min-iou\": 0.2, \"T-max-age\": 7, \"T-every-nth-det\": 1}',\n",
       "        '2'],\n",
       "       ['{\"D-model\": \"efficientdet-d7\", \"D-conf\": 0.5, \"D-seq-pol\": \"eager\", \"T-min-iou\": 0.1, \"T-max-age\": 7, \"T-every-nth-det\": 3}',\n",
       "        '2'],\n",
       "       ['{\"D-model\": \"efficientdet-d7\", \"D-conf\": 0.5, \"D-seq-pol\": \"eager\", \"T-min-iou\": 0.1, \"T-max-age\": 3, \"T-every-nth-det\": 1}',\n",
       "        '2'],\n",
       "       ['{\"D-model\": \"efficientdet-d7x\", \"D-conf\": 0.5, \"D-seq-pol\": \"eager\", \"T-min-iou\": 0.1, \"T-max-age\": 1, \"T-every-nth-det\": 5}',\n",
       "        '2'],\n",
       "       ['{\"D-model\": \"efficientdet-d7x\", \"D-conf\": 0.5, \"D-seq-pol\": \"eager\", \"T-min-iou\": 0.1, \"T-max-age\": 3, \"T-every-nth-det\": 1}',\n",
       "        '2'],\n",
       "       ['{\"D-model\": \"efficientdet-d7\", \"D-conf\": 0.3, \"D-seq-pol\": \"tail-aware\", \"T-min-iou\": 0.1, \"T-max-age\": 7, \"T-every-nth-det\": 5}',\n",
       "        '2'],\n",
       "       ['{\"D-model\": \"efficientdet-d7\", \"D-conf\": 0.3, \"D-seq-pol\": \"eager\", \"T-min-iou\": 0.1, \"T-max-age\": 3, \"T-every-nth-det\": 1}',\n",
       "        '2'],\n",
       "       ['{\"D-model\": \"efficientdet-d7x\", \"D-conf\": 0.5, \"D-seq-pol\": \"tail-aware\", \"T-min-iou\": 0.1, \"T-max-age\": 5, \"T-every-nth-det\": 3}',\n",
       "        '2'],\n",
       "       ['{\"D-model\": \"efficientdet-d7\", \"D-conf\": 0.3, \"D-seq-pol\": \"wait\", \"T-min-iou\": 0.2, \"T-max-age\": 7, \"T-every-nth-det\": 1}',\n",
       "        '2'],\n",
       "       ['{\"D-model\": \"efficientdet-d7x\", \"D-conf\": 0.3, \"D-seq-pol\": \"wait\", \"T-min-iou\": 0.1, \"T-max-age\": 3, \"T-every-nth-det\": 1}',\n",
       "        '2'],\n",
       "       ['{\"D-model\": \"efficientdet-d7x\", \"D-conf\": 0.5, \"D-seq-pol\": \"wait\", \"T-min-iou\": 0.1, \"T-max-age\": 7, \"T-every-nth-det\": 3}',\n",
       "        '2'],\n",
       "       ['{\"D-model\": \"efficientdet-d6\", \"D-conf\": 0.5, \"D-seq-pol\": \"tail-aware\", \"T-min-iou\": 0.1, \"T-max-age\": 1, \"T-every-nth-det\": 1}',\n",
       "        '2'],\n",
       "       ['{\"D-model\": \"efficientdet-d7x\", \"D-conf\": 0.5, \"D-seq-pol\": \"wait\", \"T-min-iou\": 0.2, \"T-max-age\": 3, \"T-every-nth-det\": 1}',\n",
       "        '1'],\n",
       "       ['{\"D-model\": \"efficientdet-d1\", \"D-conf\": 0.3, \"D-seq-pol\": \"wait\", \"T-min-iou\": 0.1, \"T-max-age\": 1, \"T-every-nth-det\": 1}',\n",
       "        '1'],\n",
       "       ['{\"D-model\": \"efficientdet-d3\", \"D-conf\": 0.5, \"D-seq-pol\": \"eager\", \"T-min-iou\": 0.1, \"T-max-age\": 5, \"T-every-nth-det\": 1}',\n",
       "        '1'],\n",
       "       ['{\"D-model\": \"efficientdet-d3\", \"D-conf\": 0.5, \"D-seq-pol\": \"eager\", \"T-min-iou\": 0.1, \"T-max-age\": 7, \"T-every-nth-det\": 1}',\n",
       "        '1'],\n",
       "       ['{\"D-model\": \"efficientdet-d3\", \"D-conf\": 0.5, \"D-seq-pol\": \"tail-aware\", \"T-min-iou\": 0.1, \"T-max-age\": 1, \"T-every-nth-det\": 1}',\n",
       "        '1'],\n",
       "       ['{\"D-model\": \"efficientdet-d3\", \"D-conf\": 0.5, \"D-seq-pol\": \"tail-aware\", \"T-min-iou\": 0.1, \"T-max-age\": 3, \"T-every-nth-det\": 3}',\n",
       "        '1'],\n",
       "       ['{\"D-model\": \"efficientdet-d3\", \"D-conf\": 0.5, \"D-seq-pol\": \"tail-aware\", \"T-min-iou\": 0.1, \"T-max-age\": 5, \"T-every-nth-det\": 1}',\n",
       "        '1'],\n",
       "       ['{\"D-model\": \"efficientdet-d3\", \"D-conf\": 0.5, \"D-seq-pol\": \"tail-aware\", \"T-min-iou\": 0.1, \"T-max-age\": 5, \"T-every-nth-det\": 5}',\n",
       "        '1'],\n",
       "       ['{\"D-model\": \"efficientdet-d7x\", \"D-conf\": 0.3, \"D-seq-pol\": \"wait\", \"T-min-iou\": 0.3, \"T-max-age\": 7, \"T-every-nth-det\": 1}',\n",
       "        '1'],\n",
       "       ['{\"D-model\": \"efficientdet-d1\", \"D-conf\": 0.3, \"D-seq-pol\": \"tail-aware\", \"T-min-iou\": 0.1, \"T-max-age\": 1, \"T-every-nth-det\": 1}',\n",
       "        '1'],\n",
       "       ['{\"D-model\": \"efficientdet-d1\", \"D-conf\": 0.5, \"D-seq-pol\": \"eager\", \"T-min-iou\": 0.1, \"T-max-age\": 3, \"T-every-nth-det\": 1}',\n",
       "        '1'],\n",
       "       ['{\"D-model\": \"efficientdet-d3\", \"D-conf\": 0.5, \"D-seq-pol\": \"wait\", \"T-min-iou\": 0.1, \"T-max-age\": 1, \"T-every-nth-det\": 1}',\n",
       "        '1'],\n",
       "       ['{\"D-model\": \"efficientdet-d3\", \"D-conf\": 0.5, \"D-seq-pol\": \"wait\", \"T-min-iou\": 0.1, \"T-max-age\": 3, \"T-every-nth-det\": 1}',\n",
       "        '1'],\n",
       "       ['{\"D-model\": \"efficientdet-d3\", \"D-conf\": 0.5, \"D-seq-pol\": \"wait\", \"T-min-iou\": 0.1, \"T-max-age\": 5, \"T-every-nth-det\": 3}',\n",
       "        '1'],\n",
       "       ['{\"D-model\": \"efficientdet-d3\", \"D-conf\": 0.5, \"D-seq-pol\": \"wait\", \"T-min-iou\": 0.2, \"T-max-age\": 3, \"T-every-nth-det\": 1}',\n",
       "        '1'],\n",
       "       ['{\"D-model\": \"efficientdet-d3\", \"D-conf\": 0.5, \"D-seq-pol\": \"eager\", \"T-min-iou\": 0.1, \"T-max-age\": 3, \"T-every-nth-det\": 5}',\n",
       "        '1'],\n",
       "       ['{\"D-model\": \"efficientdet-d7x\", \"D-conf\": 0.3, \"D-seq-pol\": \"wait\", \"T-min-iou\": 0.2, \"T-max-age\": 7, \"T-every-nth-det\": 1}',\n",
       "        '1'],\n",
       "       ['{\"D-model\": \"efficientdet-d4\", \"D-conf\": 0.3, \"D-seq-pol\": \"eager\", \"T-min-iou\": 0.1, \"T-max-age\": 3, \"T-every-nth-det\": 3}',\n",
       "        '1'],\n",
       "       ['{\"D-model\": \"efficientdet-d7x\", \"D-conf\": 0.3, \"D-seq-pol\": \"wait\", \"T-min-iou\": 0.2, \"T-max-age\": 5, \"T-every-nth-det\": 1}',\n",
       "        '1'],\n",
       "       ['{\"D-model\": \"efficientdet-d7x\", \"D-conf\": 0.3, \"D-seq-pol\": \"wait\", \"T-min-iou\": 0.1, \"T-max-age\": 7, \"T-every-nth-det\": 5}',\n",
       "        '1'],\n",
       "       ['{\"D-model\": \"efficientdet-d4\", \"D-conf\": 0.3, \"D-seq-pol\": \"eager\", \"T-min-iou\": 0.2, \"T-max-age\": 7, \"T-every-nth-det\": 1}',\n",
       "        '1'],\n",
       "       ['{\"D-model\": \"efficientdet-d7x\", \"D-conf\": 0.3, \"D-seq-pol\": \"wait\", \"T-min-iou\": 0.1, \"T-max-age\": 7, \"T-every-nth-det\": 3}',\n",
       "        '1'],\n",
       "       ['{\"D-model\": \"efficientdet-d1\", \"D-conf\": 0.3, \"D-seq-pol\": \"wait\", \"T-min-iou\": 0.5, \"T-max-age\": 1, \"T-every-nth-det\": 3}',\n",
       "        '1'],\n",
       "       ['{\"D-model\": \"efficientdet-d1\", \"D-conf\": 0.3, \"D-seq-pol\": \"wait\", \"T-min-iou\": 0.2, \"T-max-age\": 3, \"T-every-nth-det\": 1}',\n",
       "        '1'],\n",
       "       ['{\"D-model\": \"efficientdet-d7x\", \"D-conf\": 0.3, \"D-seq-pol\": \"wait\", \"T-min-iou\": 0.1, \"T-max-age\": 3, \"T-every-nth-det\": 5}',\n",
       "        '1'],\n",
       "       ['{\"D-model\": \"efficientdet-d7x\", \"D-conf\": 0.3, \"D-seq-pol\": \"wait\", \"T-min-iou\": 0.3, \"T-max-age\": 5, \"T-every-nth-det\": 1}',\n",
       "        '1'],\n",
       "       ['{\"D-model\": \"efficientdet-d7x\", \"D-conf\": 0.5, \"D-seq-pol\": \"wait\", \"T-min-iou\": 0.1, \"T-max-age\": 1, \"T-every-nth-det\": 1}',\n",
       "        '1'],\n",
       "       ['{\"D-model\": \"efficientdet-d2\", \"D-conf\": 0.3, \"D-seq-pol\": \"wait\", \"T-min-iou\": 0.1, \"T-max-age\": 7, \"T-every-nth-det\": 1}',\n",
       "        '1'],\n",
       "       ['{\"D-model\": \"efficientdet-d3\", \"D-conf\": 0.3, \"D-seq-pol\": \"eager\", \"T-min-iou\": 0.1, \"T-max-age\": 7, \"T-every-nth-det\": 1}',\n",
       "        '1'],\n",
       "       ['{\"D-model\": \"efficientdet-d2\", \"D-conf\": 0.5, \"D-seq-pol\": \"eager\", \"T-min-iou\": 0.1, \"T-max-age\": 1, \"T-every-nth-det\": 1}',\n",
       "        '1'],\n",
       "       ['{\"D-model\": \"efficientdet-d2\", \"D-conf\": 0.5, \"D-seq-pol\": \"eager\", \"T-min-iou\": 0.1, \"T-max-age\": 7, \"T-every-nth-det\": 1}',\n",
       "        '1'],\n",
       "       ['{\"D-model\": \"efficientdet-d2\", \"D-conf\": 0.5, \"D-seq-pol\": \"eager\", \"T-min-iou\": 0.1, \"T-max-age\": 7, \"T-every-nth-det\": 3}',\n",
       "        '1'],\n",
       "       ['{\"D-model\": \"efficientdet-d2\", \"D-conf\": 0.5, \"D-seq-pol\": \"eager\", \"T-min-iou\": 0.2, \"T-max-age\": 1, \"T-every-nth-det\": 3}',\n",
       "        '1'],\n",
       "       ['{\"D-model\": \"efficientdet-d2\", \"D-conf\": 0.3, \"D-seq-pol\": \"tail-aware\", \"T-min-iou\": 0.1, \"T-max-age\": 5, \"T-every-nth-det\": 1}',\n",
       "        '1'],\n",
       "       ['{\"D-model\": \"efficientdet-d2\", \"D-conf\": 0.5, \"D-seq-pol\": \"tail-aware\", \"T-min-iou\": 0.1, \"T-max-age\": 3, \"T-every-nth-det\": 1}',\n",
       "        '1'],\n",
       "       ['{\"D-model\": \"efficientdet-d2\", \"D-conf\": 0.3, \"D-seq-pol\": \"eager\", \"T-min-iou\": 0.2, \"T-max-age\": 3, \"T-every-nth-det\": 1}',\n",
       "        '1'],\n",
       "       ['{\"D-model\": \"efficientdet-d2\", \"D-conf\": 0.5, \"D-seq-pol\": \"wait\", \"T-min-iou\": 0.1, \"T-max-age\": 1, \"T-every-nth-det\": 1}',\n",
       "        '1'],\n",
       "       ['{\"D-model\": \"efficientdet-d2\", \"D-conf\": 0.5, \"D-seq-pol\": \"wait\", \"T-min-iou\": 0.1, \"T-max-age\": 1, \"T-every-nth-det\": 3}',\n",
       "        '1'],\n",
       "       ['{\"D-model\": \"efficientdet-d2\", \"D-conf\": 0.5, \"D-seq-pol\": \"wait\", \"T-min-iou\": 0.1, \"T-max-age\": 3, \"T-every-nth-det\": 1}',\n",
       "        '1'],\n",
       "       ['{\"D-model\": \"efficientdet-d7x\", \"D-conf\": 0.5, \"D-seq-pol\": \"eager\", \"T-min-iou\": 0.2, \"T-max-age\": 5, \"T-every-nth-det\": 1}',\n",
       "        '1'],\n",
       "       ['{\"D-model\": \"efficientdet-d7x\", \"D-conf\": 0.5, \"D-seq-pol\": \"wait\", \"T-min-iou\": 0.1, \"T-max-age\": 1, \"T-every-nth-det\": 3}',\n",
       "        '1'],\n",
       "       ['{\"D-model\": \"efficientdet-d3\", \"D-conf\": 0.3, \"D-seq-pol\": \"eager\", \"T-min-iou\": 0.2, \"T-max-age\": 1, \"T-every-nth-det\": 1}',\n",
       "        '1'],\n",
       "       ['{\"D-model\": \"efficientdet-d7x\", \"D-conf\": 0.3, \"D-seq-pol\": \"wait\", \"T-min-iou\": 0.3, \"T-max-age\": 7, \"T-every-nth-det\": 5}',\n",
       "        '1'],\n",
       "       ['{\"D-model\": \"efficientdet-d7x\", \"D-conf\": 0.5, \"D-seq-pol\": \"eager\", \"T-min-iou\": 0.2, \"T-max-age\": 3, \"T-every-nth-det\": 1}',\n",
       "        '1'],\n",
       "       ['{\"D-model\": \"efficientdet-d7x\", \"D-conf\": 0.5, \"D-seq-pol\": \"eager\", \"T-min-iou\": 0.1, \"T-max-age\": 5, \"T-every-nth-det\": 3}',\n",
       "        '1'],\n",
       "       ['{\"D-model\": \"efficientdet-d3\", \"D-conf\": 0.3, \"D-seq-pol\": \"tail-aware\", \"T-min-iou\": 0.1, \"T-max-age\": 5, \"T-every-nth-det\": 1}',\n",
       "        '1'],\n",
       "       ['{\"D-model\": \"efficientdet-d3\", \"D-conf\": 0.3, \"D-seq-pol\": \"tail-aware\", \"T-min-iou\": 0.1, \"T-max-age\": 7, \"T-every-nth-det\": 3}',\n",
       "        '1'],\n",
       "       ['{\"D-model\": \"efficientdet-d3\", \"D-conf\": 0.3, \"D-seq-pol\": \"tail-aware\", \"T-min-iou\": 0.2, \"T-max-age\": 3, \"T-every-nth-det\": 1}',\n",
       "        '1'],\n",
       "       ['{\"D-model\": \"efficientdet-d4\", \"D-conf\": 0.3, \"D-seq-pol\": \"tail-aware\", \"T-min-iou\": 0.2, \"T-max-age\": 1, \"T-every-nth-det\": 1}',\n",
       "        '1'],\n",
       "       ['{\"D-model\": \"efficientdet-d3\", \"D-conf\": 0.3, \"D-seq-pol\": \"tail-aware\", \"T-min-iou\": 0.2, \"T-max-age\": 3, \"T-every-nth-det\": 5}',\n",
       "        '1'],\n",
       "       ['{\"D-model\": \"efficientdet-d7x\", \"D-conf\": 0.5, \"D-seq-pol\": \"eager\", \"T-min-iou\": 0.1, \"T-max-age\": 3, \"T-every-nth-det\": 5}',\n",
       "        '1'],\n",
       "       ['{\"D-model\": \"efficientdet-d7x\", \"D-conf\": 0.5, \"D-seq-pol\": \"wait\", \"T-min-iou\": 0.1, \"T-max-age\": 3, \"T-every-nth-det\": 3}',\n",
       "        '1'],\n",
       "       ['{\"D-model\": \"efficientdet-d1\", \"D-conf\": 0.5, \"D-seq-pol\": \"wait\", \"T-min-iou\": 0.1, \"T-max-age\": 7, \"T-every-nth-det\": 1}',\n",
       "        '1'],\n",
       "       ['{\"D-model\": \"efficientdet-d3\", \"D-conf\": 0.3, \"D-seq-pol\": \"wait\", \"T-min-iou\": 0.3, \"T-max-age\": 7, \"T-every-nth-det\": 1}',\n",
       "        '1'],\n",
       "       ['{\"D-model\": \"efficientdet-d7x\", \"D-conf\": 0.3, \"D-seq-pol\": \"wait\", \"T-min-iou\": 0.5, \"T-max-age\": 7, \"T-every-nth-det\": 1}',\n",
       "        '1'],\n",
       "       ['{\"D-model\": \"efficientdet-d1\", \"D-conf\": 0.5, \"D-seq-pol\": \"tail-aware\", \"T-min-iou\": 0.1, \"T-max-age\": 3, \"T-every-nth-det\": 1}',\n",
       "        '1'],\n",
       "       ['{\"D-model\": \"efficientdet-d6\", \"D-conf\": 0.3, \"D-seq-pol\": \"tail-aware\", \"T-min-iou\": 0.2, \"T-max-age\": 7, \"T-every-nth-det\": 1}',\n",
       "        '1'],\n",
       "       ['{\"D-model\": \"efficientdet-d7x\", \"D-conf\": 0.3, \"D-seq-pol\": \"wait\", \"T-min-iou\": 0.1, \"T-max-age\": 1, \"T-every-nth-det\": 1}',\n",
       "        '1'],\n",
       "       ['{\"D-model\": \"efficientdet-d5\", \"D-conf\": 0.5, \"D-seq-pol\": \"eager\", \"T-min-iou\": 0.3, \"T-max-age\": 5, \"T-every-nth-det\": 3}',\n",
       "        '1'],\n",
       "       ['{\"D-model\": \"efficientdet-d7\", \"D-conf\": 0.3, \"D-seq-pol\": \"tail-aware\", \"T-min-iou\": 0.2, \"T-max-age\": 7, \"T-every-nth-det\": 1}',\n",
       "        '1'],\n",
       "       ['{\"D-model\": \"efficientdet-d7\", \"D-conf\": 0.3, \"D-seq-pol\": \"tail-aware\", \"T-min-iou\": 0.2, \"T-max-age\": 5, \"T-every-nth-det\": 1}',\n",
       "        '1'],\n",
       "       ['{\"D-model\": \"efficientdet-d5\", \"D-conf\": 0.3, \"D-seq-pol\": \"tail-aware\", \"T-min-iou\": 0.1, \"T-max-age\": 5, \"T-every-nth-det\": 1}',\n",
       "        '1'],\n",
       "       ['{\"D-model\": \"efficientdet-d5\", \"D-conf\": 0.3, \"D-seq-pol\": \"tail-aware\", \"T-min-iou\": 0.2, \"T-max-age\": 3, \"T-every-nth-det\": 1}',\n",
       "        '1'],\n",
       "       ['{\"D-model\": \"efficientdet-d5\", \"D-conf\": 0.3, \"D-seq-pol\": \"tail-aware\", \"T-min-iou\": 0.5, \"T-max-age\": 5, \"T-every-nth-det\": 5}',\n",
       "        '1'],\n",
       "       ['{\"D-model\": \"efficientdet-d7\", \"D-conf\": 0.3, \"D-seq-pol\": \"tail-aware\", \"T-min-iou\": 0.1, \"T-max-age\": 3, \"T-every-nth-det\": 5}',\n",
       "        '1'],\n",
       "       ['{\"D-model\": \"efficientdet-d7\", \"D-conf\": 0.3, \"D-seq-pol\": \"tail-aware\", \"T-min-iou\": 0.1, \"T-max-age\": 1, \"T-every-nth-det\": 1}',\n",
       "        '1'],\n",
       "       ['{\"D-model\": \"efficientdet-d6\", \"D-conf\": 0.5, \"D-seq-pol\": \"wait\", \"T-min-iou\": 0.3, \"T-max-age\": 7, \"T-every-nth-det\": 1}',\n",
       "        '1'],\n",
       "       ['{\"D-model\": \"efficientdet-d5\", \"D-conf\": 0.3, \"D-seq-pol\": \"wait\", \"T-min-iou\": 0.2, \"T-max-age\": 1, \"T-every-nth-det\": 1}',\n",
       "        '1'],\n",
       "       ['{\"D-model\": \"efficientdet-d6\", \"D-conf\": 0.5, \"D-seq-pol\": \"wait\", \"T-min-iou\": 0.2, \"T-max-age\": 5, \"T-every-nth-det\": 1}',\n",
       "        '1'],\n",
       "       ['{\"D-model\": \"efficientdet-d5\", \"D-conf\": 0.5, \"D-seq-pol\": \"eager\", \"T-min-iou\": 0.1, \"T-max-age\": 3, \"T-every-nth-det\": 1}',\n",
       "        '1'],\n",
       "       ['{\"D-model\": \"efficientdet-d6\", \"D-conf\": 0.5, \"D-seq-pol\": \"wait\", \"T-min-iou\": 0.2, \"T-max-age\": 3, \"T-every-nth-det\": 1}',\n",
       "        '1'],\n",
       "       ['{\"D-model\": \"efficientdet-d6\", \"D-conf\": 0.5, \"D-seq-pol\": \"wait\", \"T-min-iou\": 0.2, \"T-max-age\": 1, \"T-every-nth-det\": 1}',\n",
       "        '1'],\n",
       "       ['{\"D-model\": \"efficientdet-d5\", \"D-conf\": 0.5, \"D-seq-pol\": \"tail-aware\", \"T-min-iou\": 0.1, \"T-max-age\": 3, \"T-every-nth-det\": 1}',\n",
       "        '1'],\n",
       "       ['{\"D-model\": \"efficientdet-d4\", \"D-conf\": 0.3, \"D-seq-pol\": \"wait\", \"T-min-iou\": 0.1, \"T-max-age\": 1, \"T-every-nth-det\": 3}',\n",
       "        '1'],\n",
       "       ['{\"D-model\": \"efficientdet-d6\", \"D-conf\": 0.5, \"D-seq-pol\": \"wait\", \"T-min-iou\": 0.1, \"T-max-age\": 5, \"T-every-nth-det\": 3}',\n",
       "        '1'],\n",
       "       ['{\"D-model\": \"efficientdet-d6\", \"D-conf\": 0.5, \"D-seq-pol\": \"wait\", \"T-min-iou\": 0.1, \"T-max-age\": 1, \"T-every-nth-det\": 3}',\n",
       "        '1'],\n",
       "       ['{\"D-model\": \"efficientdet-d5\", \"D-conf\": 0.5, \"D-seq-pol\": \"wait\", \"T-min-iou\": 0.1, \"T-max-age\": 1, \"T-every-nth-det\": 3}',\n",
       "        '1'],\n",
       "       ['{\"D-model\": \"efficientdet-d5\", \"D-conf\": 0.5, \"D-seq-pol\": \"wait\", \"T-min-iou\": 0.1, \"T-max-age\": 3, \"T-every-nth-det\": 1}',\n",
       "        '1'],\n",
       "       ['{\"D-model\": \"efficientdet-d6\", \"D-conf\": 0.5, \"D-seq-pol\": \"tail-aware\", \"T-min-iou\": 0.1, \"T-max-age\": 5, \"T-every-nth-det\": 1}',\n",
       "        '1'],\n",
       "       ['{\"D-model\": \"efficientdet-d5\", \"D-conf\": 0.5, \"D-seq-pol\": \"wait\", \"T-min-iou\": 0.1, \"T-max-age\": 5, \"T-every-nth-det\": 3}',\n",
       "        '1'],\n",
       "       ['{\"D-model\": \"efficientdet-d6\", \"D-conf\": 0.5, \"D-seq-pol\": \"eager\", \"T-min-iou\": 0.1, \"T-max-age\": 5, \"T-every-nth-det\": 1}',\n",
       "        '1'],\n",
       "       ['{\"D-model\": \"efficientdet-d6\", \"D-conf\": 0.3, \"D-seq-pol\": \"eager\", \"T-min-iou\": 0.1, \"T-max-age\": 3, \"T-every-nth-det\": 1}',\n",
       "        '1'],\n",
       "       ['{\"D-model\": \"efficientdet-d6\", \"D-conf\": 0.3, \"D-seq-pol\": \"eager\", \"T-min-iou\": 0.1, \"T-max-age\": 5, \"T-every-nth-det\": 1}',\n",
       "        '1'],\n",
       "       ['{\"D-model\": \"efficientdet-d6\", \"D-conf\": 0.5, \"D-seq-pol\": \"eager\", \"T-min-iou\": 0.1, \"T-max-age\": 3, \"T-every-nth-det\": 1}',\n",
       "        '1'],\n",
       "       ['{\"D-model\": \"efficientdet-d6\", \"D-conf\": 0.3, \"D-seq-pol\": \"eager\", \"T-min-iou\": 0.2, \"T-max-age\": 7, \"T-every-nth-det\": 1}',\n",
       "        '1'],\n",
       "       ['{\"D-model\": \"efficientdet-d6\", \"D-conf\": 0.5, \"D-seq-pol\": \"eager\", \"T-min-iou\": 0.1, \"T-max-age\": 1, \"T-every-nth-det\": 1}',\n",
       "        '1'],\n",
       "       ['{\"D-model\": \"efficientdet-d6\", \"D-conf\": 0.3, \"D-seq-pol\": \"tail-aware\", \"T-min-iou\": 0.1, \"T-max-age\": 3, \"T-every-nth-det\": 1}',\n",
       "        '1'],\n",
       "       ['{\"D-model\": \"efficientdet-d5\", \"D-conf\": 0.3, \"D-seq-pol\": \"eager\", \"T-min-iou\": 0.2, \"T-max-age\": 7, \"T-every-nth-det\": 1}',\n",
       "        '1'],\n",
       "       ['{\"D-model\": \"efficientdet-d5\", \"D-conf\": 0.3, \"D-seq-pol\": \"eager\", \"T-min-iou\": 0.2, \"T-max-age\": 5, \"T-every-nth-det\": 1}',\n",
       "        '1'],\n",
       "       ['{\"D-model\": \"efficientdet-d5\", \"D-conf\": 0.3, \"D-seq-pol\": \"eager\", \"T-min-iou\": 0.1, \"T-max-age\": 7, \"T-every-nth-det\": 5}',\n",
       "        '1'],\n",
       "       ['{\"D-model\": \"efficientdet-d7\", \"D-conf\": 0.3, \"D-seq-pol\": \"wait\", \"T-min-iou\": 0.2, \"T-max-age\": 3, \"T-every-nth-det\": 1}',\n",
       "        '1'],\n",
       "       ['{\"D-model\": \"efficientdet-d7x\", \"D-conf\": 0.3, \"D-seq-pol\": \"tail-aware\", \"T-min-iou\": 0.1, \"T-max-age\": 3, \"T-every-nth-det\": 5}',\n",
       "        '1'],\n",
       "       ['{\"D-model\": \"efficientdet-d7x\", \"D-conf\": 0.3, \"D-seq-pol\": \"eager\", \"T-min-iou\": 0.1, \"T-max-age\": 3, \"T-every-nth-det\": 3}',\n",
       "        '1'],\n",
       "       ['{\"D-model\": \"efficientdet-d7x\", \"D-conf\": 0.3, \"D-seq-pol\": \"eager\", \"T-min-iou\": 0.1, \"T-max-age\": 1, \"T-every-nth-det\": 3}',\n",
       "        '1'],\n",
       "       ['{\"D-model\": \"efficientdet-d7\", \"D-conf\": 0.5, \"D-seq-pol\": \"wait\", \"T-min-iou\": 0.1, \"T-max-age\": 7, \"T-every-nth-det\": 5}',\n",
       "        '1'],\n",
       "       ['{\"D-model\": \"efficientdet-d4\", \"D-conf\": 0.5, \"D-seq-pol\": \"eager\", \"T-min-iou\": 0.1, \"T-max-age\": 7, \"T-every-nth-det\": 3}',\n",
       "        '1'],\n",
       "       ['{\"D-model\": \"efficientdet-d4\", \"D-conf\": 0.5, \"D-seq-pol\": \"eager\", \"T-min-iou\": 0.1, \"T-max-age\": 7, \"T-every-nth-det\": 5}',\n",
       "        '1'],\n",
       "       ['{\"D-model\": \"efficientdet-d4\", \"D-conf\": 0.5, \"D-seq-pol\": \"eager\", \"T-min-iou\": 0.2, \"T-max-age\": 1, \"T-every-nth-det\": 1}',\n",
       "        '1'],\n",
       "       ['{\"D-model\": \"efficientdet-d7\", \"D-conf\": 0.5, \"D-seq-pol\": \"wait\", \"T-min-iou\": 0.1, \"T-max-age\": 5, \"T-every-nth-det\": 3}',\n",
       "        '1'],\n",
       "       ['{\"D-model\": \"efficientdet-d4\", \"D-conf\": 0.5, \"D-seq-pol\": \"eager\", \"T-min-iou\": 0.2, \"T-max-age\": 5, \"T-every-nth-det\": 1}',\n",
       "        '1'],\n",
       "       ['{\"D-model\": \"efficientdet-d4\", \"D-conf\": 0.5, \"D-seq-pol\": \"eager\", \"T-min-iou\": 0.2, \"T-max-age\": 7, \"T-every-nth-det\": 1}',\n",
       "        '1'],\n",
       "       ['{\"D-model\": \"efficientdet-d4\", \"D-conf\": 0.5, \"D-seq-pol\": \"eager\", \"T-min-iou\": 0.2, \"T-max-age\": 7, \"T-every-nth-det\": 5}',\n",
       "        '1'],\n",
       "       ['{\"D-model\": \"efficientdet-d4\", \"D-conf\": 0.5, \"D-seq-pol\": \"eager\", \"T-min-iou\": 0.3, \"T-max-age\": 7, \"T-every-nth-det\": 1}',\n",
       "        '1'],\n",
       "       ['{\"D-model\": \"efficientdet-d7\", \"D-conf\": 0.5, \"D-seq-pol\": \"tail-aware\", \"T-min-iou\": 0.1, \"T-max-age\": 7, \"T-every-nth-det\": 5}',\n",
       "        '1'],\n",
       "       ['{\"D-model\": \"efficientdet-d7\", \"D-conf\": 0.5, \"D-seq-pol\": \"tail-aware\", \"T-min-iou\": 0.1, \"T-max-age\": 5, \"T-every-nth-det\": 5}',\n",
       "        '1'],\n",
       "       ['{\"D-model\": \"efficientdet-d7\", \"D-conf\": 0.5, \"D-seq-pol\": \"eager\", \"T-min-iou\": 0.2, \"T-max-age\": 7, \"T-every-nth-det\": 1}',\n",
       "        '1'],\n",
       "       ['{\"D-model\": \"efficientdet-d4\", \"D-conf\": 0.5, \"D-seq-pol\": \"tail-aware\", \"T-min-iou\": 0.2, \"T-max-age\": 5, \"T-every-nth-det\": 1}',\n",
       "        '1'],\n",
       "       ['{\"D-model\": \"efficientdet-d4\", \"D-conf\": 0.5, \"D-seq-pol\": \"tail-aware\", \"T-min-iou\": 0.3, \"T-max-age\": 1, \"T-every-nth-det\": 1}',\n",
       "        '1'],\n",
       "       ['{\"D-model\": \"efficientdet-d4\", \"D-conf\": 0.5, \"D-seq-pol\": \"tail-aware\", \"T-min-iou\": 0.3, \"T-max-age\": 3, \"T-every-nth-det\": 3}',\n",
       "        '1'],\n",
       "       ['{\"D-model\": \"efficientdet-d7\", \"D-conf\": 0.5, \"D-seq-pol\": \"eager\", \"T-min-iou\": 0.1, \"T-max-age\": 7, \"T-every-nth-det\": 5}',\n",
       "        '1'],\n",
       "       ['{\"D-model\": \"efficientdet-d7\", \"D-conf\": 0.5, \"D-seq-pol\": \"eager\", \"T-min-iou\": 0.1, \"T-max-age\": 5, \"T-every-nth-det\": 3}',\n",
       "        '1'],\n",
       "       ['{\"D-model\": \"efficientdet-d4\", \"D-conf\": 0.5, \"D-seq-pol\": \"wait\", \"T-min-iou\": 0.2, \"T-max-age\": 1, \"T-every-nth-det\": 1}',\n",
       "        '1'],\n",
       "       ['{\"D-model\": \"efficientdet-d7\", \"D-conf\": 0.3, \"D-seq-pol\": \"wait\", \"T-min-iou\": 0.3, \"T-max-age\": 7, \"T-every-nth-det\": 3}',\n",
       "        '1'],\n",
       "       ['{\"D-model\": \"efficientdet-d4\", \"D-conf\": 0.5, \"D-seq-pol\": \"wait\", \"T-min-iou\": 0.2, \"T-max-age\": 3, \"T-every-nth-det\": 3}',\n",
       "        '1'],\n",
       "       ['{\"D-model\": \"efficientdet-d4\", \"D-conf\": 0.5, \"D-seq-pol\": \"wait\", \"T-min-iou\": 0.2, \"T-max-age\": 5, \"T-every-nth-det\": 1}',\n",
       "        '1'],\n",
       "       ['{\"D-model\": \"efficientdet-d4\", \"D-conf\": 0.5, \"D-seq-pol\": \"wait\", \"T-min-iou\": 0.2, \"T-max-age\": 7, \"T-every-nth-det\": 5}',\n",
       "        '1'],\n",
       "       ['{\"D-model\": \"efficientdet-d4\", \"D-conf\": 0.5, \"D-seq-pol\": \"wait\", \"T-min-iou\": 0.3, \"T-max-age\": 7, \"T-every-nth-det\": 5}',\n",
       "        '1'],\n",
       "       ['{\"D-model\": \"efficientdet-d5\", \"D-conf\": 0.3, \"D-seq-pol\": \"eager\", \"T-min-iou\": 0.1, \"T-max-age\": 1, \"T-every-nth-det\": 1}',\n",
       "        '1'],\n",
       "       ['{\"D-model\": \"efficientdet-d1\", \"D-conf\": 0.3, \"D-seq-pol\": \"eager\", \"T-min-iou\": 0.1, \"T-max-age\": 3, \"T-every-nth-det\": 1}',\n",
       "        '1']], dtype='<U129')"
      ]
     },
     "execution_count": 50,
     "metadata": {},
     "output_type": "execute_result"
    }
   ],
   "source": [
    "# configs in descending order of popularity\n",
    "np.transpose([oracle_configs[np.argsort(oracle_config_counts)[::-1]], sorted(oracle_config_counts, reverse=True)])"
   ]
  },
  {
   "cell_type": "markdown",
   "metadata": {},
   "source": [
    "### Cumulative coverage fairly poor"
   ]
  },
  {
   "cell_type": "code",
   "execution_count": 11,
   "metadata": {},
   "outputs": [
    {
     "data": {
      "text/plain": [
       "[<matplotlib.lines.Line2D at 0x7f57a957fef0>]"
      ]
     },
     "execution_count": 11,
     "metadata": {},
     "output_type": "execute_result"
    },
    {
     "data": {
      "image/png": "[encoded data removed]",
      "text/plain": [
       "<Figure size 432x288 with 1 Axes>"
      ]
     },
     "metadata": {
      "needs_background": "light"
     },
     "output_type": "display_data"
    }
   ],
   "source": [
    "plt.title(\"Coverage of scenarios vs size of subset of configurations used\")\n",
    "plt.xlabel(\"Number of configurations\")\n",
    "plt.ylabel(\"Fraction of scenarios\")\n",
    "plt.plot(np.cumsum(sorted(oracle_config_counts, reverse=True))/np.sum(oracle_config_counts))"
   ]
  },
  {
   "cell_type": "markdown",
   "metadata": {},
   "source": [
    "## Check if the top k "
   ]
  },
  {
   "cell_type": "code",
   "execution_count": 13,
   "metadata": {},
   "outputs": [],
   "source": [
    "from ad_config_search.utils import condense_v1"
   ]
  },
  {
   "cell_type": "markdown",
   "metadata": {},
   "source": [
    "### Small sanity check"
   ]
  },
  {
   "cell_type": "code",
   "execution_count": 17,
   "metadata": {},
   "outputs": [
    {
     "data": {
      "text/plain": [
       "'{\"D-model\": \"efficientdet-d6\", \"D-conf\": 0.5, \"D-seq-pol\": \"wait\", \"T-min-iou\": 0.3, \"T-max-age\": 7, \"T-every-nth-det\": 1}'"
      ]
     },
     "execution_count": 17,
     "metadata": {},
     "output_type": "execute_result"
    }
   ],
   "source": [
    "json.dumps(oracle_5sectors_policy[\"training_0001-S3-P4_5\"])"
   ]
  },
  {
   "cell_type": "code",
   "execution_count": 83,
   "metadata": {},
   "outputs": [
    {
     "name": "stderr",
     "output_type": "stream",
     "text": [
      "100%|██████████| 740/740 [01:08<00:00, 10.79it/s]\n"
     ]
    }
   ],
   "source": [
    "oracle_k_1_dict, oracle_k_1_perf_drop = condense_v1(df_configs_5sectors, oracle_5sectors_policy, k=1)\n",
    "oracle_k_1_configs, oracle_k_1_counts = np.unique(list(oracle_k_1_dict.values()), return_counts=True)"
   ]
  },
  {
   "cell_type": "code",
   "execution_count": 85,
   "metadata": {},
   "outputs": [
    {
     "data": {
      "text/plain": [
       "740"
      ]
     },
     "execution_count": 85,
     "metadata": {},
     "output_type": "execute_result"
    }
   ],
   "source": [
    "len(oracle_k_1_dict.keys())"
   ]
  },
  {
   "cell_type": "code",
   "execution_count": 88,
   "metadata": {},
   "outputs": [],
   "source": [
    "for k in oracle_per_scenario_policy_str.keys():\n",
    "    assert oracle_k_1_perf_drop[k] == 0 or np.isnan(oracle_k_1_perf_drop[k])"
   ]
  },
  {
   "cell_type": "markdown",
   "metadata": {},
   "source": [
    "### Testing higher k values"
   ]
  },
  {
   "cell_type": "code",
   "execution_count": 90,
   "metadata": {},
   "outputs": [
    {
     "name": "stderr",
     "output_type": "stream",
     "text": [
      "100%|██████████| 740/740 [00:50<00:00, 14.66it/s]\n"
     ]
    }
   ],
   "source": [
    "oracle_k_10_dict, oracle_k_10_perf_drop = condense_v1(df_configs_5sectors, oracle_5sectors_policy, k=10)\n",
    "oracle_k_10_configs, oracle_k_10_counts = np.unique(list(oracle_k_10_dict.values()), return_counts=True)"
   ]
  },
  {
   "cell_type": "code",
   "execution_count": 91,
   "metadata": {},
   "outputs": [
    {
     "name": "stderr",
     "output_type": "stream",
     "text": [
      "100%|██████████| 740/740 [00:36<00:00, 20.50it/s]\n"
     ]
    }
   ],
   "source": [
    "oracle_k_20_dict, oracle_k_20_perf_drop = condense_v1(df_configs_5sectors, oracle_5sectors_policy, k=20)\n",
    "oracle_k_20_configs, oracle_k_20_counts = np.unique(list(oracle_k_20_dict.values()), return_counts=True)"
   ]
  },
  {
   "cell_type": "code",
   "execution_count": 92,
   "metadata": {},
   "outputs": [
    {
     "data": {
      "text/plain": [
       "<matplotlib.legend.Legend at 0x7f578798f780>"
      ]
     },
     "execution_count": 92,
     "metadata": {},
     "output_type": "execute_result"
    },
    {
     "data": {
      "image/png": "[encoded data removed]",
      "text/plain": [
       "<Figure size 1440x360 with 1 Axes>"
      ]
     },
     "metadata": {
      "needs_background": "light"
     },
     "output_type": "display_data"
    }
   ],
   "source": [
    "plt.figure(figsize=(20,5))\n",
    "plt.title(\"Number of scenarios with the same optimal config\")\n",
    "plt.ylabel(\"Number of scenarios\")\n",
    "plt.xlabel(\"config\")\n",
    "plt.bar(x=np.arange(len(oracle_config_counts)), height=sorted(oracle_config_counts, reverse=True), label=\"Original oracle\")\n",
    "plt.bar(x=np.arange(len(oracle_k_1_counts)), height=sorted(oracle_k_1_counts, reverse=True), alpha=0.3, label=\"k=1\")\n",
    "plt.bar(x=np.arange(len(oracle_k_10_counts)), height=sorted(oracle_k_10_counts, reverse=True), alpha=0.3, label=\"k=10\")\n",
    "plt.bar(x=np.arange(len(oracle_k_20_counts)), height=sorted(oracle_k_20_counts, reverse=True), alpha=0.3, label=\"k=20\")\n",
    "plt.legend()"
   ]
  },
  {
   "cell_type": "code",
   "execution_count": 93,
   "metadata": {},
   "outputs": [
    {
     "data": {
      "text/plain": [
       "[1.2925730421889967,\n",
       " 1.9557252395374753,\n",
       " 2.2022466780475596,\n",
       " 2.4762620278127163]"
      ]
     },
     "execution_count": 93,
     "metadata": {},
     "output_type": "execute_result"
    }
   ],
   "source": [
    "[\n",
    "    np.std(oracle_config_counts)/np.mean(oracle_config_counts),\n",
    "    np.std(oracle_k_1_counts)/np.mean(oracle_k_1_counts),\n",
    "    np.std(oracle_k_10_counts)/np.mean(oracle_k_10_counts),\n",
    "    np.std(oracle_k_20_counts)/np.mean(oracle_k_20_counts),\n",
    "]"
   ]
  },
  {
   "cell_type": "code",
   "execution_count": 94,
   "metadata": {},
   "outputs": [
    {
     "data": {
      "text/plain": [
       "<matplotlib.legend.Legend at 0x7f57993059b0>"
      ]
     },
     "execution_count": 94,
     "metadata": {},
     "output_type": "execute_result"
    },
    {
     "data": {
      "image/png": "[encoded data removed]",
      "text/plain": [
       "<Figure size 432x288 with 1 Axes>"
      ]
     },
     "metadata": {
      "needs_background": "light"
     },
     "output_type": "display_data"
    }
   ],
   "source": [
    "plt.title(\"Coverage of scenarios vs size of subset of configurations used\")\n",
    "plt.xlabel(\"Number of configurations\")\n",
    "plt.ylabel(\"Fraction of scenarios\")\n",
    "plt.plot(np.cumsum(sorted(oracle_config_counts, reverse=True))/np.sum(oracle_config_counts), label=\"Original oracle\")\n",
    "plt.plot(np.cumsum(sorted(oracle_k_1_counts, reverse=True))/np.sum(oracle_k_1_counts), label=\"k=1\")\n",
    "plt.plot(np.cumsum(sorted(oracle_k_10_counts, reverse=True))/np.sum(oracle_k_10_counts), label=\"k=10\")\n",
    "plt.plot(np.cumsum(sorted(oracle_k_20_counts, reverse=True))/np.sum(oracle_k_20_counts), label=\"k=20\")\n",
    "plt.legend()"
   ]
  },
  {
   "cell_type": "code",
   "execution_count": 95,
   "metadata": {},
   "outputs": [
    {
     "data": {
      "text/plain": [
       "<matplotlib.legend.Legend at 0x7f579902dc50>"
      ]
     },
     "execution_count": 95,
     "metadata": {},
     "output_type": "execute_result"
    },
    {
     "data": {
      "image/png": "[encoded data removed]",
      "text/plain": [
       "<Figure size 432x288 with 2 Axes>"
      ]
     },
     "metadata": {
      "needs_background": "light"
     },
     "output_type": "display_data"
    }
   ],
   "source": [
    "plt.figure()\n",
    "plt.subplot(2,1,1)\n",
    "plt.xlim([0,2.5])\n",
    "sns.histplot(oracle_k_10_perf_drop.values(), bins=50, label=\"k=10\")\n",
    "plt.legend()\n",
    "plt.subplot(2,1,2)\n",
    "plt.xlim([0,2.5])\n",
    "sns.histplot(oracle_k_20_perf_drop.values(), bins=50, label=\"k=20\")\n",
    "plt.xlabel(\"mota score reduction\")\n",
    "plt.legend()"
   ]
  },
  {
   "cell_type": "code",
   "execution_count": 97,
   "metadata": {},
   "outputs": [
    {
     "data": {
      "text/plain": [
       "(0.13132769202173022, 0.44970617423138776)"
      ]
     },
     "execution_count": 97,
     "metadata": {},
     "output_type": "execute_result"
    }
   ],
   "source": [
    "np.nanmean(list(oracle_k_10_perf_drop.values())), np.nanmean(list(oracle_k_20_perf_drop.values()))"
   ]
  },
  {
   "cell_type": "markdown",
   "metadata": {},
   "source": [
    "## Extracting top 10 and top 20 configs"
   ]
  },
  {
   "cell_type": "code",
   "execution_count": 102,
   "metadata": {},
   "outputs": [],
   "source": [
    "with open(\"oracle_k_10_policy.pl\", 'wb') as f:\n",
    "    pickle.dump({k: json.loads(v) for k,v in oracle_k_10_dict.items()}, f)"
   ]
  },
  {
   "cell_type": "code",
   "execution_count": 114,
   "metadata": {},
   "outputs": [
    {
     "ename": "ImportError",
     "evalue": "cannot import name 'condense_moment_policy_scores'",
     "output_type": "error",
     "traceback": [
      "\u001b[0;31m---------------------------------------------------------------------------\u001b[0m",
      "\u001b[0;31mImportError\u001b[0m                               Traceback (most recent call last)",
      "\u001b[0;32m<ipython-input-114-d5ea7d5c3508>\u001b[0m in \u001b[0;36m<module>\u001b[0;34m\u001b[0m\n\u001b[0;32m----> 1\u001b[0;31m \u001b[0;32mfrom\u001b[0m \u001b[0mad_config_search\u001b[0m\u001b[0;34m.\u001b[0m\u001b[0mutils\u001b[0m \u001b[0;32mimport\u001b[0m \u001b[0mcondense_moment_policy_scores\u001b[0m\u001b[0;34m\u001b[0m\u001b[0;34m\u001b[0m\u001b[0m\n\u001b[0m",
      "\u001b[0;31mImportError\u001b[0m: cannot import name 'condense_moment_policy_scores'"
     ]
    }
   ],
   "source": [
    "from ad_config_search.utils import condense_moment_policy_scores"
   ]
  },
  {
   "cell_type": "code",
   "execution_count": 109,
   "metadata": {},
   "outputs": [
    {
     "name": "stderr",
     "output_type": "stream",
     "text": [
      "100%|██████████| 735/735 [04:58<00:00,  2.46it/s]\n"
     ]
    }
   ],
   "source": [
    "oracle_k_10_score_lists = {}\n",
    "for k, v in tqdm(oracle_k_10_dict.items()):\n",
    "    d = json.loads(v)\n",
    "    d[\"run\"] = k\n",
    "    rows = get_rows(fine_grained_4s_scores, d)\n",
    "    assert len(rows) == 1, len(rows)\n",
    "    score = rows.iloc[0][\"score\"]\n",
    "    scenario_name = \"-\".join(k.split(\"-\")[:-1])\n",
    "    if scenario_name not in oracle_k_10_score_lists:\n",
    "        oracle_k_10_score_lists[scenario_name] = [score]\n",
    "    else:\n",
    "        oracle_k_10_score_lists[scenario_name].append(score)\n",
    "\n",
    "        \n",
    "oracle_k_10_score_lists = {k: np.mean(v) for k, v in oracle_k_10_score_lists.items()}"
   ]
  },
  {
   "cell_type": "code",
   "execution_count": 112,
   "metadata": {},
   "outputs": [
    {
     "data": {
      "text/plain": [
       "148"
      ]
     },
     "execution_count": 112,
     "metadata": {},
     "output_type": "execute_result"
    }
   ],
   "source": [
    "len(oracle_k_10_score_lists.keys())"
   ]
  },
  {
   "cell_type": "code",
   "execution_count": 111,
   "metadata": {},
   "outputs": [],
   "source": [
    "with open(\"oracle_k_10_4s_grained_scores.pq\", 'wb') as f:\n",
    "    pickle.dump(oracle_k_10_score_lists, f)"
   ]
  },
  {
   "cell_type": "code",
   "execution_count": 101,
   "metadata": {},
   "outputs": [
    {
     "data": {
      "text/plain": [
       "array(['{\"D-model\": \"efficientdet-d1\", \"D-conf\": 0.5, \"D-seq-pol\": \"tail-aware\", \"T-model\": \"sort\", \"T-min-iou\": 0.1, \"T-max-age\": 1, \"T-every-nth-det\": 1}',\n",
       "       '{\"D-model\": \"efficientdet-d1\", \"D-conf\": 0.5, \"D-seq-pol\": \"wait\", \"T-model\": \"sort\", \"T-min-iou\": 0.1, \"T-max-age\": 1, \"T-every-nth-det\": 3}',\n",
       "       '{\"D-model\": \"efficientdet-d2\", \"D-conf\": 0.5, \"D-seq-pol\": \"eager\", \"T-model\": \"sort\", \"T-min-iou\": 0.1, \"T-max-age\": 7, \"T-every-nth-det\": 3}',\n",
       "       '{\"D-model\": \"efficientdet-d2\", \"D-conf\": 0.5, \"D-seq-pol\": \"wait\", \"T-model\": \"sort\", \"T-min-iou\": 0.2, \"T-max-age\": 1, \"T-every-nth-det\": 1}',\n",
       "       '{\"D-model\": \"efficientdet-d3\", \"D-conf\": 0.3, \"D-seq-pol\": \"eager\", \"T-model\": \"sort\", \"T-min-iou\": 0.1, \"T-max-age\": 3, \"T-every-nth-det\": 1}',\n",
       "       '{\"D-model\": \"efficientdet-d3\", \"D-conf\": 0.3, \"D-seq-pol\": \"wait\", \"T-model\": \"sort\", \"T-min-iou\": 0.3, \"T-max-age\": 3, \"T-every-nth-det\": 5}',\n",
       "       '{\"D-model\": \"efficientdet-d3\", \"D-conf\": 0.5, \"D-seq-pol\": \"tail-aware\", \"T-model\": \"sort\", \"T-min-iou\": 0.1, \"T-max-age\": 7, \"T-every-nth-det\": 1}',\n",
       "       '{\"D-model\": \"efficientdet-d3\", \"D-conf\": 0.5, \"D-seq-pol\": \"wait\", \"T-model\": \"sort\", \"T-min-iou\": 0.1, \"T-max-age\": 1, \"T-every-nth-det\": 1}',\n",
       "       '{\"D-model\": \"efficientdet-d4\", \"D-conf\": 0.3, \"D-seq-pol\": \"tail-aware\", \"T-model\": \"sort\", \"T-min-iou\": 0.1, \"T-max-age\": 5, \"T-every-nth-det\": 1}',\n",
       "       '{\"D-model\": \"efficientdet-d4\", \"D-conf\": 0.3, \"D-seq-pol\": \"wait\", \"T-model\": \"sort\", \"T-min-iou\": 0.1, \"T-max-age\": 3, \"T-every-nth-det\": 1}',\n",
       "       '{\"D-model\": \"efficientdet-d4\", \"D-conf\": 0.3, \"D-seq-pol\": \"wait\", \"T-model\": \"sort\", \"T-min-iou\": 0.1, \"T-max-age\": 7, \"T-every-nth-det\": 1}',\n",
       "       '{\"D-model\": \"efficientdet-d4\", \"D-conf\": 0.5, \"D-seq-pol\": \"tail-aware\", \"T-model\": \"sort\", \"T-min-iou\": 0.1, \"T-max-age\": 1, \"T-every-nth-det\": 1}',\n",
       "       '{\"D-model\": \"efficientdet-d4\", \"D-conf\": 0.5, \"D-seq-pol\": \"wait\", \"T-model\": \"sort\", \"T-min-iou\": 0.2, \"T-max-age\": 7, \"T-every-nth-det\": 5}',\n",
       "       '{\"D-model\": \"efficientdet-d5\", \"D-conf\": 0.3, \"D-seq-pol\": \"eager\", \"T-model\": \"sort\", \"T-min-iou\": 0.1, \"T-max-age\": 5, \"T-every-nth-det\": 1}',\n",
       "       '{\"D-model\": \"efficientdet-d5\", \"D-conf\": 0.3, \"D-seq-pol\": \"tail-aware\", \"T-model\": \"sort\", \"T-min-iou\": 0.1, \"T-max-age\": 7, \"T-every-nth-det\": 1}',\n",
       "       '{\"D-model\": \"efficientdet-d5\", \"D-conf\": 0.3, \"D-seq-pol\": \"wait\", \"T-model\": \"sort\", \"T-min-iou\": 0.1, \"T-max-age\": 3, \"T-every-nth-det\": 1}',\n",
       "       '{\"D-model\": \"efficientdet-d5\", \"D-conf\": 0.5, \"D-seq-pol\": \"eager\", \"T-model\": \"sort\", \"T-min-iou\": 0.1, \"T-max-age\": 1, \"T-every-nth-det\": 1}',\n",
       "       '{\"D-model\": \"efficientdet-d6\", \"D-conf\": 0.3, \"D-seq-pol\": \"eager\", \"T-model\": \"sort\", \"T-min-iou\": 0.1, \"T-max-age\": 7, \"T-every-nth-det\": 1}',\n",
       "       '{\"D-model\": \"efficientdet-d6\", \"D-conf\": 0.3, \"D-seq-pol\": \"tail-aware\", \"T-model\": \"sort\", \"T-min-iou\": 0.1, \"T-max-age\": 1, \"T-every-nth-det\": 1}',\n",
       "       '{\"D-model\": \"efficientdet-d6\", \"D-conf\": 0.5, \"D-seq-pol\": \"wait\", \"T-model\": \"sort\", \"T-min-iou\": 0.1, \"T-max-age\": 3, \"T-every-nth-det\": 1}',\n",
       "       '{\"D-model\": \"efficientdet-d7\", \"D-conf\": 0.3, \"D-seq-pol\": \"eager\", \"T-model\": \"sort\", \"T-min-iou\": 0.1, \"T-max-age\": 1, \"T-every-nth-det\": 1}',\n",
       "       '{\"D-model\": \"efficientdet-d7\", \"D-conf\": 0.3, \"D-seq-pol\": \"eager\", \"T-model\": \"sort\", \"T-min-iou\": 0.1, \"T-max-age\": 7, \"T-every-nth-det\": 1}',\n",
       "       '{\"D-model\": \"efficientdet-d7\", \"D-conf\": 0.5, \"D-seq-pol\": \"tail-aware\", \"T-model\": \"sort\", \"T-min-iou\": 0.1, \"T-max-age\": 3, \"T-every-nth-det\": 1}',\n",
       "       '{\"D-model\": \"efficientdet-d7\", \"D-conf\": 0.5, \"D-seq-pol\": \"wait\", \"T-model\": \"sort\", \"T-min-iou\": 0.1, \"T-max-age\": 7, \"T-every-nth-det\": 5}',\n",
       "       '{\"D-model\": \"efficientdet-d7x\", \"D-conf\": 0.3, \"D-seq-pol\": \"tail-aware\", \"T-model\": \"sort\", \"T-min-iou\": 0.1, \"T-max-age\": 1, \"T-every-nth-det\": 1}',\n",
       "       '{\"D-model\": \"efficientdet-d7x\", \"D-conf\": 0.5, \"D-seq-pol\": \"eager\", \"T-model\": \"sort\", \"T-min-iou\": 0.1, \"T-max-age\": 7, \"T-every-nth-det\": 1}',\n",
       "       '{\"D-model\": \"efficientdet-d7x\", \"D-conf\": 0.5, \"D-seq-pol\": \"wait\", \"T-model\": \"sort\", \"T-min-iou\": 0.1, \"T-max-age\": 3, \"T-every-nth-det\": 1}',\n",
       "       '{\"D-model\": \"efficientdet-d7x\", \"D-conf\": 0.5, \"D-seq-pol\": \"wait\", \"T-model\": \"sort\", \"T-min-iou\": 0.1, \"T-max-age\": 5, \"T-every-nth-det\": 1}'],\n",
       "      dtype='<U148')"
      ]
     },
     "execution_count": 101,
     "metadata": {},
     "output_type": "execute_result"
    }
   ],
   "source": [
    "oracle_k_20_configs"
   ]
  },
  {
   "cell_type": "code",
   "execution_count": null,
   "metadata": {},
   "outputs": [],
   "source": []
  }
 ],
 "metadata": {
  "kernelspec": {
   "display_name": "Python 3",
   "language": "python",
   "name": "python3"
  },
  "language_info": {
   "codemirror_mode": {
    "name": "ipython",
    "version": 3
   },
   "file_extension": ".py",
   "mimetype": "text/x-python",
   "name": "python",
   "nbconvert_exporter": "python",
   "pygments_lexer": "ipython3",
   "version": "3.6.12"
  }
 },
 "nbformat": 4,
 "nbformat_minor": 4
}
