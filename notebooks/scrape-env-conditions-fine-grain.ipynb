{
 "cells": [
  {
   "cell_type": "markdown",
   "metadata": {
    "colab_type": "text",
    "id": "WWdJUWiZdMte"
   },
   "source": [
    "## Install waymo_open_dataset package"
   ]
  },
  {
   "cell_type": "raw",
   "metadata": {
    "colab": {},
    "colab_type": "code",
    "id": "zxX_JIZrdKoR"
   },
   "source": [
    "!rm -rf waymo-od > /dev/null\n",
    "!git clone https://github.com/waymo-research/waymo-open-dataset.git waymo-od\n",
    "!cd waymo-od && git branch -a\n",
    "!cd waymo-od && `git checkout remotes/origin/master\n",
    "!pip3 install --upgrade pip"
   ]
  },
  {
   "cell_type": "raw",
   "metadata": {
    "colab": {},
    "colab_type": "code",
    "id": "sLIUOJzSyjj6"
   },
   "source": [
    "!pip3 install waymo-open-dataset-tf-2-1-0==1.2.0"
   ]
  },
  {
   "cell_type": "code",
   "execution_count": 1,
   "metadata": {
    "colab": {},
    "colab_type": "code",
    "id": "hDQ1DPqwdfNW"
   },
   "outputs": [],
   "source": [
    "import os\n",
    "import math\n",
    "import numpy as np\n",
    "import itertools\n",
    "\n",
    "from tqdm import tqdm\n",
    "\n",
    "from ad_config_search.waymo_utils import *\n",
    "\n",
    "from pathlib import Path\n",
    "\n",
    "import matplotlib.pyplot as plt\n",
    "\n",
    "import pandas as pd\n",
    "\n",
    "import seaborn as sns\n",
    "\n",
    "%load_ext autoreload\n",
    "%autoreload 2"
   ]
  },
  {
   "cell_type": "code",
   "execution_count": 2,
   "metadata": {},
   "outputs": [],
   "source": [
    "def chunks(lst, n):\n",
    "    \"\"\"Yield successive n-sized chunks from lst.\"\"\"\n",
    "    for i in range(0, len(lst), n):\n",
    "        yield lst[i:i + n]"
   ]
  },
  {
   "cell_type": "code",
   "execution_count": 3,
   "metadata": {},
   "outputs": [],
   "source": [
    "def featurize(frames_path, part_length_s):\n",
    "    assert 20%part_length_s == 0, \"20s (the time length of each scenario in waymo) is not divisible by {}\".format(part_length_s)\n",
    "    frames = frames_from_path(frames_path)\n",
    "    result = []\n",
    "    for i, frame_chunck in enumerate(chunks(frames, 10*part_length_s)):\n",
    "        bbox_info = collect_bbox_info_per_frame(frame_chunck)\n",
    "        vel = get_velocity(frame_chunck)\n",
    "        ego_vehicle_speed = np.sqrt(vel[:, 0]**2 + vel[:, 1]**2 + vel[:, 2] ** 2)\n",
    "        if np.max(bbox_info[\"num_bboxes\"]) != 0:\n",
    "            features = {\n",
    "                \"avg_bbox_longevity\": np.mean(bbox_info[\"bbox_longevity\"]),\n",
    "                \"90p_bbox_longevity\": np.percentile(bbox_info[\"bbox_longevity\"], 90),\n",
    "                \"90p_num_bboxes\":  np.percentile(bbox_info[\"num_bboxes\"], 90),\n",
    "                \"90p_bbox_speed\":  np.percentile([np.mean(list(d.values())) if len(d.values()) > 0 else 0 for d in bbox_info[\"bbox_speed\"]], 90),\n",
    "                \"90p_bbox_size\":  np.percentile(bbox_info[\"avg_bbox_size\"], 90),\n",
    "                \"avg_num_bboxes\": np.mean(bbox_info[\"num_bboxes\"]),\n",
    "                \"avg_bbox_speed\": np.mean([np.mean(list(d.values())) if len(d.values()) > 0 else 0 for d in bbox_info[\"bbox_speed\"]]),\n",
    "                \"avg_bbox_size\": np.mean(bbox_info[\"avg_bbox_size\"]),\n",
    "                \"avg_ego_speed\": np.mean(ego_vehicle_speed),\n",
    "                **get_context_info(frames)\n",
    "            }\n",
    "            result.append((i, features))\n",
    "    return result"
   ]
  },
  {
   "cell_type": "code",
   "execution_count": 5,
   "metadata": {},
   "outputs": [
    {
     "data": {
      "text/plain": [
       "[(0,\n",
       "  {'avg_bbox_longevity': 57.05263157894737,\n",
       "   '90p_bbox_longevity': 79.4,\n",
       "   '90p_num_bboxes': 14.0,\n",
       "   '90p_bbox_speed': 116.4843054073003,\n",
       "   '90p_bbox_size': 34145.91710244188,\n",
       "   'avg_num_bboxes': 10.84,\n",
       "   'avg_bbox_speed': 68.48018915621321,\n",
       "   'avg_bbox_size': 25107.328503056815,\n",
       "   'avg_ego_speed': 4.956667737841872,\n",
       "   'time_of_day': 'Day',\n",
       "   'weather': 'sunny',\n",
       "   'location': 'location_sf'}),\n",
       " (1,\n",
       "  {'avg_bbox_longevity': 54.89473684210526,\n",
       "   '90p_bbox_longevity': 98.0,\n",
       "   '90p_num_bboxes': 13.0,\n",
       "   '90p_bbox_speed': 63.17342798123913,\n",
       "   '90p_bbox_size': 34630.22828626823,\n",
       "   'avg_num_bboxes': 10.642857142857142,\n",
       "   'avg_bbox_speed': 45.96657960295053,\n",
       "   'avg_bbox_size': 21394.830193121175,\n",
       "   'avg_ego_speed': 6.232600553139022,\n",
       "   'time_of_day': 'Day',\n",
       "   'weather': 'sunny',\n",
       "   'location': 'location_sf'})]"
      ]
     },
     "execution_count": 5,
     "metadata": {},
     "output_type": "execute_result"
    }
   ],
   "source": [
    "featurize(\"/data/ges/waymo/training_0000/S_0.tfrecord\", 10)"
   ]
  },
  {
   "cell_type": "code",
   "execution_count": 6,
   "metadata": {},
   "outputs": [
    {
     "data": {
      "text/plain": [
       "[(0,\n",
       "  {'avg_bbox_longevity': 31.444444444444443,\n",
       "   '90p_bbox_longevity': 40.0,\n",
       "   '90p_num_bboxes': 9.0,\n",
       "   '90p_bbox_speed': 133.8269652394972,\n",
       "   '90p_bbox_size': 1607.4967075292643,\n",
       "   'avg_num_bboxes': 7.075,\n",
       "   'avg_bbox_speed': 113.68136797016308,\n",
       "   'avg_bbox_size': 1183.5246373079995,\n",
       "   'avg_ego_speed': 10.755982962432295,\n",
       "   'time_of_day': 'Dawn/Dusk',\n",
       "   'weather': 'sunny',\n",
       "   'location': 'location_phx'}),\n",
       " (1,\n",
       "  {'avg_bbox_longevity': 16.0,\n",
       "   '90p_bbox_longevity': 16.8,\n",
       "   '90p_num_bboxes': 2.0,\n",
       "   '90p_bbox_speed': 71.19690998971299,\n",
       "   '90p_bbox_size': 3105.500317093976,\n",
       "   'avg_num_bboxes': 0.8,\n",
       "   'avg_bbox_speed': 21.804426368191884,\n",
       "   'avg_bbox_size': 1029.8969043409516,\n",
       "   'avg_ego_speed': 11.708570735353508,\n",
       "   'time_of_day': 'Dawn/Dusk',\n",
       "   'weather': 'sunny',\n",
       "   'location': 'location_phx'}),\n",
       " (4,\n",
       "  {'avg_bbox_longevity': 16.25,\n",
       "   '90p_bbox_longevity': 21.0,\n",
       "   '90p_num_bboxes': 8.0,\n",
       "   '90p_bbox_speed': 488.0563328504341,\n",
       "   '90p_bbox_size': 4517.765596524928,\n",
       "   'avg_num_bboxes': 3.3333333333333335,\n",
       "   'avg_bbox_speed': 221.75738547496212,\n",
       "   'avg_bbox_size': 2094.1713054528154,\n",
       "   'avg_ego_speed': 7.54677880419275,\n",
       "   'time_of_day': 'Dawn/Dusk',\n",
       "   'weather': 'sunny',\n",
       "   'location': 'location_phx'})]"
      ]
     },
     "execution_count": 6,
     "metadata": {},
     "output_type": "execute_result"
    }
   ],
   "source": [
    "featurize(list(Path(\"/data/ges/waymo\").glob(\"*/*.tfrecord\"))[6], 4)"
   ]
  },
  {
   "cell_type": "code",
   "execution_count": 7,
   "metadata": {},
   "outputs": [
    {
     "name": "stderr",
     "output_type": "stream",
     "text": [
      "100%|██████████| 248/248 [07:06<00:00,  1.72s/it]\n"
     ]
    }
   ],
   "source": [
    "def flatten(t):\n",
    "    return [item for sublist in t for item in sublist]\n",
    "\n",
    "part_size_s = 10\n",
    "df = pd.DataFrame(\n",
    "    flatten([\n",
    "        [{**d, \"scenario_name\": (path.parent.stem+\"-\"+path.stem+\"-P{}_{}\".format(i, 20//part_size_s))} for i, d in featurize(path, part_size_s)]\n",
    "            for path in tqdm(list(Path(\"/data/ges/waymo\").glob(\"**/training*/*.tfrecord\")))\n",
    "    ])\n",
    ")"
   ]
  },
  {
   "cell_type": "code",
   "execution_count": 8,
   "metadata": {},
   "outputs": [],
   "source": [
    "df = df.loc[:, ~df.columns.str.contains('^Unnamed')]"
   ]
  },
  {
   "cell_type": "code",
   "execution_count": 9,
   "metadata": {},
   "outputs": [
    {
     "data": {
      "text/html": [
       "<div>\n",
       "<style scoped>\n",
       "    .dataframe tbody tr th:only-of-type {\n",
       "        vertical-align: middle;\n",
       "    }\n",
       "\n",
       "    .dataframe tbody tr th {\n",
       "        vertical-align: top;\n",
       "    }\n",
       "\n",
       "    .dataframe thead th {\n",
       "        text-align: right;\n",
       "    }\n",
       "</style>\n",
       "<table border=\"1\" class=\"dataframe\">\n",
       "  <thead>\n",
       "    <tr style=\"text-align: right;\">\n",
       "      <th></th>\n",
       "      <th>avg_bbox_longevity</th>\n",
       "      <th>90p_bbox_longevity</th>\n",
       "      <th>90p_num_bboxes</th>\n",
       "      <th>90p_bbox_speed</th>\n",
       "      <th>90p_bbox_size</th>\n",
       "      <th>avg_num_bboxes</th>\n",
       "      <th>avg_bbox_speed</th>\n",
       "      <th>avg_bbox_size</th>\n",
       "      <th>avg_ego_speed</th>\n",
       "      <th>time_of_day</th>\n",
       "      <th>weather</th>\n",
       "      <th>location</th>\n",
       "      <th>scenario_name</th>\n",
       "    </tr>\n",
       "  </thead>\n",
       "  <tbody>\n",
       "    <tr>\n",
       "      <th>0</th>\n",
       "      <td>52.000000</td>\n",
       "      <td>52.0</td>\n",
       "      <td>1.0</td>\n",
       "      <td>99.698971</td>\n",
       "      <td>6182.244074</td>\n",
       "      <td>0.520000</td>\n",
       "      <td>35.394882</td>\n",
       "      <td>2071.295097</td>\n",
       "      <td>9.720134</td>\n",
       "      <td>Day</td>\n",
       "      <td>sunny</td>\n",
       "      <td>location_sf</td>\n",
       "      <td>training_0004-S_24-P0_2</td>\n",
       "    </tr>\n",
       "    <tr>\n",
       "      <th>1</th>\n",
       "      <td>53.625000</td>\n",
       "      <td>80.3</td>\n",
       "      <td>6.0</td>\n",
       "      <td>274.310474</td>\n",
       "      <td>10441.602012</td>\n",
       "      <td>4.333333</td>\n",
       "      <td>174.726306</td>\n",
       "      <td>4764.081044</td>\n",
       "      <td>7.926559</td>\n",
       "      <td>Day</td>\n",
       "      <td>sunny</td>\n",
       "      <td>location_sf</td>\n",
       "      <td>training_0004-S_24-P1_2</td>\n",
       "    </tr>\n",
       "    <tr>\n",
       "      <th>2</th>\n",
       "      <td>83.636364</td>\n",
       "      <td>100.0</td>\n",
       "      <td>20.0</td>\n",
       "      <td>111.280998</td>\n",
       "      <td>44298.088789</td>\n",
       "      <td>18.400000</td>\n",
       "      <td>45.964052</td>\n",
       "      <td>29704.436432</td>\n",
       "      <td>1.377894</td>\n",
       "      <td>Day</td>\n",
       "      <td>sunny</td>\n",
       "      <td>location_sf</td>\n",
       "      <td>training_0004-S_14-P0_2</td>\n",
       "    </tr>\n",
       "    <tr>\n",
       "      <th>3</th>\n",
       "      <td>64.578947</td>\n",
       "      <td>97.0</td>\n",
       "      <td>14.0</td>\n",
       "      <td>151.639543</td>\n",
       "      <td>34266.944694</td>\n",
       "      <td>12.649485</td>\n",
       "      <td>73.105819</td>\n",
       "      <td>19981.124002</td>\n",
       "      <td>1.857219</td>\n",
       "      <td>Day</td>\n",
       "      <td>sunny</td>\n",
       "      <td>location_sf</td>\n",
       "      <td>training_0004-S_14-P1_2</td>\n",
       "    </tr>\n",
       "    <tr>\n",
       "      <th>4</th>\n",
       "      <td>48.393939</td>\n",
       "      <td>98.6</td>\n",
       "      <td>26.0</td>\n",
       "      <td>57.336998</td>\n",
       "      <td>3731.120015</td>\n",
       "      <td>15.970000</td>\n",
       "      <td>40.118031</td>\n",
       "      <td>2598.951245</td>\n",
       "      <td>18.035573</td>\n",
       "      <td>Day</td>\n",
       "      <td>sunny</td>\n",
       "      <td>location_phx</td>\n",
       "      <td>training_0004-S_0-P0_2</td>\n",
       "    </tr>\n",
       "    <tr>\n",
       "      <th>...</th>\n",
       "      <td>...</td>\n",
       "      <td>...</td>\n",
       "      <td>...</td>\n",
       "      <td>...</td>\n",
       "      <td>...</td>\n",
       "      <td>...</td>\n",
       "      <td>...</td>\n",
       "      <td>...</td>\n",
       "      <td>...</td>\n",
       "      <td>...</td>\n",
       "      <td>...</td>\n",
       "      <td>...</td>\n",
       "      <td>...</td>\n",
       "    </tr>\n",
       "    <tr>\n",
       "      <th>490</th>\n",
       "      <td>66.250000</td>\n",
       "      <td>98.0</td>\n",
       "      <td>21.0</td>\n",
       "      <td>34.244901</td>\n",
       "      <td>12141.432409</td>\n",
       "      <td>16.224490</td>\n",
       "      <td>20.967315</td>\n",
       "      <td>6014.326049</td>\n",
       "      <td>17.168360</td>\n",
       "      <td>Day</td>\n",
       "      <td>sunny</td>\n",
       "      <td>location_phx</td>\n",
       "      <td>training_0006-S_13-P1_2</td>\n",
       "    </tr>\n",
       "    <tr>\n",
       "      <th>491</th>\n",
       "      <td>46.129630</td>\n",
       "      <td>90.6</td>\n",
       "      <td>29.1</td>\n",
       "      <td>61.461920</td>\n",
       "      <td>25521.625702</td>\n",
       "      <td>24.910000</td>\n",
       "      <td>47.062645</td>\n",
       "      <td>20348.177077</td>\n",
       "      <td>6.636236</td>\n",
       "      <td>Day</td>\n",
       "      <td>sunny</td>\n",
       "      <td>location_sf</td>\n",
       "      <td>training_0006-S_5-P0_2</td>\n",
       "    </tr>\n",
       "    <tr>\n",
       "      <th>492</th>\n",
       "      <td>60.976190</td>\n",
       "      <td>98.0</td>\n",
       "      <td>30.0</td>\n",
       "      <td>111.314061</td>\n",
       "      <td>14892.920959</td>\n",
       "      <td>26.132653</td>\n",
       "      <td>45.086488</td>\n",
       "      <td>9210.898641</td>\n",
       "      <td>5.560279</td>\n",
       "      <td>Day</td>\n",
       "      <td>sunny</td>\n",
       "      <td>location_sf</td>\n",
       "      <td>training_0006-S_5-P1_2</td>\n",
       "    </tr>\n",
       "    <tr>\n",
       "      <th>493</th>\n",
       "      <td>37.626667</td>\n",
       "      <td>87.2</td>\n",
       "      <td>34.0</td>\n",
       "      <td>51.330718</td>\n",
       "      <td>2274.680059</td>\n",
       "      <td>28.220000</td>\n",
       "      <td>41.084598</td>\n",
       "      <td>1178.674863</td>\n",
       "      <td>19.137781</td>\n",
       "      <td>Day</td>\n",
       "      <td>sunny</td>\n",
       "      <td>location_phx</td>\n",
       "      <td>training_0006-S_23-P0_2</td>\n",
       "    </tr>\n",
       "    <tr>\n",
       "      <th>494</th>\n",
       "      <td>53.125000</td>\n",
       "      <td>94.3</td>\n",
       "      <td>30.0</td>\n",
       "      <td>62.866777</td>\n",
       "      <td>15369.995274</td>\n",
       "      <td>26.020408</td>\n",
       "      <td>43.423265</td>\n",
       "      <td>6774.346169</td>\n",
       "      <td>7.837109</td>\n",
       "      <td>Day</td>\n",
       "      <td>sunny</td>\n",
       "      <td>location_phx</td>\n",
       "      <td>training_0006-S_23-P1_2</td>\n",
       "    </tr>\n",
       "  </tbody>\n",
       "</table>\n",
       "<p>495 rows × 13 columns</p>\n",
       "</div>"
      ],
      "text/plain": [
       "     avg_bbox_longevity  90p_bbox_longevity  90p_num_bboxes  90p_bbox_speed  \\\n",
       "0             52.000000                52.0             1.0       99.698971   \n",
       "1             53.625000                80.3             6.0      274.310474   \n",
       "2             83.636364               100.0            20.0      111.280998   \n",
       "3             64.578947                97.0            14.0      151.639543   \n",
       "4             48.393939                98.6            26.0       57.336998   \n",
       "..                  ...                 ...             ...             ...   \n",
       "490           66.250000                98.0            21.0       34.244901   \n",
       "491           46.129630                90.6            29.1       61.461920   \n",
       "492           60.976190                98.0            30.0      111.314061   \n",
       "493           37.626667                87.2            34.0       51.330718   \n",
       "494           53.125000                94.3            30.0       62.866777   \n",
       "\n",
       "     90p_bbox_size  avg_num_bboxes  avg_bbox_speed  avg_bbox_size  \\\n",
       "0      6182.244074        0.520000       35.394882    2071.295097   \n",
       "1     10441.602012        4.333333      174.726306    4764.081044   \n",
       "2     44298.088789       18.400000       45.964052   29704.436432   \n",
       "3     34266.944694       12.649485       73.105819   19981.124002   \n",
       "4      3731.120015       15.970000       40.118031    2598.951245   \n",
       "..             ...             ...             ...            ...   \n",
       "490   12141.432409       16.224490       20.967315    6014.326049   \n",
       "491   25521.625702       24.910000       47.062645   20348.177077   \n",
       "492   14892.920959       26.132653       45.086488    9210.898641   \n",
       "493    2274.680059       28.220000       41.084598    1178.674863   \n",
       "494   15369.995274       26.020408       43.423265    6774.346169   \n",
       "\n",
       "     avg_ego_speed time_of_day weather      location            scenario_name  \n",
       "0         9.720134         Day   sunny   location_sf  training_0004-S_24-P0_2  \n",
       "1         7.926559         Day   sunny   location_sf  training_0004-S_24-P1_2  \n",
       "2         1.377894         Day   sunny   location_sf  training_0004-S_14-P0_2  \n",
       "3         1.857219         Day   sunny   location_sf  training_0004-S_14-P1_2  \n",
       "4        18.035573         Day   sunny  location_phx   training_0004-S_0-P0_2  \n",
       "..             ...         ...     ...           ...                      ...  \n",
       "490      17.168360         Day   sunny  location_phx  training_0006-S_13-P1_2  \n",
       "491       6.636236         Day   sunny   location_sf   training_0006-S_5-P0_2  \n",
       "492       5.560279         Day   sunny   location_sf   training_0006-S_5-P1_2  \n",
       "493      19.137781         Day   sunny  location_phx  training_0006-S_23-P0_2  \n",
       "494       7.837109         Day   sunny  location_phx  training_0006-S_23-P1_2  \n",
       "\n",
       "[495 rows x 13 columns]"
      ]
     },
     "execution_count": 9,
     "metadata": {},
     "output_type": "execute_result"
    }
   ],
   "source": [
    "df"
   ]
  },
  {
   "cell_type": "code",
   "execution_count": 10,
   "metadata": {},
   "outputs": [],
   "source": [
    "df.to_csv(\"../data/scenario_features_v3_fine_{}s.csv\".format(part_size_s))\n",
    "df = pd.read_csv(\"../data/scenario_features_v3_fine_{}s.csv\".format(part_size_s))"
   ]
  },
  {
   "cell_type": "code",
   "execution_count": 11,
   "metadata": {},
   "outputs": [
    {
     "data": {
      "text/plain": [
       "<AxesSubplot:xlabel='avg_bbox_longevity'>"
      ]
     },
     "execution_count": 11,
     "metadata": {},
     "output_type": "execute_result"
    },
    {
     "data": {
      "image/png": "[encoded data removed]",
      "text/plain": [
       "<Figure size 432x288 with 1 Axes>"
      ]
     },
     "metadata": {
      "needs_background": "light"
     },
     "output_type": "display_data"
    }
   ],
   "source": [
    "sns.distplot(df[\"avg_bbox_longevity\"])"
   ]
  },
  {
   "cell_type": "code",
   "execution_count": 12,
   "metadata": {},
   "outputs": [
    {
     "data": {
      "text/plain": [
       "<AxesSubplot:xlabel='avg_num_bboxes'>"
      ]
     },
     "execution_count": 12,
     "metadata": {},
     "output_type": "execute_result"
    },
    {
     "data": {
      "image/png": "[encoded data removed]",
      "text/plain": [
       "<Figure size 432x288 with 1 Axes>"
      ]
     },
     "metadata": {
      "needs_background": "light"
     },
     "output_type": "display_data"
    }
   ],
   "source": [
    "sns.distplot(df[\"avg_num_bboxes\"])"
   ]
  },
  {
   "cell_type": "code",
   "execution_count": 13,
   "metadata": {},
   "outputs": [
    {
     "data": {
      "text/plain": [
       "Text(0.5, 0, 'Mean number of bounding boxes per scenario')"
      ]
     },
     "execution_count": 13,
     "metadata": {},
     "output_type": "execute_result"
    },
    {
     "data": {
      "image/png": "[encoded data removed]",
      "text/plain": [
       "<Figure size 432x288 with 1 Axes>"
      ]
     },
     "metadata": {
      "needs_background": "light"
     },
     "output_type": "display_data"
    }
   ],
   "source": [
    "sns.distplot(df[\"avg_bbox_speed\"])\n",
    "plt.xlabel(\"Mean number of bounding boxes per scenario\")"
   ]
  },
  {
   "cell_type": "code",
   "execution_count": 14,
   "metadata": {},
   "outputs": [
    {
     "data": {
      "text/plain": [
       "Text(0.5, 0, 'Mean bounding box speed per scenario')"
      ]
     },
     "execution_count": 14,
     "metadata": {},
     "output_type": "execute_result"
    },
    {
     "data": {
      "image/png": "[encoded data removed]",
      "text/plain": [
       "<Figure size 432x288 with 1 Axes>"
      ]
     },
     "metadata": {
      "needs_background": "light"
     },
     "output_type": "display_data"
    }
   ],
   "source": [
    "sns.distplot(df[\"avg_bbox_size\"])\n",
    "plt.xlim(0, 140000)\n",
    "plt.xlabel(\"Mean bounding box speed per scenario\")"
   ]
  },
  {
   "cell_type": "code",
   "execution_count": 15,
   "metadata": {},
   "outputs": [
    {
     "data": {
      "text/plain": [
       "Text(0.5, 0, 'Mean ego-vehicle speed [m/s]')"
      ]
     },
     "execution_count": 15,
     "metadata": {},
     "output_type": "execute_result"
    },
    {
     "data": {
      "image/png": "[encoded data removed]",
      "text/plain": [
       "<Figure size 432x288 with 1 Axes>"
      ]
     },
     "metadata": {
      "needs_background": "light"
     },
     "output_type": "display_data"
    }
   ],
   "source": [
    "sns.distplot(df[\"avg_ego_speed\"])\n",
    "plt.xlabel(\"Mean ego-vehicle speed [m/s]\")"
   ]
  },
  {
   "cell_type": "code",
   "execution_count": 16,
   "metadata": {},
   "outputs": [
    {
     "data": {
      "text/plain": [
       "<BarContainer object of 3 artists>"
      ]
     },
     "execution_count": 16,
     "metadata": {},
     "output_type": "execute_result"
    },
    {
     "data": {
      "image/png": "[encoded data removed]",
      "text/plain": [
       "<Figure size 432x288 with 1 Axes>"
      ]
     },
     "metadata": {
      "needs_background": "light"
     },
     "output_type": "display_data"
    }
   ],
   "source": [
    "locations = dict(df[\"location\"].value_counts())\n",
    "plt.bar(locations.keys(), locations.values())"
   ]
  },
  {
   "cell_type": "code",
   "execution_count": 17,
   "metadata": {},
   "outputs": [
    {
     "data": {
      "text/plain": [
       "<BarContainer object of 3 artists>"
      ]
     },
     "execution_count": 17,
     "metadata": {},
     "output_type": "execute_result"
    },
    {
     "data": {
      "image/png": "[encoded data removed]",
      "text/plain": [
       "<Figure size 432x288 with 1 Axes>"
      ]
     },
     "metadata": {
      "needs_background": "light"
     },
     "output_type": "display_data"
    }
   ],
   "source": [
    "locations = dict(df[\"time_of_day\"].value_counts())\n",
    "plt.bar(locations.keys(), locations.values())"
   ]
  },
  {
   "cell_type": "code",
   "execution_count": 18,
   "metadata": {},
   "outputs": [
    {
     "data": {
      "text/plain": [
       "<BarContainer object of 2 artists>"
      ]
     },
     "execution_count": 18,
     "metadata": {},
     "output_type": "execute_result"
    },
    {
     "data": {
      "image/png": "[encoded data removed]",
      "text/plain": [
       "<Figure size 432x288 with 1 Axes>"
      ]
     },
     "metadata": {
      "needs_background": "light"
     },
     "output_type": "display_data"
    }
   ],
   "source": [
    "locations = dict(df[\"weather\"].value_counts())\n",
    "plt.bar(locations.keys(), locations.values())"
   ]
  },
  {
   "cell_type": "code",
   "execution_count": 18,
   "metadata": {},
   "outputs": [
    {
     "name": "stderr",
     "output_type": "stream",
     "text": [
      "100%|██████████| 273/273 [08:11<00:00,  1.80s/it]\n"
     ]
    }
   ],
   "source": [
    "for path in tqdm(list(Path(\"/data/ges/waymo/\").glob(\"*/*.tfrecord\"))):\n",
    "    frames = frames_from_path(path)\n",
    "    weathers = [frame.context.stats.weather for frame in frames]\n",
    "    tods = [frame.context.stats.time_of_day for frame in frames]\n",
    "    locs = [frame.context.stats.location for frame in frames]\n",
    "    assert len(set(weathers)) == 1, path\n",
    "    assert len(set(tods)) == 1, path\n",
    "    assert len(set(locs)) == 1, path"
   ]
  },
  {
   "cell_type": "code",
   "execution_count": null,
   "metadata": {},
   "outputs": [],
   "source": []
  },
  {
   "cell_type": "code",
   "execution_count": null,
   "metadata": {},
   "outputs": [],
   "source": []
  },
  {
   "cell_type": "code",
   "execution_count": 59,
   "metadata": {},
   "outputs": [
    {
     "data": {
      "text/plain": [
       "Series([], Name: scenario_name, dtype: object)"
      ]
     },
     "execution_count": 59,
     "metadata": {},
     "output_type": "execute_result"
    }
   ],
   "source": [
    "df[\"scenario_name\"][df[\"scenario_name\"] == \"training_0001-S15-P2_5\"]"
   ]
  },
  {
   "cell_type": "code",
   "execution_count": 61,
   "metadata": {},
   "outputs": [],
   "source": [
    "def featurize_2(frames_path, part_length_s):\n",
    "    assert 20%part_length_s == 0, \"20s (the time length of each scenario in waymo) is not divisible by {}\".format(part_length_s)\n",
    "    frames = frames_from_path(frames_path)\n",
    "    result = []\n",
    "    for i, frame_chunck in enumerate(chunks(frames, 10*part_length_s)):\n",
    "        bbox_info = collect_bbox_info_per_frame(frame_chunck)\n",
    "        vel = get_velocity(frame_chunck)\n",
    "        ego_vehicle_speed = np.sqrt(vel[:, 0]**2 + vel[:, 1]**2 + vel[:, 2] ** 2)\n",
    "        if np.max(bbox_info[\"num_bboxes\"]) != 0:\n",
    "            features = {\n",
    "                \"avg_bbox_longevity\": np.mean(bbox_info[\"bbox_longevity\"]),\n",
    "                \"90p_bbox_longevity\": np.percentile(bbox_info[\"bbox_longevity\"], 90),\n",
    "                \"90p_num_bboxes\":  np.percentile(bbox_info[\"num_bboxes\"], 90),\n",
    "                \"90p_bbox_speed\":  np.percentile([np.mean(list(d.values())) if len(d.values()) > 0 else 0 for d in bbox_info[\"bbox_speed\"]], 90),\n",
    "                \"90p_bbox_size\":  np.percentile(bbox_info[\"avg_bbox_size\"], 90),\n",
    "                \"avg_num_bboxes\": np.mean(bbox_info[\"num_bboxes\"]),\n",
    "                \"avg_bbox_speed\": np.mean([np.mean(list(d.values())) if len(d.values()) > 0 else 0 for d in bbox_info[\"bbox_speed\"]]),\n",
    "                \"avg_bbox_size\": np.mean(bbox_info[\"avg_bbox_size\"]),\n",
    "                \"avg_ego_speed\": np.mean(ego_vehicle_speed),\n",
    "                **get_context_info(frames)\n",
    "            }\n",
    "            result.append((i, features))\n",
    "    return result"
   ]
  },
  {
   "cell_type": "code",
   "execution_count": 62,
   "metadata": {},
   "outputs": [
    {
     "data": {
      "text/plain": [
       "[(0,\n",
       "  {'avg_bbox_longevity': 19.363636363636363,\n",
       "   '90p_bbox_longevity': 26.0,\n",
       "   '90p_num_bboxes': 9.0,\n",
       "   '90p_bbox_speed': 545.9948382097524,\n",
       "   '90p_bbox_size': 153913.8374290439,\n",
       "   'avg_num_bboxes': 5.325,\n",
       "   'avg_bbox_speed': 345.05179530804907,\n",
       "   'avg_bbox_size': 81222.84981927845,\n",
       "   'avg_ego_speed': 2.5754862779300454,\n",
       "   'time_of_day': 'Day',\n",
       "   'weather': 'sunny',\n",
       "   'location': 'location_sf'}),\n",
       " (1,\n",
       "  {'avg_bbox_longevity': 39.0,\n",
       "   '90p_bbox_longevity': 39.0,\n",
       "   '90p_num_bboxes': 1.0,\n",
       "   '90p_bbox_speed': 253.3146394070995,\n",
       "   '90p_bbox_size': 163607.7959286404,\n",
       "   'avg_num_bboxes': 0.975,\n",
       "   'avg_bbox_speed': 133.95163294694265,\n",
       "   'avg_bbox_size': 130512.41797793047,\n",
       "   'avg_ego_speed': 0.6680267822172526,\n",
       "   'time_of_day': 'Day',\n",
       "   'weather': 'sunny',\n",
       "   'location': 'location_sf'}),\n",
       " (3,\n",
       "  {'avg_bbox_longevity': 18.272727272727273,\n",
       "   '90p_bbox_longevity': 22.0,\n",
       "   '90p_num_bboxes': 10.0,\n",
       "   '90p_bbox_speed': 604.8242910077233,\n",
       "   '90p_bbox_size': 99568.82442956671,\n",
       "   'avg_num_bboxes': 5.025,\n",
       "   'avg_bbox_speed': 379.534001863323,\n",
       "   'avg_bbox_size': 48957.31158511872,\n",
       "   'avg_ego_speed': 2.3803690072035133,\n",
       "   'time_of_day': 'Day',\n",
       "   'weather': 'sunny',\n",
       "   'location': 'location_sf'}),\n",
       " (4,\n",
       "  {'avg_bbox_longevity': 28.6,\n",
       "   '90p_bbox_longevity': 39.0,\n",
       "   '90p_num_bboxes': 8.0,\n",
       "   '90p_bbox_speed': 90.5175735509626,\n",
       "   '90p_bbox_size': 66229.21368379117,\n",
       "   'avg_num_bboxes': 7.333333333333333,\n",
       "   'avg_bbox_speed': 71.48420842570981,\n",
       "   'avg_bbox_size': 39281.181225003966,\n",
       "   'avg_ego_speed': 6.279611103160546,\n",
       "   'time_of_day': 'Day',\n",
       "   'weather': 'sunny',\n",
       "   'location': 'location_sf'})]"
      ]
     },
     "execution_count": 62,
     "metadata": {},
     "output_type": "execute_result"
    }
   ],
   "source": [
    "featurize_2(\"/data/ges/waymo/training_0001/S_15.tfrecord\", 4)"
   ]
  },
  {
   "cell_type": "code",
   "execution_count": null,
   "metadata": {},
   "outputs": [],
   "source": []
  }
 ],
 "metadata": {
  "colab": {
   "collapsed_sections": [],
   "name": "Waymo Open Dataset Tutorial.ipynb",
   "private_outputs": true,
   "provenance": [],
   "toc_visible": true
  },
  "kernelspec": {
   "display_name": "Python (waymo_env)",
   "language": "python",
   "name": "waymo_env"
  },
  "language_info": {
   "codemirror_mode": {
    "name": "ipython",
    "version": 3
   },
   "file_extension": ".py",
   "mimetype": "text/x-python",
   "name": "python",
   "nbconvert_exporter": "python",
   "pygments_lexer": "ipython3",
   "version": "3.7.7"
  }
 },
 "nbformat": 4,
 "nbformat_minor": 4
}
