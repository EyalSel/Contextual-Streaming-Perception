{
 "cells": [
  {
   "cell_type": "markdown",
   "metadata": {},
   "source": [
    "# Create and visualize an empty frame mask for the waymo scenarios"
   ]
  },
  {
   "cell_type": "code",
   "execution_count": 2,
   "metadata": {
    "colab": {},
    "colab_type": "code",
    "id": "hDQ1DPqwdfNW"
   },
   "outputs": [],
   "source": [
    "import os\n",
    "import math\n",
    "import numpy as np\n",
    "import itertools\n",
    "\n",
    "from tqdm import tqdm\n",
    "\n",
    "from ad_config_search.waymo_utils import *\n",
    "\n",
    "from pathlib import Path\n",
    "\n",
    "import matplotlib.pyplot as plt\n",
    "\n",
    "import pandas as pd\n",
    "\n",
    "import seaborn as sns\n",
    "\n",
    "import pickle\n",
    "\n",
    "%load_ext autoreload\n",
    "%autoreload 2"
   ]
  },
  {
   "cell_type": "code",
   "execution_count": 2,
   "metadata": {},
   "outputs": [],
   "source": [
    "tfrecord_paths = list(Path(\"/data/ges/waymo\").glob(\"*/*.tfrecord\"))"
   ]
  },
  {
   "cell_type": "code",
   "execution_count": 3,
   "metadata": {},
   "outputs": [
    {
     "name": "stderr",
     "output_type": "stream",
     "text": [
      "100%|██████████| 273/273 [08:10<00:00,  1.80s/it]\n"
     ]
    }
   ],
   "source": [
    "empty_frame_mask = {}\n",
    "for p in tqdm(tfrecord_paths):\n",
    "    scenario_name = p.parent.stem+\"-\"+p.stem.replace(\"_\", \"\")\n",
    "    bboxes = collect_bboxes(frames_from_path(p))\n",
    "    empty_frame_mask[scenario_name] = [frame == {} for frame in bboxes]"
   ]
  },
  {
   "cell_type": "code",
   "execution_count": 9,
   "metadata": {},
   "outputs": [
    {
     "data": {
      "text/plain": [
       "200"
      ]
     },
     "execution_count": 9,
     "metadata": {},
     "output_type": "execute_result"
    }
   ],
   "source": [
    "max([len(m) for m in empty_frame_mask.values()])"
   ]
  },
  {
   "cell_type": "code",
   "execution_count": 7,
   "metadata": {},
   "outputs": [],
   "source": [
    "with open(\"empty_frame_mask.pl\", 'wb') as f:\n",
    "    pickle.dump(empty_frame_mask, f)"
   ]
  },
  {
   "cell_type": "code",
   "execution_count": 5,
   "metadata": {},
   "outputs": [],
   "source": [
    "# pad empty frame mask with -1s to get unfirom 200 length\n",
    "empty_frame_mask_rect = np.array([np.pad(np.array(v).astype(int), (0, 200-len(v)), constant_values=-1) for v in empty_frame_mask.values()])"
   ]
  },
  {
   "cell_type": "code",
   "execution_count": 6,
   "metadata": {},
   "outputs": [
    {
     "data": {
      "text/plain": [
       "<matplotlib.image.AxesImage at 0x7fa8b703dcc0>"
      ]
     },
     "execution_count": 6,
     "metadata": {},
     "output_type": "execute_result"
    },
    {
     "data": {
      "image/png": "[encoded data removed]",
      "text/plain": [
       "<Figure size 720x720 with 1 Axes>"
      ]
     },
     "metadata": {
      "needs_background": "light"
     },
     "output_type": "display_data"
    }
   ],
   "source": [
    "# dark represents no frame\n",
    "# green represents frame with obstacles\n",
    "# yellow represents frame with no obstacles\n",
    "plt.figure(figsize=(10, 10))\n",
    "plt.ylabel(\"scenario\")\n",
    "plt.xlabel(\"scenario frame index\")\n",
    "plt.imshow(empty_frame_mask_rect)"
   ]
  },
  {
   "cell_type": "code",
   "execution_count": 12,
   "metadata": {},
   "outputs": [
    {
     "data": {
      "text/plain": [
       "0.028047065788499963"
      ]
     },
     "execution_count": 12,
     "metadata": {},
     "output_type": "execute_result"
    }
   ],
   "source": [
    "# fraction empty frames in the dataset\n",
    "np.sum([np.sum(x) for x in empty_frame_mask.values()]) / np.sum([len(x) for x in empty_frame_mask.values()])"
   ]
  },
  {
   "cell_type": "code",
   "execution_count": 9,
   "metadata": {},
   "outputs": [
    {
     "data": {
      "text/plain": [
       "0.1575091575091575"
      ]
     },
     "execution_count": 9,
     "metadata": {},
     "output_type": "execute_result"
    }
   ],
   "source": [
    "# fraction of scenarios with any empty frames in the dataset\n",
    "np.sum([np.any(x) for x in empty_frame_mask.values()]) / len(empty_frame_mask.values())"
   ]
  },
  {
   "cell_type": "code",
   "execution_count": 11,
   "metadata": {},
   "outputs": [
    {
     "data": {
      "text/plain": [
       "0.08424908424908426"
      ]
     },
     "execution_count": 11,
     "metadata": {},
     "output_type": "execute_result"
    }
   ],
   "source": [
    "# fraction of scenarios with more than 10% frames empty\n",
    "np.sum([np.sum(x) / len(x) > 0.1 for x in empty_frame_mask.values()]) / len(empty_frame_mask.values())"
   ]
  },
  {
   "cell_type": "code",
   "execution_count": null,
   "metadata": {},
   "outputs": [],
   "source": []
  }
 ],
 "metadata": {
  "kernelspec": {
   "display_name": "Python 3",
   "language": "python",
   "name": "python3"
  },
  "language_info": {
   "codemirror_mode": {
    "name": "ipython",
    "version": 3
   },
   "file_extension": ".py",
   "mimetype": "text/x-python",
   "name": "python",
   "nbconvert_exporter": "python",
   "pygments_lexer": "ipython3",
   "version": "3.6.12"
  }
 },
 "nbformat": 4,
 "nbformat_minor": 4
}
