{
 "cells": [
  {
   "cell_type": "code",
   "execution_count": 1,
   "metadata": {},
   "outputs": [],
   "source": [
    "import pickle\n",
    "from pathlib import Path\n",
    "import numpy as np\n",
    "import pandas as pd\n",
    "from tqdm import tqdm\n",
    "\n",
    "\n",
    "%load_ext autoreload\n",
    "%autoreload 2"
   ]
  },
  {
   "cell_type": "code",
   "execution_count": 2,
   "metadata": {},
   "outputs": [],
   "source": [
    "num_gt_matrix = np.load(\"num_gt_matrix.npy\")\n",
    "with open(\"num_gt_matrix_index.pl\", 'rb') as f:\n",
    "    num_gt_matrix_index = pickle.load(f)"
   ]
  },
  {
   "cell_type": "code",
   "execution_count": 38,
   "metadata": {},
   "outputs": [
    {
     "data": {
      "text/plain": [
       "[PosixPath('model_type=RF__env_window_size=10s__time_strategy=present__env_feats=ground-truth-v3__stride_strategy=window-size__other=condensed-k_10__te=0.47.pl'),\n",
       " PosixPath('model_type=RF__env_window_size=10s__time_strategy=present__env_feats=pipeline-output-v1__stride_strategy=window-size__other=condensed-k_10__te=-10290005.14.pl'),\n",
       " PosixPath('model_type=RF__env_window_size=4s__time_strategy=past-1-step__env_feats=pipeline-output-v1__stride_strategy=window-size__other=condensed-k_10__te=-12025128.71.pl'),\n",
       " PosixPath('model_type=RF__env_window_size=10s__time_strategy=past-1-step__env_feats=ground-truth-v3__stride_strategy=window-size__other=condensed-k_10__te=-40292943.22.pl'),\n",
       " PosixPath('model_type=RF__env_window_size=4__time_strategy=past-1-step__env_feats=ground-truth-v3__stride_strategy=uniform_window_skip__other=k_10-condensed-space__te=-636474595.77.pl')]"
      ]
     },
     "execution_count": 38,
     "metadata": {},
     "output_type": "execute_result"
    }
   ],
   "source": [
    "models_paths = list(Path(\".\").glob(\"model_type=RF*\"))\n",
    "models_paths"
   ]
  },
  {
   "cell_type": "code",
   "execution_count": 39,
   "metadata": {},
   "outputs": [],
   "source": [
    "model_dicts = []\n",
    "for p in models_paths:\n",
    "    with open(p, 'rb') as f:\n",
    "        model_dicts.append(pickle.load(f))"
   ]
  },
  {
   "cell_type": "code",
   "execution_count": 40,
   "metadata": {},
   "outputs": [
    {
     "name": "stdout",
     "output_type": "stream",
     "text": [
      "{'model_type': 'RF', 'env_window_size': '10s', 'time_strategy': 'present', 'env_feats': 'ground-truth-v3', 'stride_strategy': 'window-size', 'other': 'condensed-k_10'}\n",
      "{'model_type': 'RF', 'env_window_size': '10s', 'time_strategy': 'present', 'env_feats': 'pipeline-output-v1', 'stride_strategy': 'window-size', 'other': 'condensed-k_10'}\n",
      "{'model_type': 'RF', 'env_window_size': '4s', 'time_strategy': 'past-1-step', 'env_feats': 'pipeline-output-v1', 'stride_strategy': 'window-size', 'other': 'condensed-k_10'}\n",
      "{'model_type': 'RF', 'env_window_size': '10s', 'time_strategy': 'past-1-step', 'env_feats': 'ground-truth-v3', 'stride_strategy': 'window-size', 'other': 'condensed-k_10'}\n",
      "{'model_type': 'RF', 'env_window_size': 4, 'time_strategy': 'past-1-step', 'env_feats': 'ground-truth-v3', 'stride_strategy': 'uniform_window_skip', 'other': 'k_10-condensed-space'}\n"
     ]
    }
   ],
   "source": [
    "for m in model_dicts:\n",
    "    print(m[\"metadata\"])"
   ]
  },
  {
   "cell_type": "code",
   "execution_count": 6,
   "metadata": {},
   "outputs": [],
   "source": [
    "from ad_config_search.utils import create_sequential_policy, contract_one_hot,\\\n",
    "        get_rows, evaluate_configuration_sequence, evaluate_fine_grained_policy"
   ]
  },
  {
   "cell_type": "code",
   "execution_count": 7,
   "metadata": {},
   "outputs": [],
   "source": [
    "def highest_avg_config(exp_dict):\n",
    "    \"\"\"\n",
    "    Computes only over training dataset as it should be.\n",
    "    Only focuses on the configuration knobs ['D-model', 'D-conf',\n",
    "    'D-seq-pol', 'T-min-iou', 'T-max-age', 'T-every-nth-det'] and the\n",
    "    scenario columns for the sake of computing the average score. All\n",
    "    other columns are ignored.\n",
    "    \"\"\"\n",
    "    config_knobs = ['D-model', 'D-conf', 'D-seq-pol', 'T-min-iou', 'T-max-age', 'T-every-nth-det']\n",
    "    train_copy = exp_dict[\"train\"].copy()\n",
    "    train_copy[\"score\"] = exp_dict[\"train_labels\"]\n",
    "    train_copy[\"scenario_name\"] = train_copy.index\n",
    "    train_copy = contract_one_hot(train_copy)\n",
    "    train_copy = train_copy.drop_duplicates(subset=config_knobs+[\"scenario_name\"])  # essentially ignores other columns\n",
    "    highest_tup = None\n",
    "    config_score_pairs = \\\n",
    "        [(config_tup, rows[\"score\"].mean()) for config_tup, rows in train_copy.groupby(config_knobs)]\n",
    "    highest_tup, _ = sorted(config_score_pairs, key=lambda x: x[1])[-1]\n",
    "    best_average_config = dict(zip(config_knobs, highest_tup))\n",
    "    return best_average_config"
   ]
  },
  {
   "cell_type": "code",
   "execution_count": 8,
   "metadata": {},
   "outputs": [],
   "source": [
    "def po_past_scores(exp_dict, num_gt_matrix, num_gt_matrix_index):\n",
    "    best_average_config = highest_avg_config(exp_dict)\n",
    "    \n",
    "    test_copy = exp_dict[\"test\"].copy()\n",
    "    test_copy[\"scenario_name\"] = test_copy.index\n",
    "    test_copy[\"prediction\"] = exp_dict[\"model\"].predict(exp_dict[\"test\"])\n",
    "    test_copy = contract_one_hot(test_copy)\n",
    "        \n",
    "    final_policy = {} \n",
    "    # iterate over full scenarios\n",
    "    for scenario in tqdm(test_copy[\"scenario_name\"].map(lambda x: x.split(\"-P\")[0]).unique()):\n",
    "        scenario_policy = create_sequential_policy(scenario, best_average_config, test_copy)\n",
    "        final_policy.update(scenario_policy)\n",
    "        if scenario == \"training_0002-S4\":\n",
    "            print(scenario_policy)\n",
    "\n",
    "    return evaluate_fine_grained_policy(final_policy, num_gt_matrix, num_gt_matrix_index)"
   ]
  },
  {
   "cell_type": "code",
   "execution_count": 23,
   "metadata": {},
   "outputs": [
    {
     "name": "stderr",
     "output_type": "stream",
     "text": [
      "[Parallel(n_jobs=144)]: Using backend ThreadingBackend with 144 concurrent workers.\n",
      "[Parallel(n_jobs=144)]: Done 162 tasks      | elapsed:    0.3s\n",
      "[Parallel(n_jobs=144)]: Done 512 tasks      | elapsed:    0.8s\n",
      "[Parallel(n_jobs=144)]: Done 962 tasks      | elapsed:    1.5s\n",
      "[Parallel(n_jobs=144)]: Done 1512 tasks      | elapsed:    2.6s\n",
      "[Parallel(n_jobs=144)]: Done 2400 out of 2400 | elapsed:    3.8s finished\n",
      " 18%|█▊        | 9/49 [00:06<00:29,  1.36it/s]"
     ]
    },
    {
     "name": "stdout",
     "output_type": "stream",
     "text": [
      "training_0000-S16-P1_5 doesn't exist in the data fed!\n",
      "training_0000-S16-P2_5 doesn't exist in the data fed!\n",
      "training_0000-S16-P3_5 doesn't exist in the data fed!\n",
      "training_0000-S16-P4_5 doesn't exist in the data fed!\n"
     ]
    },
    {
     "name": "stderr",
     "output_type": "stream",
     "text": [
      " 51%|█████     | 25/49 [00:18<00:17,  1.37it/s]"
     ]
    },
    {
     "name": "stdout",
     "output_type": "stream",
     "text": [
      "training_0002-S9-P1_5 doesn't exist in the data fed!\n",
      "training_0002-S9-P2_5 doesn't exist in the data fed!\n",
      "training_0002-S9-P3_5 doesn't exist in the data fed!\n",
      "training_0002-S9-P4_5 doesn't exist in the data fed!\n"
     ]
    },
    {
     "name": "stderr",
     "output_type": "stream",
     "text": [
      " 73%|███████▎  | 36/49 [00:26<00:09,  1.37it/s]"
     ]
    },
    {
     "name": "stdout",
     "output_type": "stream",
     "text": [
      "training_0004-S1-P1_5 doesn't exist in the data fed!\n",
      "training_0004-S1-P2_5 doesn't exist in the data fed!\n",
      "training_0004-S1-P3_5 doesn't exist in the data fed!\n"
     ]
    },
    {
     "name": "stderr",
     "output_type": "stream",
     "text": [
      " 76%|███████▌  | 37/49 [00:27<00:08,  1.36it/s]"
     ]
    },
    {
     "name": "stdout",
     "output_type": "stream",
     "text": [
      "training_0004-S1-P4_5 doesn't exist in the data fed!\n"
     ]
    },
    {
     "name": "stderr",
     "output_type": "stream",
     "text": [
      " 80%|███████▉  | 39/49 [00:28<00:07,  1.35it/s]"
     ]
    },
    {
     "name": "stdout",
     "output_type": "stream",
     "text": [
      "training_0004-S16-P1_5 doesn't exist in the data fed!\n",
      "training_0004-S16-P2_5 doesn't exist in the data fed!\n",
      "training_0004-S16-P3_5 doesn't exist in the data fed!\n"
     ]
    },
    {
     "name": "stderr",
     "output_type": "stream",
     "text": [
      " 82%|████████▏ | 40/49 [00:29<00:06,  1.34it/s]"
     ]
    },
    {
     "name": "stdout",
     "output_type": "stream",
     "text": [
      "training_0004-S16-P4_5 doesn't exist in the data fed!\n"
     ]
    },
    {
     "name": "stderr",
     "output_type": "stream",
     "text": [
      " 86%|████████▌ | 42/49 [00:30<00:05,  1.35it/s]"
     ]
    },
    {
     "name": "stdout",
     "output_type": "stream",
     "text": [
      "training_0004-S20-P1_5 doesn't exist in the data fed!\n",
      "training_0004-S20-P2_5 doesn't exist in the data fed!\n",
      "training_0004-S20-P3_5 doesn't exist in the data fed!\n",
      "training_0004-S20-P4_5 doesn't exist in the data fed!\n"
     ]
    },
    {
     "name": "stderr",
     "output_type": "stream",
     "text": [
      " 90%|████████▉ | 44/49 [00:32<00:03,  1.36it/s]"
     ]
    },
    {
     "name": "stdout",
     "output_type": "stream",
     "text": [
      "training_0004-S5-P1_5 doesn't exist in the data fed!\n",
      "training_0004-S5-P2_5 doesn't exist in the data fed!\n",
      "training_0004-S5-P3_5 doesn't exist in the data fed!\n",
      "training_0004-S5-P4_5 doesn't exist in the data fed!\n"
     ]
    },
    {
     "name": "stderr",
     "output_type": "stream",
     "text": [
      "100%|██████████| 49/49 [00:35<00:00,  1.37it/s]\n",
      "100%|██████████| 49/49 [00:07<00:00,  6.64it/s]\n"
     ]
    }
   ],
   "source": [
    "learned_po_past_4s_scores = po_past_scores(model_dicts[2], num_gt_matrix, num_gt_matrix_index)"
   ]
  },
  {
   "cell_type": "raw",
   "metadata": {},
   "source": [
    "learned_po_past_10s_scores = po_past_scores(model_dicts[-2], num_gt_matrix, num_gt_matrix_index)"
   ]
  },
  {
   "cell_type": "code",
   "execution_count": 11,
   "metadata": {},
   "outputs": [],
   "source": [
    "with open(\"learned_po_past_4s_scores.pl\", 'wb') as f:\n",
    "    pickle.dump(learned_po_past_4s_scores, f)"
   ]
  },
  {
   "cell_type": "raw",
   "metadata": {},
   "source": [
    "with open(\"learned_po_past_10s_scores.pl\", 'wb') as f:\n",
    "    pickle.dump(learned_po_past_10s_scores, f)"
   ]
  },
  {
   "cell_type": "code",
   "execution_count": 15,
   "metadata": {},
   "outputs": [],
   "source": [
    "def gt_scores(exp_dict, num_gt_matrix, num_gt_matrix_index):\n",
    "    config_knobs = ['D-model', 'D-conf', 'D-seq-pol', 'T-min-iou', 'T-max-age', 'T-every-nth-det']\n",
    "    test_copy = exp_dict[\"test\"].copy()\n",
    "    test_copy[\"scenario_name\"] = test_copy.index\n",
    "    test_copy[\"prediction\"] = exp_dict[\"model\"].predict(exp_dict[\"test\"])\n",
    "    test_copy = contract_one_hot(test_copy)\n",
    "    \n",
    "    final_policy = {}\n",
    "    for scenario, rows in test_copy.groupby([\"scenario_name\"]):\n",
    "        best_row = rows.iloc[rows[\"prediction\"].argmax()]\n",
    "        best_config = {k: best_row[k] for k in config_knobs}\n",
    "        final_policy[scenario] = best_config\n",
    "    \n",
    "    print(list(final_policy.keys())[0])\n",
    "    return evaluate_fine_grained_policy(final_policy, num_gt_matrix, num_gt_matrix_index, default_config=highest_avg_config(exp_dict))"
   ]
  },
  {
   "cell_type": "code",
   "execution_count": 24,
   "metadata": {},
   "outputs": [
    {
     "name": "stderr",
     "output_type": "stream",
     "text": [
      "[Parallel(n_jobs=144)]: Using backend ThreadingBackend with 144 concurrent workers.\n",
      "[Parallel(n_jobs=144)]: Done 174 tasks      | elapsed:    0.2s\n",
      "[Parallel(n_jobs=144)]: Done 524 tasks      | elapsed:    0.4s\n",
      "[Parallel(n_jobs=144)]: Done 974 tasks      | elapsed:    0.6s\n",
      "[Parallel(n_jobs=144)]: Done 1600 out of 1600 | elapsed:    0.9s finished\n"
     ]
    },
    {
     "name": "stdout",
     "output_type": "stream",
     "text": [
      "training_0000-S0-P0_5\n"
     ]
    },
    {
     "name": "stderr",
     "output_type": "stream",
     "text": [
      " 98%|█████████▊| 48/49 [00:07<00:00,  6.75it/s]"
     ]
    },
    {
     "name": "stdout",
     "output_type": "stream",
     "text": [
      "only found [1, 2, 3, 4] of scenario training_0005-S23\n"
     ]
    },
    {
     "name": "stderr",
     "output_type": "stream",
     "text": [
      "100%|██████████| 49/49 [00:07<00:00,  6.73it/s]\n"
     ]
    }
   ],
   "source": [
    "learned_gt_present_4s_scores = gt_scores(model_dicts[0], num_gt_matrix, num_gt_matrix_index)"
   ]
  },
  {
   "cell_type": "raw",
   "metadata": {},
   "source": [
    "learned_gt_present_10s_scores = gt_scores(model_dicts[4], num_gt_matrix, num_gt_matrix_index)"
   ]
  },
  {
   "cell_type": "code",
   "execution_count": 26,
   "metadata": {},
   "outputs": [],
   "source": [
    "with open(\"learned_gt_present_4s_scores.pl\", 'wb') as f:\n",
    "    pickle.dump(learned_gt_present_4s_scores, f)"
   ]
  },
  {
   "cell_type": "raw",
   "metadata": {},
   "source": [
    "with open(\"learned_gt_present_10s_scores.pl\", 'wb') as f:\n",
    "    pickle.dump(learned_gt_present_10s_scores, f)"
   ]
  },
  {
   "cell_type": "code",
   "execution_count": 25,
   "metadata": {
    "collapsed": true,
    "jupyter": {
     "outputs_hidden": true
    }
   },
   "outputs": [
    {
     "name": "stderr",
     "output_type": "stream",
     "text": [
      "[Parallel(n_jobs=144)]: Using backend ThreadingBackend with 144 concurrent workers.\n",
      "[Parallel(n_jobs=144)]: Done 400 out of 400 | elapsed:    0.2s finished\n",
      "  0%|          | 0/49 [00:00<?, ?it/s]"
     ]
    },
    {
     "name": "stdout",
     "output_type": "stream",
     "text": [
      "training_0000-S0-P1_5\n",
      "only found [1, 2, 3, 4] of scenario training_0000-S0\n"
     ]
    },
    {
     "name": "stderr",
     "output_type": "stream",
     "text": [
      "  4%|▍         | 2/49 [00:00<00:06,  6.78it/s]"
     ]
    },
    {
     "name": "stdout",
     "output_type": "stream",
     "text": [
      "only found [1, 2, 3, 4] of scenario training_0000-S1\n",
      "only found [1, 2, 3, 4] of scenario training_0000-S10\n"
     ]
    },
    {
     "name": "stderr",
     "output_type": "stream",
     "text": [
      "  8%|▊         | 4/49 [00:00<00:06,  6.85it/s]"
     ]
    },
    {
     "name": "stdout",
     "output_type": "stream",
     "text": [
      "only found [1, 2, 3, 4] of scenario training_0000-S11\n",
      "only found [1, 2, 3, 4] of scenario training_0000-S12\n"
     ]
    },
    {
     "name": "stderr",
     "output_type": "stream",
     "text": [
      " 12%|█▏        | 6/49 [00:00<00:06,  6.69it/s]"
     ]
    },
    {
     "name": "stdout",
     "output_type": "stream",
     "text": [
      "only found [1, 2, 3, 4] of scenario training_0000-S13\n",
      "only found [1, 2, 3, 4] of scenario training_0000-S14\n"
     ]
    },
    {
     "name": "stderr",
     "output_type": "stream",
     "text": [
      " 16%|█▋        | 8/49 [00:01<00:06,  6.73it/s]"
     ]
    },
    {
     "name": "stdout",
     "output_type": "stream",
     "text": [
      "only found [1, 2, 3, 4] of scenario training_0000-S15\n",
      "only found [1, 2, 3, 4] of scenario training_0000-S16\n"
     ]
    },
    {
     "name": "stderr",
     "output_type": "stream",
     "text": [
      " 20%|██        | 10/49 [00:01<00:05,  6.81it/s]"
     ]
    },
    {
     "name": "stdout",
     "output_type": "stream",
     "text": [
      "only found [1, 2, 3, 4] of scenario training_0000-S17\n",
      "only found [1, 2, 3, 4] of scenario training_0000-S18\n"
     ]
    },
    {
     "name": "stderr",
     "output_type": "stream",
     "text": [
      " 24%|██▍       | 12/49 [00:01<00:05,  6.82it/s]"
     ]
    },
    {
     "name": "stdout",
     "output_type": "stream",
     "text": [
      "only found [1, 2, 3, 4] of scenario training_0000-S19\n",
      "only found [1, 2, 3, 4] of scenario training_0000-S2\n"
     ]
    },
    {
     "name": "stderr",
     "output_type": "stream",
     "text": [
      " 29%|██▊       | 14/49 [00:02<00:05,  6.94it/s]"
     ]
    },
    {
     "name": "stdout",
     "output_type": "stream",
     "text": [
      "only found [1, 2, 3, 4] of scenario training_0000-S20\n",
      "only found [1, 2, 3, 4] of scenario training_0000-S21\n"
     ]
    },
    {
     "name": "stderr",
     "output_type": "stream",
     "text": [
      " 33%|███▎      | 16/49 [00:02<00:04,  7.01it/s]"
     ]
    },
    {
     "name": "stdout",
     "output_type": "stream",
     "text": [
      "only found [1, 2, 3, 4] of scenario training_0000-S22\n",
      "only found [1, 2, 3, 4] of scenario training_0000-S23\n"
     ]
    },
    {
     "name": "stderr",
     "output_type": "stream",
     "text": [
      " 37%|███▋      | 18/49 [00:02<00:04,  6.95it/s]"
     ]
    },
    {
     "name": "stdout",
     "output_type": "stream",
     "text": [
      "only found [1, 2, 3, 4] of scenario training_0000-S3\n",
      "only found [1, 2, 3, 4] of scenario training_0000-S4\n"
     ]
    },
    {
     "name": "stderr",
     "output_type": "stream",
     "text": [
      " 41%|████      | 20/49 [00:02<00:04,  7.08it/s]"
     ]
    },
    {
     "name": "stdout",
     "output_type": "stream",
     "text": [
      "only found [1, 2, 3, 4] of scenario training_0000-S5\n",
      "only found [1, 2, 3, 4] of scenario training_0000-S6\n"
     ]
    },
    {
     "name": "stderr",
     "output_type": "stream",
     "text": [
      " 45%|████▍     | 22/49 [00:03<00:03,  7.14it/s]"
     ]
    },
    {
     "name": "stdout",
     "output_type": "stream",
     "text": [
      "only found [1, 2, 3, 4] of scenario training_0002-S24\n",
      "only found [1, 2, 3, 4] of scenario training_0002-S4\n"
     ]
    },
    {
     "name": "stderr",
     "output_type": "stream",
     "text": [
      " 49%|████▉     | 24/49 [00:03<00:03,  6.96it/s]"
     ]
    },
    {
     "name": "stdout",
     "output_type": "stream",
     "text": [
      "only found [1, 2, 3, 4] of scenario training_0002-S6\n",
      "only found [1, 2, 3, 4] of scenario training_0002-S9\n"
     ]
    },
    {
     "name": "stderr",
     "output_type": "stream",
     "text": [
      " 53%|█████▎    | 26/49 [00:03<00:03,  7.07it/s]"
     ]
    },
    {
     "name": "stdout",
     "output_type": "stream",
     "text": [
      "only found [1, 2, 3, 4] of scenario training_0003-S1\n",
      "only found [1, 2, 3, 4] of scenario training_0003-S11\n"
     ]
    },
    {
     "name": "stderr",
     "output_type": "stream",
     "text": [
      " 57%|█████▋    | 28/49 [00:04<00:02,  7.01it/s]"
     ]
    },
    {
     "name": "stdout",
     "output_type": "stream",
     "text": [
      "only found [1, 2, 3, 4] of scenario training_0003-S14\n",
      "only found [1, 2, 3, 4] of scenario training_0003-S16\n"
     ]
    },
    {
     "name": "stderr",
     "output_type": "stream",
     "text": [
      " 61%|██████    | 30/49 [00:04<00:02,  6.91it/s]"
     ]
    },
    {
     "name": "stdout",
     "output_type": "stream",
     "text": [
      "only found [1, 2, 3, 4] of scenario training_0003-S18\n",
      "only found [1, 2, 3, 4] of scenario training_0003-S20\n"
     ]
    },
    {
     "name": "stderr",
     "output_type": "stream",
     "text": [
      " 65%|██████▌   | 32/49 [00:04<00:02,  6.90it/s]"
     ]
    },
    {
     "name": "stdout",
     "output_type": "stream",
     "text": [
      "only found [1, 2, 3, 4] of scenario training_0003-S22\n",
      "only found [1, 2, 3, 4] of scenario training_0003-S24\n"
     ]
    },
    {
     "name": "stderr",
     "output_type": "stream",
     "text": [
      " 69%|██████▉   | 34/49 [00:04<00:02,  6.96it/s]"
     ]
    },
    {
     "name": "stdout",
     "output_type": "stream",
     "text": [
      "only found [1, 2, 3, 4] of scenario training_0003-S5\n",
      "only found [1, 2, 3, 4] of scenario training_0003-S7\n"
     ]
    },
    {
     "name": "stderr",
     "output_type": "stream",
     "text": [
      " 73%|███████▎  | 36/49 [00:05<00:01,  7.07it/s]"
     ]
    },
    {
     "name": "stdout",
     "output_type": "stream",
     "text": [
      "only found [1, 2, 3, 4] of scenario training_0003-S9\n",
      "only found [1, 2, 3, 4] of scenario training_0004-S1\n"
     ]
    },
    {
     "name": "stderr",
     "output_type": "stream",
     "text": [
      " 78%|███████▊  | 38/49 [00:05<00:01,  7.03it/s]"
     ]
    },
    {
     "name": "stdout",
     "output_type": "stream",
     "text": [
      "only found [1, 2, 3, 4] of scenario training_0004-S12\n",
      "only found [1, 2, 3, 4] of scenario training_0004-S14\n"
     ]
    },
    {
     "name": "stderr",
     "output_type": "stream",
     "text": [
      " 82%|████████▏ | 40/49 [00:05<00:01,  7.00it/s]"
     ]
    },
    {
     "name": "stdout",
     "output_type": "stream",
     "text": [
      "only found [1, 2, 3, 4] of scenario training_0004-S16\n",
      "only found [1, 2, 3, 4] of scenario training_0004-S19\n"
     ]
    },
    {
     "name": "stderr",
     "output_type": "stream",
     "text": [
      " 86%|████████▌ | 42/49 [00:06<00:01,  6.93it/s]"
     ]
    },
    {
     "name": "stdout",
     "output_type": "stream",
     "text": [
      "only found [1, 2, 3, 4] of scenario training_0004-S20\n",
      "only found [1, 2, 3, 4] of scenario training_0004-S22\n"
     ]
    },
    {
     "name": "stderr",
     "output_type": "stream",
     "text": [
      " 90%|████████▉ | 44/49 [00:06<00:00,  6.89it/s]"
     ]
    },
    {
     "name": "stdout",
     "output_type": "stream",
     "text": [
      "only found [1, 2, 3, 4] of scenario training_0004-S5\n",
      "only found [1, 2, 3, 4] of scenario training_0005-S0\n"
     ]
    },
    {
     "name": "stderr",
     "output_type": "stream",
     "text": [
      " 94%|█████████▍| 46/49 [00:06<00:00,  6.95it/s]"
     ]
    },
    {
     "name": "stdout",
     "output_type": "stream",
     "text": [
      "only found [1, 2, 3, 4] of scenario training_0005-S12\n",
      "only found [1, 2, 3, 4] of scenario training_0005-S19\n"
     ]
    },
    {
     "name": "stderr",
     "output_type": "stream",
     "text": [
      " 98%|█████████▊| 48/49 [00:06<00:00,  6.94it/s]"
     ]
    },
    {
     "name": "stdout",
     "output_type": "stream",
     "text": [
      "only found [2, 3, 4] of scenario training_0005-S23\n",
      "only found [1, 2, 3, 4] of scenario training_0005-S6\n"
     ]
    },
    {
     "name": "stderr",
     "output_type": "stream",
     "text": [
      "100%|██████████| 49/49 [00:07<00:00,  6.93it/s]\n"
     ]
    }
   ],
   "source": [
    "learned_gt_past_4s_scores = gt_scores(model_dicts[3], num_gt_matrix, num_gt_matrix_index)"
   ]
  },
  {
   "cell_type": "code",
   "execution_count": 42,
   "metadata": {},
   "outputs": [
    {
     "name": "stderr",
     "output_type": "stream",
     "text": [
      "[Parallel(n_jobs=143)]: Using backend ThreadingBackend with 143 concurrent workers.\n",
      "[Parallel(n_jobs=143)]: Done 164 tasks      | elapsed:    0.2s\n",
      "[Parallel(n_jobs=143)]: Done 514 tasks      | elapsed:    0.4s\n",
      "[Parallel(n_jobs=143)]: Done 800 out of 800 | elapsed:    0.5s finished\n",
      "  0%|          | 0/49 [00:00<?, ?it/s]"
     ]
    },
    {
     "name": "stdout",
     "output_type": "stream",
     "text": [
      "training_0000-S0-P1_5\n",
      "only found [1, 2, 3, 4] of scenario training_0000-S0\n"
     ]
    },
    {
     "name": "stderr",
     "output_type": "stream",
     "text": [
      "  4%|▍         | 2/49 [00:00<00:06,  7.14it/s]"
     ]
    },
    {
     "name": "stdout",
     "output_type": "stream",
     "text": [
      "only found [1, 2, 3, 4] of scenario training_0000-S1\n",
      "only found [1, 2, 3, 4] of scenario training_0000-S10\n"
     ]
    },
    {
     "name": "stderr",
     "output_type": "stream",
     "text": [
      "  8%|▊         | 4/49 [00:00<00:06,  6.94it/s]"
     ]
    },
    {
     "name": "stdout",
     "output_type": "stream",
     "text": [
      "only found [1, 2, 3, 4] of scenario training_0000-S11\n",
      "only found [1, 2, 3, 4] of scenario training_0000-S12\n"
     ]
    },
    {
     "name": "stderr",
     "output_type": "stream",
     "text": [
      " 12%|█▏        | 6/49 [00:00<00:06,  6.89it/s]"
     ]
    },
    {
     "name": "stdout",
     "output_type": "stream",
     "text": [
      "only found [1, 2, 3, 4] of scenario training_0000-S13\n",
      "only found [1, 2, 3, 4] of scenario training_0000-S14\n"
     ]
    },
    {
     "name": "stderr",
     "output_type": "stream",
     "text": [
      " 16%|█▋        | 8/49 [00:01<00:05,  6.93it/s]"
     ]
    },
    {
     "name": "stdout",
     "output_type": "stream",
     "text": [
      "only found [1, 2, 3, 4] of scenario training_0000-S15\n",
      "only found [1, 2, 3, 4] of scenario training_0000-S16\n"
     ]
    },
    {
     "name": "stderr",
     "output_type": "stream",
     "text": [
      " 20%|██        | 10/49 [00:01<00:05,  6.83it/s]"
     ]
    },
    {
     "name": "stdout",
     "output_type": "stream",
     "text": [
      "only found [1, 2, 3, 4] of scenario training_0000-S17\n",
      "only found [1, 2, 3, 4] of scenario training_0000-S18\n"
     ]
    },
    {
     "name": "stderr",
     "output_type": "stream",
     "text": [
      " 24%|██▍       | 12/49 [00:01<00:05,  6.74it/s]"
     ]
    },
    {
     "name": "stdout",
     "output_type": "stream",
     "text": [
      "only found [1, 2, 3, 4] of scenario training_0000-S19\n",
      "only found [1, 2, 3, 4] of scenario training_0000-S2\n"
     ]
    },
    {
     "name": "stderr",
     "output_type": "stream",
     "text": [
      " 29%|██▊       | 14/49 [00:02<00:05,  6.85it/s]"
     ]
    },
    {
     "name": "stdout",
     "output_type": "stream",
     "text": [
      "only found [1, 2, 3, 4] of scenario training_0000-S20\n",
      "only found [1, 2, 3, 4] of scenario training_0000-S21\n"
     ]
    },
    {
     "name": "stderr",
     "output_type": "stream",
     "text": [
      " 33%|███▎      | 16/49 [00:02<00:04,  6.89it/s]"
     ]
    },
    {
     "name": "stdout",
     "output_type": "stream",
     "text": [
      "only found [1, 2, 3, 4] of scenario training_0000-S22\n",
      "only found [1, 2, 3, 4] of scenario training_0000-S23\n"
     ]
    },
    {
     "name": "stderr",
     "output_type": "stream",
     "text": [
      " 37%|███▋      | 18/49 [00:02<00:04,  6.98it/s]"
     ]
    },
    {
     "name": "stdout",
     "output_type": "stream",
     "text": [
      "only found [1, 2, 3, 4] of scenario training_0000-S3\n",
      "only found [1, 2, 3, 4] of scenario training_0000-S4\n"
     ]
    },
    {
     "name": "stderr",
     "output_type": "stream",
     "text": [
      " 41%|████      | 20/49 [00:02<00:04,  7.09it/s]"
     ]
    },
    {
     "name": "stdout",
     "output_type": "stream",
     "text": [
      "only found [1, 2, 3, 4] of scenario training_0000-S5\n",
      "only found [1, 2, 3, 4] of scenario training_0000-S6\n"
     ]
    },
    {
     "name": "stderr",
     "output_type": "stream",
     "text": [
      " 45%|████▍     | 22/49 [00:03<00:03,  7.08it/s]"
     ]
    },
    {
     "name": "stdout",
     "output_type": "stream",
     "text": [
      "only found [1, 2, 3, 4] of scenario training_0002-S24\n",
      "only found [1, 2, 3, 4] of scenario training_0002-S4\n"
     ]
    },
    {
     "name": "stderr",
     "output_type": "stream",
     "text": [
      " 49%|████▉     | 24/49 [00:03<00:03,  6.96it/s]"
     ]
    },
    {
     "name": "stdout",
     "output_type": "stream",
     "text": [
      "only found [1, 2, 3, 4] of scenario training_0002-S6\n",
      "only found [1, 2, 3, 4] of scenario training_0002-S9\n"
     ]
    },
    {
     "name": "stderr",
     "output_type": "stream",
     "text": [
      " 53%|█████▎    | 26/49 [00:03<00:03,  6.98it/s]"
     ]
    },
    {
     "name": "stdout",
     "output_type": "stream",
     "text": [
      "only found [1, 2, 3, 4] of scenario training_0003-S1\n",
      "only found [1, 2, 3, 4] of scenario training_0003-S11\n"
     ]
    },
    {
     "name": "stderr",
     "output_type": "stream",
     "text": [
      " 57%|█████▋    | 28/49 [00:04<00:03,  6.96it/s]"
     ]
    },
    {
     "name": "stdout",
     "output_type": "stream",
     "text": [
      "only found [1, 2, 3, 4] of scenario training_0003-S14\n",
      "only found [1, 2, 3, 4] of scenario training_0003-S16\n"
     ]
    },
    {
     "name": "stderr",
     "output_type": "stream",
     "text": [
      " 61%|██████    | 30/49 [00:04<00:02,  6.94it/s]"
     ]
    },
    {
     "name": "stdout",
     "output_type": "stream",
     "text": [
      "only found [1, 2, 3, 4] of scenario training_0003-S18\n",
      "only found [1, 2, 3, 4] of scenario training_0003-S20\n"
     ]
    },
    {
     "name": "stderr",
     "output_type": "stream",
     "text": [
      " 65%|██████▌   | 32/49 [00:04<00:02,  6.98it/s]"
     ]
    },
    {
     "name": "stdout",
     "output_type": "stream",
     "text": [
      "only found [1, 2, 3, 4] of scenario training_0003-S22\n",
      "only found [1, 2, 3, 4] of scenario training_0003-S24\n"
     ]
    },
    {
     "name": "stderr",
     "output_type": "stream",
     "text": [
      " 69%|██████▉   | 34/49 [00:04<00:02,  7.03it/s]"
     ]
    },
    {
     "name": "stdout",
     "output_type": "stream",
     "text": [
      "only found [1, 2, 3, 4] of scenario training_0003-S5\n",
      "only found [1, 2, 3, 4] of scenario training_0003-S7\n"
     ]
    },
    {
     "name": "stderr",
     "output_type": "stream",
     "text": [
      " 73%|███████▎  | 36/49 [00:05<00:01,  6.98it/s]"
     ]
    },
    {
     "name": "stdout",
     "output_type": "stream",
     "text": [
      "only found [1, 2, 3, 4] of scenario training_0003-S9\n",
      "only found [1, 2, 3, 4] of scenario training_0004-S1\n"
     ]
    },
    {
     "name": "stderr",
     "output_type": "stream",
     "text": [
      " 78%|███████▊  | 38/49 [00:05<00:01,  6.85it/s]"
     ]
    },
    {
     "name": "stdout",
     "output_type": "stream",
     "text": [
      "only found [1, 2, 3, 4] of scenario training_0004-S12\n",
      "only found [1, 2, 3, 4] of scenario training_0004-S14\n"
     ]
    },
    {
     "name": "stderr",
     "output_type": "stream",
     "text": [
      " 82%|████████▏ | 40/49 [00:05<00:01,  6.88it/s]"
     ]
    },
    {
     "name": "stdout",
     "output_type": "stream",
     "text": [
      "only found [1, 2, 3, 4] of scenario training_0004-S16\n",
      "only found [1, 2, 3, 4] of scenario training_0004-S19\n"
     ]
    },
    {
     "name": "stderr",
     "output_type": "stream",
     "text": [
      " 86%|████████▌ | 42/49 [00:06<00:00,  7.00it/s]"
     ]
    },
    {
     "name": "stdout",
     "output_type": "stream",
     "text": [
      "only found [1, 2, 3, 4] of scenario training_0004-S20\n",
      "only found [1, 2, 3, 4] of scenario training_0004-S22\n"
     ]
    },
    {
     "name": "stderr",
     "output_type": "stream",
     "text": [
      " 90%|████████▉ | 44/49 [00:06<00:00,  7.10it/s]"
     ]
    },
    {
     "name": "stdout",
     "output_type": "stream",
     "text": [
      "only found [1, 2, 3, 4] of scenario training_0004-S5\n",
      "only found [1, 2, 3, 4] of scenario training_0005-S0\n"
     ]
    },
    {
     "name": "stderr",
     "output_type": "stream",
     "text": [
      " 94%|█████████▍| 46/49 [00:06<00:00,  7.10it/s]"
     ]
    },
    {
     "name": "stdout",
     "output_type": "stream",
     "text": [
      "only found [1, 2, 3, 4] of scenario training_0005-S12\n",
      "only found [1, 2, 3, 4] of scenario training_0005-S19\n"
     ]
    },
    {
     "name": "stderr",
     "output_type": "stream",
     "text": [
      " 98%|█████████▊| 48/49 [00:06<00:00,  7.10it/s]"
     ]
    },
    {
     "name": "stdout",
     "output_type": "stream",
     "text": [
      "only found [2, 3, 4] of scenario training_0005-S23\n",
      "only found [1, 2, 3, 4] of scenario training_0005-S6\n"
     ]
    },
    {
     "name": "stderr",
     "output_type": "stream",
     "text": [
      "100%|██████████| 49/49 [00:07<00:00,  6.96it/s]\n"
     ]
    }
   ],
   "source": [
    "learned_gt_past_4s_scores = gt_scores(model_dicts[4], num_gt_matrix, num_gt_matrix_index)"
   ]
  },
  {
   "cell_type": "raw",
   "metadata": {},
   "source": [
    "learned_gt_past_10s_scores = gt_scores(model_dicts[2], num_gt_matrix, num_gt_matrix_index)"
   ]
  },
  {
   "cell_type": "code",
   "execution_count": 43,
   "metadata": {},
   "outputs": [],
   "source": [
    "with open(\"learned_gt_past_4s_scores.pl\", 'wb') as f:\n",
    "    pickle.dump(learned_gt_past_4s_scores, f)"
   ]
  },
  {
   "cell_type": "raw",
   "metadata": {},
   "source": [
    "with open(\"learned_gt_past_10s_scores.pl\", 'wb') as f:\n",
    "    pickle.dump(learned_gt_past_10s_scores, f)"
   ]
  },
  {
   "cell_type": "code",
   "execution_count": 29,
   "metadata": {},
   "outputs": [],
   "source": [
    "def po_present_scores(exp_dict, num_gt_matrix, num_gt_matrix_index):\n",
    "    config_knobs = ['D-model', 'D-conf', 'D-seq-pol', 'T-min-iou', 'T-max-age', 'T-every-nth-det']\n",
    "    test_copy = exp_dict[\"test\"].copy()\n",
    "    test_copy[\"scenario_name\"] = test_copy.index\n",
    "    test_copy[\"prediction\"] = exp_dict[\"model\"].predict(exp_dict[\"test\"])\n",
    "    test_copy = contract_one_hot(test_copy)\n",
    "    \n",
    "    final_min_max_policy = {}\n",
    "    final_max_max_policy = {}\n",
    "    for scenario, scenario_rows in tqdm(test_copy.groupby([\"scenario_name\"])):\n",
    "        best_config_and_score = []\n",
    "        for config_tup, config_rows in scenario_rows.groupby([f'pastC-{k}' for k in config_knobs]):\n",
    "            best_row = config_rows.iloc[config_rows[\"prediction\"].argmax()]\n",
    "            best_config = {k: best_row[k] for k in config_knobs}\n",
    "            best_score = best_row[\"prediction\"]\n",
    "            best_config_and_score.append((best_config, best_score))\n",
    "        sorted_config_scores = sorted(best_config_and_score, key=lambda x: x[1])\n",
    "        final_min_max_policy[scenario] = sorted_config_scores[0][0]\n",
    "        final_max_max_policy[scenario] = sorted_config_scores[-1][0]\n",
    "    \n",
    "    min_max_policy_scores = evaluate_fine_grained_policy(final_min_max_policy, num_gt_matrix, num_gt_matrix_index, default_config=highest_avg_config(exp_dict))\n",
    "    max_max_policy_scores = evaluate_fine_grained_policy(final_max_max_policy, num_gt_matrix, num_gt_matrix_index, default_config=highest_avg_config(exp_dict))\n",
    "    return min_max_policy_scores, max_max_policy_scores"
   ]
  },
  {
   "cell_type": "code",
   "execution_count": 30,
   "metadata": {},
   "outputs": [
    {
     "name": "stderr",
     "output_type": "stream",
     "text": [
      "[Parallel(n_jobs=144)]: Using backend ThreadingBackend with 144 concurrent workers.\n",
      "[Parallel(n_jobs=144)]: Done 400 out of 400 | elapsed:    0.7s finished\n",
      "100%|██████████| 245/245 [00:07<00:00, 30.77it/s]\n",
      "100%|██████████| 49/49 [00:06<00:00,  7.02it/s]\n",
      "100%|██████████| 49/49 [00:06<00:00,  7.17it/s]\n"
     ]
    }
   ],
   "source": [
    "learned_po_present_min_max_4s_scores, learned_po_present_max_max_4s_scores = po_present_scores(model_dicts[1], num_gt_matrix, num_gt_matrix_index)"
   ]
  },
  {
   "cell_type": "raw",
   "metadata": {},
   "source": [
    "learned_po_present_min_max_10s_scores, learned_po_present_max_max_10s_scores = po_present_scores(model_dicts[5], num_gt_matrix, num_gt_matrix_index)"
   ]
  },
  {
   "cell_type": "code",
   "execution_count": 31,
   "metadata": {},
   "outputs": [],
   "source": [
    "with open(\"learned_po_present_min_max_4s_scores.pl\", 'wb') as f:\n",
    "    pickle.dump(learned_po_present_min_max_4s_scores, f)\n",
    "with open(\"learned_po_present_max_max_4s_scores.pl\", 'wb') as f:\n",
    "    pickle.dump(learned_po_present_max_max_4s_scores, f)"
   ]
  },
  {
   "cell_type": "raw",
   "metadata": {},
   "source": [
    "with open(\"learned_po_present_min_max_10s_scores.pl\", 'wb') as f:\n",
    "    pickle.dump(learned_po_present_min_max_10s_scores, f)\n",
    "with open(\"learned_po_present_max_max_10s_scores.pl\", 'wb') as f:\n",
    "    pickle.dump(learned_po_present_max_max_10s_scores, f)"
   ]
  },
  {
   "cell_type": "code",
   "execution_count": null,
   "metadata": {},
   "outputs": [],
   "source": []
  },
  {
   "cell_type": "code",
   "execution_count": 37,
   "metadata": {},
   "outputs": [
    {
     "name": "stdout",
     "output_type": "stream",
     "text": [
      "{'model_type': 'RF', 'env_window_size': '10s', 'time_strategy': 'present', 'env_feats': 'ground-truth-v3', 'stride_strategy': 'window-size', 'other': 'condensed-k_10'}\n",
      "RandomForestRegressor(max_depth=24, max_features=4,\n",
      "                      min_impurity_decrease=0.00022898035917795723,\n",
      "                      n_estimators=1600, n_jobs=-1, random_state=50, verbose=1)\n",
      "{'model_type': 'RF', 'env_window_size': '10s', 'time_strategy': 'present', 'env_feats': 'pipeline-output-v1', 'stride_strategy': 'window-size', 'other': 'condensed-k_10'}\n",
      "RandomForestRegressor(max_depth=1, max_features=8,\n",
      "                      min_impurity_decrease=0.06486178665526617,\n",
      "                      n_estimators=400, n_jobs=-1, random_state=50, verbose=1)\n",
      "{'model_type': 'RF', 'env_window_size': '4s', 'time_strategy': 'past-1-step', 'env_feats': 'pipeline-output-v1', 'stride_strategy': 'window-size', 'other': 'condensed-k_10'}\n",
      "RandomForestRegressor(max_depth=1, max_features=6,\n",
      "                      min_impurity_decrease=0.00021885242675592076,\n",
      "                      n_estimators=2400, n_jobs=-1, random_state=50, verbose=1)\n",
      "{'model_type': 'RF', 'env_window_size': '10s', 'time_strategy': 'past-1-step', 'env_feats': 'ground-truth-v3', 'stride_strategy': 'window-size', 'other': 'condensed-k_10'}\n",
      "RandomForestRegressor(max_depth=1, max_features=4,\n",
      "                      min_impurity_decrease=0.00015989512483648456,\n",
      "                      n_estimators=400, n_jobs=-1, random_state=50, verbose=1)\n"
     ]
    }
   ],
   "source": [
    "for m in model_dicts:\n",
    "    print(m[\"metadata\"])\n",
    "    print(m[\"model\"])"
   ]
  },
  {
   "cell_type": "code",
   "execution_count": null,
   "metadata": {},
   "outputs": [],
   "source": []
  }
 ],
 "metadata": {
  "kernelspec": {
   "display_name": "Python 3",
   "language": "python",
   "name": "python3"
  },
  "language_info": {
   "codemirror_mode": {
    "name": "ipython",
    "version": 3
   },
   "file_extension": ".py",
   "mimetype": "text/x-python",
   "name": "python",
   "nbconvert_exporter": "python",
   "pygments_lexer": "ipython3",
   "version": "3.6.12"
  }
 },
 "nbformat": 4,
 "nbformat_minor": 4
}
