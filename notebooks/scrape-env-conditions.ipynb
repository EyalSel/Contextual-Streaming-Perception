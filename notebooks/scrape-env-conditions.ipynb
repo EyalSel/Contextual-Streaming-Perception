{
 "cells": [
  {
   "cell_type": "markdown",
   "metadata": {
    "colab_type": "text",
    "id": "WWdJUWiZdMte"
   },
   "source": [
    "## Install waymo_open_dataset package"
   ]
  },
  {
   "cell_type": "raw",
   "metadata": {
    "colab": {},
    "colab_type": "code",
    "id": "zxX_JIZrdKoR"
   },
   "source": [
    "!rm -rf waymo-od > /dev/null\n",
    "!git clone https://github.com/waymo-research/waymo-open-dataset.git waymo-od\n",
    "!cd waymo-od && git branch -a\n",
    "!cd waymo-od && `git checkout remotes/origin/master\n",
    "!pip3 install --upgrade pip"
   ]
  },
  {
   "cell_type": "raw",
   "metadata": {
    "colab": {},
    "colab_type": "code",
    "id": "sLIUOJzSyjj6"
   },
   "source": [
    "!pip3 install waymo-open-dataset-tf-2-1-0==1.2.0"
   ]
  },
  {
   "cell_type": "code",
   "execution_count": 1,
   "metadata": {
    "colab": {},
    "colab_type": "code",
    "id": "hDQ1DPqwdfNW"
   },
   "outputs": [],
   "source": [
    "import os\n",
    "import math\n",
    "import numpy as np\n",
    "import itertools\n",
    "\n",
    "from tqdm import tqdm\n",
    "\n",
    "from ad_config_search.waymo_utils import *\n",
    "\n",
    "from pathlib import Path\n",
    "\n",
    "import matplotlib.pyplot as plt\n",
    "\n",
    "import pandas as pd\n",
    "\n",
    "import seaborn as sns\n",
    "\n",
    "%load_ext autoreload\n",
    "%autoreload 2"
   ]
  },
  {
   "cell_type": "code",
   "execution_count": 2,
   "metadata": {},
   "outputs": [],
   "source": [
    "def featurize_v1(frames_path):\n",
    "    \"\"\"\n",
    "    Only includes summary of camera-related information.\n",
    "    \"\"\"\n",
    "    frames = frames_from_path(frames_path)\n",
    "    bbox_info = collect_bbox_info_per_frame(frames)\n",
    "    vel = get_velocity(frames)\n",
    "    ego_vehicle_speed = np.sqrt(vel[:, 0]**2 + vel[:, 1]**2 + vel[:, 2] ** 2)\n",
    "    return {\n",
    "        \"avg_num_bboxes\": np.mean(bbox_info[\"num_bboxes\"]),\n",
    "        \"avg_bbox_speed\": np.mean([np.mean(list(d.values())) if len(d.values()) > 0 else 0 for d in bbox_info[\"bbox_speed\"]]),\n",
    "        \"avg_bbox_size\": np.mean(bbox_info[\"avg_bbox_size\"]),\n",
    "        \"avg_ego_speed\": np.mean(ego_vehicle_speed),\n",
    "        **get_context_info(frames)\n",
    "    }"
   ]
  },
  {
   "cell_type": "code",
   "execution_count": 3,
   "metadata": {},
   "outputs": [],
   "source": [
    "def featurize_v2(frames_path):\n",
    "    \"\"\"\n",
    "    Only includes summary of camera-related information.\n",
    "    \"\"\"\n",
    "    frames = frames_from_path(frames_path)\n",
    "    bbox_info = collect_bbox_info_per_frame(frames)\n",
    "    vel = get_velocity(frames)\n",
    "    ego_vehicle_speed = np.sqrt(vel[:, 0]**2 + vel[:, 1]**2 + vel[:, 2] ** 2)\n",
    "    return {\n",
    "        \"avg_bbox_longevity\": np.mean(bbox_info[\"bbox_longevity\"]),\n",
    "        \"90p_bbox_longevity\": np.percentile(bbox_info[\"bbox_longevity\"], 90),\n",
    "        \"90p_num_bboxes\":  np.percentile(bbox_info[\"num_bboxes\"], 90),\n",
    "        \"90p_bbox_speed\":  np.percentile([np.mean(list(d.values())) if len(d.values()) > 0 else 0 for d in bbox_info[\"bbox_speed\"]], 90),\n",
    "        \"90p_bbox_size\":  np.percentile(bbox_info[\"avg_bbox_size\"], 90),\n",
    "        \"avg_num_bboxes\": np.mean(bbox_info[\"num_bboxes\"]),\n",
    "        \"avg_bbox_speed\": np.mean([np.mean(list(d.values())) if len(d.values()) > 0 else 0 for d in bbox_info[\"bbox_speed\"]]),\n",
    "        \"avg_bbox_size\": np.mean(bbox_info[\"avg_bbox_size\"]),\n",
    "        \"avg_ego_speed\": np.mean(ego_vehicle_speed),\n",
    "        **get_context_info(frames)\n",
    "    }"
   ]
  },
  {
   "cell_type": "raw",
   "metadata": {},
   "source": [
    "path = list(Path(\"/data/ges/waymo\").glob(\"*/*.tfrecord\"))[16]\n",
    "# for path in tqdm():\n",
    "frames = frames_from_path(path)\n",
    "vel = get_velocity(frames)\n",
    "acc = np.abs(np.diff(vel, axis=0))\n",
    "acc[:, 0] = acc[:, 0] * np.sqrt(np.square(vel[1:, 1]) + np.square(vel[1:, 2]))\n",
    "acc[:, 1] = acc[:, 1] * np.sqrt(np.square(vel[1:, 0]) + np.square(vel[1:, 2]))\n",
    "acc[:, 2] = acc[:, 2] * np.sqrt(np.square(vel[1:, 0]) + np.square(vel[1:, 1]))\n",
    "plt.plot(vel[:, 0])\n",
    "plt.plot(vel[:, 1])\n",
    "plt.plot(vel[:, 2])\n",
    "plt.show()\n",
    "# plt.plot(np.mean(acc[10:], axis=1), color=\"tab:red\")\n",
    "plt.plot(acc[:, 0])\n",
    "plt.plot(acc[:, 1])\n",
    "plt.plot(acc[:, 2])\n",
    "plt.show()"
   ]
  },
  {
   "cell_type": "code",
   "execution_count": 8,
   "metadata": {},
   "outputs": [
    {
     "name": "stderr",
     "output_type": "stream",
     "text": [
      "\n",
      "  0%|          | 0/148 [00:00<?, ?it/s]\u001b[A\n",
      "  1%|          | 1/148 [00:01<02:40,  1.09s/it]\u001b[A\n",
      "  1%|▏         | 2/148 [00:02<02:48,  1.15s/it]\u001b[A\n",
      "  2%|▏         | 3/148 [00:03<02:43,  1.13s/it]\u001b[A\n",
      "  3%|▎         | 4/148 [00:04<02:59,  1.24s/it]\u001b[A\n",
      "  3%|▎         | 5/148 [00:06<03:03,  1.29s/it]\u001b[A\n",
      "  4%|▍         | 6/148 [00:07<03:13,  1.36s/it]\u001b[A\n",
      "  5%|▍         | 7/148 [00:09<03:13,  1.37s/it]\u001b[A\n",
      "  5%|▌         | 8/148 [00:10<03:21,  1.44s/it]\u001b[A\n",
      "  6%|▌         | 9/148 [00:12<03:34,  1.55s/it]\u001b[A\n",
      "  7%|▋         | 10/148 [00:14<03:44,  1.62s/it]\u001b[A\n",
      "  7%|▋         | 11/148 [00:16<03:45,  1.65s/it]\u001b[A\n",
      "  8%|▊         | 12/148 [00:17<03:38,  1.61s/it]\u001b[A\n",
      "  9%|▉         | 13/148 [00:19<03:38,  1.62s/it]\u001b[A\n",
      "  9%|▉         | 14/148 [00:21<03:45,  1.68s/it]\u001b[A\n",
      " 10%|█         | 15/148 [00:22<03:43,  1.68s/it]\u001b[A\n",
      " 11%|█         | 16/148 [00:24<03:48,  1.73s/it]\u001b[A\n",
      " 11%|█▏        | 17/148 [00:26<03:50,  1.76s/it]\u001b[A\n",
      " 12%|█▏        | 18/148 [00:28<03:46,  1.74s/it]\u001b[A\n",
      " 13%|█▎        | 19/148 [00:30<03:49,  1.78s/it]\u001b[A\n",
      " 14%|█▎        | 20/148 [00:32<03:54,  1.83s/it]\u001b[A\n",
      " 14%|█▍        | 21/148 [00:33<03:46,  1.78s/it]\u001b[A\n",
      " 15%|█▍        | 22/148 [00:35<03:39,  1.75s/it]\u001b[A\n",
      " 16%|█▌        | 23/148 [00:36<03:24,  1.64s/it]\u001b[A\n",
      " 16%|█▌        | 24/148 [00:38<03:22,  1.64s/it]\u001b[A\n",
      " 17%|█▋        | 25/148 [00:40<03:28,  1.69s/it]\u001b[A\n",
      " 18%|█▊        | 26/148 [00:41<03:22,  1.66s/it]\u001b[A\n",
      " 18%|█▊        | 27/148 [00:43<03:20,  1.65s/it]\u001b[A\n",
      " 19%|█▉        | 28/148 [00:45<03:22,  1.69s/it]\u001b[A\n",
      " 20%|█▉        | 29/148 [00:46<03:24,  1.72s/it]\u001b[A\n",
      " 20%|██        | 30/148 [00:48<03:31,  1.79s/it]\u001b[A\n",
      " 21%|██        | 31/148 [00:50<03:25,  1.76s/it]\u001b[A\n",
      " 22%|██▏       | 32/148 [00:52<03:29,  1.80s/it]\u001b[A\n",
      " 22%|██▏       | 33/148 [00:54<03:30,  1.83s/it]\u001b[A\n",
      " 23%|██▎       | 34/148 [00:56<03:23,  1.79s/it]\u001b[A\n",
      " 24%|██▎       | 35/148 [00:57<03:20,  1.78s/it]\u001b[A\n",
      " 24%|██▍       | 36/148 [00:59<03:17,  1.76s/it]\u001b[A\n",
      " 25%|██▌       | 37/148 [01:01<03:16,  1.77s/it]\u001b[A\n",
      " 26%|██▌       | 38/148 [01:03<03:22,  1.84s/it]\u001b[A\n",
      " 26%|██▋       | 39/148 [01:05<03:24,  1.88s/it]\u001b[A\n",
      " 27%|██▋       | 40/148 [01:07<03:20,  1.85s/it]\u001b[A\n",
      " 28%|██▊       | 41/148 [01:09<03:28,  1.95s/it]\u001b[A\n",
      " 28%|██▊       | 42/148 [01:11<03:18,  1.87s/it]\u001b[A\n",
      " 29%|██▉       | 43/148 [01:12<03:17,  1.88s/it]\u001b[A\n",
      " 30%|██▉       | 44/148 [01:14<03:04,  1.78s/it]\u001b[A\n",
      " 30%|███       | 45/148 [01:16<02:58,  1.74s/it]\u001b[A\n",
      " 31%|███       | 46/148 [01:17<03:00,  1.77s/it]\u001b[A\n",
      " 32%|███▏      | 47/148 [01:19<02:58,  1.76s/it]\u001b[A\n",
      " 32%|███▏      | 48/148 [01:21<02:57,  1.78s/it]\u001b[A\n",
      " 33%|███▎      | 49/148 [01:23<02:52,  1.74s/it]\u001b[A\n",
      " 34%|███▍      | 50/148 [01:25<02:55,  1.79s/it]\u001b[A\n",
      " 34%|███▍      | 51/148 [01:26<02:47,  1.73s/it]\u001b[A\n",
      " 35%|███▌      | 52/148 [01:28<02:47,  1.75s/it]\u001b[A\n",
      " 36%|███▌      | 53/148 [01:30<02:49,  1.78s/it]\u001b[A\n",
      " 36%|███▋      | 54/148 [01:32<02:45,  1.76s/it]\u001b[A\n",
      " 37%|███▋      | 55/148 [01:33<02:46,  1.79s/it]\u001b[A\n",
      " 38%|███▊      | 56/148 [01:35<02:49,  1.84s/it]\u001b[A\n",
      " 39%|███▊      | 57/148 [01:37<02:48,  1.85s/it]\u001b[A\n",
      " 39%|███▉      | 58/148 [01:39<02:46,  1.85s/it]\u001b[A\n",
      " 40%|███▉      | 59/148 [01:41<02:50,  1.92s/it]\u001b[A\n",
      " 41%|████      | 60/148 [01:43<02:42,  1.84s/it]\u001b[A\n",
      " 41%|████      | 61/148 [01:45<02:38,  1.82s/it]\u001b[A\n",
      " 42%|████▏     | 62/148 [01:46<02:33,  1.78s/it]\u001b[A\n",
      " 43%|████▎     | 63/148 [01:48<02:30,  1.77s/it]\u001b[A\n",
      " 43%|████▎     | 64/148 [01:50<02:30,  1.80s/it]\u001b[A\n",
      " 44%|████▍     | 65/148 [01:52<02:29,  1.80s/it]\u001b[A\n",
      " 45%|████▍     | 66/148 [01:53<02:27,  1.79s/it]\u001b[A\n",
      " 45%|████▌     | 67/148 [01:55<02:28,  1.83s/it]\u001b[A\n",
      " 46%|████▌     | 68/148 [01:57<02:24,  1.81s/it]\u001b[A\n",
      " 47%|████▋     | 69/148 [01:59<02:25,  1.84s/it]\u001b[A\n",
      " 47%|████▋     | 70/148 [02:01<02:25,  1.87s/it]\u001b[A\n",
      " 48%|████▊     | 71/148 [02:03<02:23,  1.87s/it]\u001b[A\n",
      " 49%|████▊     | 72/148 [02:04<02:14,  1.77s/it]\u001b[A\n",
      " 49%|████▉     | 73/148 [02:06<02:08,  1.71s/it]\u001b[A\n",
      " 50%|█████     | 74/148 [02:08<02:08,  1.74s/it]\u001b[A\n",
      " 51%|█████     | 75/148 [02:09<02:00,  1.64s/it]\u001b[A\n",
      " 51%|█████▏    | 76/148 [02:11<02:04,  1.73s/it]\u001b[A\n",
      " 52%|█████▏    | 77/148 [02:13<02:10,  1.83s/it]\u001b[A\n",
      " 53%|█████▎    | 78/148 [02:15<02:06,  1.80s/it]\u001b[A\n",
      " 53%|█████▎    | 79/148 [02:16<01:54,  1.66s/it]\u001b[A\n",
      " 54%|█████▍    | 80/148 [02:18<01:46,  1.56s/it]\u001b[A\n",
      " 55%|█████▍    | 81/148 [02:19<01:49,  1.64s/it]\u001b[A\n",
      " 55%|█████▌    | 82/148 [02:21<01:56,  1.77s/it]\u001b[A\n",
      " 56%|█████▌    | 83/148 [02:23<01:49,  1.69s/it]\u001b[A\n",
      " 57%|█████▋    | 84/148 [02:25<01:57,  1.84s/it]\u001b[A\n",
      " 57%|█████▋    | 85/148 [02:27<01:50,  1.76s/it]\u001b[A\n",
      " 58%|█████▊    | 86/148 [02:28<01:46,  1.71s/it]\u001b[A\n",
      " 59%|█████▉    | 87/148 [02:30<01:40,  1.65s/it]\u001b[A\n",
      " 59%|█████▉    | 88/148 [02:32<01:41,  1.70s/it]\u001b[A\n",
      " 60%|██████    | 89/148 [02:33<01:40,  1.70s/it]\u001b[A\n",
      " 61%|██████    | 90/148 [02:35<01:43,  1.78s/it]\u001b[A\n",
      " 61%|██████▏   | 91/148 [02:37<01:41,  1.78s/it]\u001b[A\n",
      " 62%|██████▏   | 92/148 [02:39<01:42,  1.83s/it]\u001b[A\n",
      " 63%|██████▎   | 93/148 [02:41<01:42,  1.87s/it]\u001b[A\n",
      " 64%|██████▎   | 94/148 [02:43<01:37,  1.80s/it]\u001b[A\n",
      " 64%|██████▍   | 95/148 [02:45<01:38,  1.86s/it]\u001b[A\n",
      " 65%|██████▍   | 96/148 [02:46<01:32,  1.77s/it]\u001b[A\n",
      " 66%|██████▌   | 97/148 [02:47<01:22,  1.61s/it]\u001b[A\n",
      " 66%|██████▌   | 98/148 [02:49<01:19,  1.59s/it]\u001b[A\n",
      " 67%|██████▋   | 99/148 [02:51<01:22,  1.67s/it]\u001b[A\n",
      " 68%|██████▊   | 100/148 [02:52<01:19,  1.66s/it]\u001b[A\n",
      " 68%|██████▊   | 101/148 [02:55<01:24,  1.79s/it]\u001b[A\n",
      " 69%|██████▉   | 102/148 [02:57<01:25,  1.85s/it]\u001b[A\n",
      " 70%|██████▉   | 103/148 [02:59<01:26,  1.93s/it]\u001b[A\n",
      " 70%|███████   | 104/148 [03:00<01:22,  1.86s/it]\u001b[A\n",
      " 71%|███████   | 105/148 [03:02<01:22,  1.91s/it]\u001b[A\n",
      " 72%|███████▏  | 106/148 [03:04<01:22,  1.95s/it]\u001b[A\n",
      " 72%|███████▏  | 107/148 [03:06<01:15,  1.84s/it]\u001b[A\n",
      " 73%|███████▎  | 108/148 [03:08<01:11,  1.78s/it]\u001b[A\n",
      " 74%|███████▎  | 109/148 [03:09<01:08,  1.75s/it]\u001b[A\n",
      " 74%|███████▍  | 110/148 [03:11<01:06,  1.74s/it]\u001b[A\n",
      " 75%|███████▌  | 111/148 [03:13<01:06,  1.80s/it]\u001b[A\n",
      " 76%|███████▌  | 112/148 [03:15<01:04,  1.79s/it]\u001b[A\n",
      " 76%|███████▋  | 113/148 [03:16<00:59,  1.69s/it]\u001b[A\n",
      " 77%|███████▋  | 114/148 [03:18<00:56,  1.65s/it]\u001b[A\n",
      " 78%|███████▊  | 115/148 [03:20<00:58,  1.78s/it]\u001b[A\n",
      " 78%|███████▊  | 116/148 [03:22<01:00,  1.89s/it]\u001b[A\n",
      " 79%|███████▉  | 117/148 [03:24<01:00,  1.96s/it]\u001b[A\n",
      " 80%|███████▉  | 118/148 [03:26<00:57,  1.93s/it]\u001b[A\n",
      " 80%|████████  | 119/148 [03:28<00:56,  1.94s/it]\u001b[A\n",
      " 81%|████████  | 120/148 [03:29<00:49,  1.79s/it]\u001b[A\n",
      " 82%|████████▏ | 121/148 [03:31<00:48,  1.81s/it]\u001b[A\n",
      " 82%|████████▏ | 122/148 [03:33<00:45,  1.76s/it]\u001b[A\n",
      " 83%|████████▎ | 123/148 [03:35<00:44,  1.76s/it]\u001b[A\n",
      " 84%|████████▍ | 124/148 [03:36<00:41,  1.72s/it]\u001b[A\n",
      " 84%|████████▍ | 125/148 [03:38<00:40,  1.75s/it]\u001b[A\n",
      " 85%|████████▌ | 126/148 [03:40<00:38,  1.75s/it]\u001b[A\n",
      " 86%|████████▌ | 127/148 [03:42<00:38,  1.86s/it]\u001b[A\n",
      " 86%|████████▋ | 128/148 [03:44<00:36,  1.82s/it]\u001b[A\n",
      " 87%|████████▋ | 129/148 [03:45<00:33,  1.78s/it]\u001b[A\n",
      " 88%|████████▊ | 130/148 [03:47<00:32,  1.79s/it]\u001b[A\n",
      " 89%|████████▊ | 131/148 [03:49<00:30,  1.78s/it]\u001b[A\n",
      " 89%|████████▉ | 132/148 [03:51<00:27,  1.74s/it]\u001b[A\n",
      " 90%|████████▉ | 133/148 [03:52<00:26,  1.76s/it]\u001b[A\n",
      " 91%|█████████ | 134/148 [03:54<00:25,  1.82s/it]\u001b[A\n",
      " 91%|█████████ | 135/148 [03:56<00:23,  1.84s/it]\u001b[A\n",
      " 92%|█████████▏| 136/148 [03:58<00:21,  1.83s/it]\u001b[A\n",
      " 93%|█████████▎| 137/148 [04:00<00:19,  1.79s/it]\u001b[A\n",
      " 93%|█████████▎| 138/148 [04:01<00:17,  1.72s/it]\u001b[A\n",
      " 94%|█████████▍| 139/148 [04:03<00:15,  1.71s/it]\u001b[A\n",
      " 95%|█████████▍| 140/148 [04:05<00:13,  1.72s/it]\u001b[A\n",
      " 95%|█████████▌| 141/148 [04:06<00:11,  1.66s/it]\u001b[A\n",
      " 96%|█████████▌| 142/148 [04:08<00:10,  1.71s/it]\u001b[A\n",
      " 97%|█████████▋| 143/148 [04:10<00:08,  1.70s/it]\u001b[A\n",
      " 97%|█████████▋| 144/148 [04:12<00:07,  1.77s/it]\u001b[A\n",
      " 98%|█████████▊| 145/148 [04:14<00:05,  1.83s/it]\u001b[A\n",
      " 99%|█████████▊| 146/148 [04:15<00:03,  1.76s/it]\u001b[A\n",
      " 99%|█████████▉| 147/148 [04:17<00:01,  1.80s/it]\u001b[A\n",
      "100%|██████████| 148/148 [04:19<00:00,  1.75s/it]\u001b[A\n"
     ]
    }
   ],
   "source": [
    "df = pd.DataFrame([{**featurize_v2(path), \"scenario_name\": (path.parent.stem+\"-\"+path.stem)} for path in tqdm(list(Path(\"/data/ges/waymo\").glob(\"*/*.tfrecord\")))])"
   ]
  },
  {
   "cell_type": "code",
   "execution_count": 9,
   "metadata": {},
   "outputs": [
    {
     "data": {
      "text/html": [
       "<div>\n",
       "<style scoped>\n",
       "    .dataframe tbody tr th:only-of-type {\n",
       "        vertical-align: middle;\n",
       "    }\n",
       "\n",
       "    .dataframe tbody tr th {\n",
       "        vertical-align: top;\n",
       "    }\n",
       "\n",
       "    .dataframe thead th {\n",
       "        text-align: right;\n",
       "    }\n",
       "</style>\n",
       "<table border=\"1\" class=\"dataframe\">\n",
       "  <thead>\n",
       "    <tr style=\"text-align: right;\">\n",
       "      <th></th>\n",
       "      <th>avg_bbox_longevity</th>\n",
       "      <th>90p_bbox_longevity</th>\n",
       "      <th>90p_num_bboxes</th>\n",
       "      <th>90p_bbox_speed</th>\n",
       "      <th>90p_bbox_size</th>\n",
       "      <th>avg_num_bboxes</th>\n",
       "      <th>avg_bbox_speed</th>\n",
       "      <th>avg_bbox_size</th>\n",
       "      <th>avg_ego_speed</th>\n",
       "      <th>time_of_day</th>\n",
       "      <th>weather</th>\n",
       "      <th>location</th>\n",
       "      <th>scenario_name</th>\n",
       "    </tr>\n",
       "  </thead>\n",
       "  <tbody>\n",
       "    <tr>\n",
       "      <th>0</th>\n",
       "      <td>53.444444</td>\n",
       "      <td>80.2</td>\n",
       "      <td>6.0</td>\n",
       "      <td>247.234697</td>\n",
       "      <td>8954.720055</td>\n",
       "      <td>2.417085</td>\n",
       "      <td>101.993745</td>\n",
       "      <td>3410.922277</td>\n",
       "      <td>8.827853</td>\n",
       "      <td>Day</td>\n",
       "      <td>sunny</td>\n",
       "      <td>location_sf</td>\n",
       "      <td>training_0004-S_24</td>\n",
       "    </tr>\n",
       "    <tr>\n",
       "      <th>1</th>\n",
       "      <td>117.961538</td>\n",
       "      <td>197.0</td>\n",
       "      <td>20.0</td>\n",
       "      <td>131.738267</td>\n",
       "      <td>38093.553801</td>\n",
       "      <td>15.568528</td>\n",
       "      <td>60.189865</td>\n",
       "      <td>24916.815591</td>\n",
       "      <td>1.613907</td>\n",
       "      <td>Day</td>\n",
       "      <td>sunny</td>\n",
       "      <td>location_sf</td>\n",
       "      <td>training_0004-S_14</td>\n",
       "    </tr>\n",
       "    <tr>\n",
       "      <th>2</th>\n",
       "      <td>64.694444</td>\n",
       "      <td>156.0</td>\n",
       "      <td>25.0</td>\n",
       "      <td>51.889146</td>\n",
       "      <td>8095.026669</td>\n",
       "      <td>11.703518</td>\n",
       "      <td>28.880993</td>\n",
       "      <td>3753.227900</td>\n",
       "      <td>18.223584</td>\n",
       "      <td>Day</td>\n",
       "      <td>sunny</td>\n",
       "      <td>location_phx</td>\n",
       "      <td>training_0004-S_0</td>\n",
       "    </tr>\n",
       "    <tr>\n",
       "      <th>3</th>\n",
       "      <td>45.413043</td>\n",
       "      <td>67.0</td>\n",
       "      <td>21.0</td>\n",
       "      <td>107.360995</td>\n",
       "      <td>4593.823205</td>\n",
       "      <td>10.550505</td>\n",
       "      <td>72.368302</td>\n",
       "      <td>2318.215522</td>\n",
       "      <td>12.334894</td>\n",
       "      <td>Day</td>\n",
       "      <td>sunny</td>\n",
       "      <td>location_phx</td>\n",
       "      <td>training_0004-S_23</td>\n",
       "    </tr>\n",
       "    <tr>\n",
       "      <th>4</th>\n",
       "      <td>121.321429</td>\n",
       "      <td>197.0</td>\n",
       "      <td>73.0</td>\n",
       "      <td>28.401004</td>\n",
       "      <td>12588.225953</td>\n",
       "      <td>68.974619</td>\n",
       "      <td>12.779036</td>\n",
       "      <td>10279.801052</td>\n",
       "      <td>1.585742</td>\n",
       "      <td>Day</td>\n",
       "      <td>sunny</td>\n",
       "      <td>location_sf</td>\n",
       "      <td>training_0004-S_13</td>\n",
       "    </tr>\n",
       "    <tr>\n",
       "      <th>...</th>\n",
       "      <td>...</td>\n",
       "      <td>...</td>\n",
       "      <td>...</td>\n",
       "      <td>...</td>\n",
       "      <td>...</td>\n",
       "      <td>...</td>\n",
       "      <td>...</td>\n",
       "      <td>...</td>\n",
       "      <td>...</td>\n",
       "      <td>...</td>\n",
       "      <td>...</td>\n",
       "      <td>...</td>\n",
       "      <td>...</td>\n",
       "    </tr>\n",
       "    <tr>\n",
       "      <th>143</th>\n",
       "      <td>30.791667</td>\n",
       "      <td>54.7</td>\n",
       "      <td>8.0</td>\n",
       "      <td>472.672033</td>\n",
       "      <td>155746.596694</td>\n",
       "      <td>3.713568</td>\n",
       "      <td>170.250245</td>\n",
       "      <td>60098.840417</td>\n",
       "      <td>2.458020</td>\n",
       "      <td>Day</td>\n",
       "      <td>sunny</td>\n",
       "      <td>location_sf</td>\n",
       "      <td>training_0001-S_15</td>\n",
       "    </tr>\n",
       "    <tr>\n",
       "      <th>144</th>\n",
       "      <td>150.954545</td>\n",
       "      <td>199.0</td>\n",
       "      <td>20.0</td>\n",
       "      <td>31.987256</td>\n",
       "      <td>6475.869405</td>\n",
       "      <td>16.688442</td>\n",
       "      <td>19.789628</td>\n",
       "      <td>3907.838562</td>\n",
       "      <td>5.888482</td>\n",
       "      <td>Day</td>\n",
       "      <td>sunny</td>\n",
       "      <td>location_phx</td>\n",
       "      <td>training_0001-S_5</td>\n",
       "    </tr>\n",
       "    <tr>\n",
       "      <th>145</th>\n",
       "      <td>66.637363</td>\n",
       "      <td>165.0</td>\n",
       "      <td>40.2</td>\n",
       "      <td>52.452393</td>\n",
       "      <td>8235.238310</td>\n",
       "      <td>30.472362</td>\n",
       "      <td>35.758511</td>\n",
       "      <td>6157.662639</td>\n",
       "      <td>28.623804</td>\n",
       "      <td>Day</td>\n",
       "      <td>sunny</td>\n",
       "      <td>location_phx</td>\n",
       "      <td>training_0001-S_22</td>\n",
       "    </tr>\n",
       "    <tr>\n",
       "      <th>146</th>\n",
       "      <td>83.633333</td>\n",
       "      <td>159.3</td>\n",
       "      <td>18.0</td>\n",
       "      <td>67.911989</td>\n",
       "      <td>13281.949758</td>\n",
       "      <td>12.671717</td>\n",
       "      <td>42.263428</td>\n",
       "      <td>7677.699864</td>\n",
       "      <td>10.682600</td>\n",
       "      <td>Day</td>\n",
       "      <td>sunny</td>\n",
       "      <td>location_phx</td>\n",
       "      <td>training_0001-S_12</td>\n",
       "    </tr>\n",
       "    <tr>\n",
       "      <th>147</th>\n",
       "      <td>106.627451</td>\n",
       "      <td>198.0</td>\n",
       "      <td>30.0</td>\n",
       "      <td>47.535190</td>\n",
       "      <td>15420.154126</td>\n",
       "      <td>27.326633</td>\n",
       "      <td>32.879163</td>\n",
       "      <td>8916.341788</td>\n",
       "      <td>1.609199</td>\n",
       "      <td>Day</td>\n",
       "      <td>sunny</td>\n",
       "      <td>location_phx</td>\n",
       "      <td>training_0001-S_2</td>\n",
       "    </tr>\n",
       "  </tbody>\n",
       "</table>\n",
       "<p>148 rows × 13 columns</p>\n",
       "</div>"
      ],
      "text/plain": [
       "     avg_bbox_longevity  90p_bbox_longevity  90p_num_bboxes  90p_bbox_speed  \\\n",
       "0             53.444444                80.2             6.0      247.234697   \n",
       "1            117.961538               197.0            20.0      131.738267   \n",
       "2             64.694444               156.0            25.0       51.889146   \n",
       "3             45.413043                67.0            21.0      107.360995   \n",
       "4            121.321429               197.0            73.0       28.401004   \n",
       "..                  ...                 ...             ...             ...   \n",
       "143           30.791667                54.7             8.0      472.672033   \n",
       "144          150.954545               199.0            20.0       31.987256   \n",
       "145           66.637363               165.0            40.2       52.452393   \n",
       "146           83.633333               159.3            18.0       67.911989   \n",
       "147          106.627451               198.0            30.0       47.535190   \n",
       "\n",
       "     90p_bbox_size  avg_num_bboxes  avg_bbox_speed  avg_bbox_size  \\\n",
       "0      8954.720055        2.417085      101.993745    3410.922277   \n",
       "1     38093.553801       15.568528       60.189865   24916.815591   \n",
       "2      8095.026669       11.703518       28.880993    3753.227900   \n",
       "3      4593.823205       10.550505       72.368302    2318.215522   \n",
       "4     12588.225953       68.974619       12.779036   10279.801052   \n",
       "..             ...             ...             ...            ...   \n",
       "143  155746.596694        3.713568      170.250245   60098.840417   \n",
       "144    6475.869405       16.688442       19.789628    3907.838562   \n",
       "145    8235.238310       30.472362       35.758511    6157.662639   \n",
       "146   13281.949758       12.671717       42.263428    7677.699864   \n",
       "147   15420.154126       27.326633       32.879163    8916.341788   \n",
       "\n",
       "     avg_ego_speed time_of_day weather      location       scenario_name  \n",
       "0         8.827853         Day   sunny   location_sf  training_0004-S_24  \n",
       "1         1.613907         Day   sunny   location_sf  training_0004-S_14  \n",
       "2        18.223584         Day   sunny  location_phx   training_0004-S_0  \n",
       "3        12.334894         Day   sunny  location_phx  training_0004-S_23  \n",
       "4         1.585742         Day   sunny   location_sf  training_0004-S_13  \n",
       "..             ...         ...     ...           ...                 ...  \n",
       "143       2.458020         Day   sunny   location_sf  training_0001-S_15  \n",
       "144       5.888482         Day   sunny  location_phx   training_0001-S_5  \n",
       "145      28.623804         Day   sunny  location_phx  training_0001-S_22  \n",
       "146      10.682600         Day   sunny  location_phx  training_0001-S_12  \n",
       "147       1.609199         Day   sunny  location_phx   training_0001-S_2  \n",
       "\n",
       "[148 rows x 13 columns]"
      ]
     },
     "execution_count": 9,
     "metadata": {},
     "output_type": "execute_result"
    }
   ],
   "source": [
    "df"
   ]
  },
  {
   "cell_type": "code",
   "execution_count": 10,
   "metadata": {},
   "outputs": [],
   "source": [
    "df.to_csv(\"../data/scenario_features_v2.csv\")\n",
    "df = pd.read_csv(\"../data/scenario_features_v2.csv\")"
   ]
  },
  {
   "cell_type": "code",
   "execution_count": 11,
   "metadata": {},
   "outputs": [
    {
     "data": {
      "text/plain": [
       "<AxesSubplot:xlabel='avg_bbox_longevity'>"
      ]
     },
     "execution_count": 11,
     "metadata": {},
     "output_type": "execute_result"
    },
    {
     "data": {
      "image/png": "[encoded data removed]",
      "text/plain": [
       "<Figure size 432x288 with 1 Axes>"
      ]
     },
     "metadata": {
      "needs_background": "light"
     },
     "output_type": "display_data"
    }
   ],
   "source": [
    "sns.distplot(df[\"avg_bbox_longevity\"])"
   ]
  },
  {
   "cell_type": "code",
   "execution_count": 6,
   "metadata": {},
   "outputs": [
    {
     "data": {
      "text/plain": [
       "<AxesSubplot:xlabel='avg_num_bboxes'>"
      ]
     },
     "execution_count": 6,
     "metadata": {},
     "output_type": "execute_result"
    },
    {
     "data": {
      "image/png": "[encoded data removed]",
      "text/plain": [
       "<Figure size 432x288 with 1 Axes>"
      ]
     },
     "metadata": {
      "needs_background": "light"
     },
     "output_type": "display_data"
    }
   ],
   "source": [
    "sns.distplot(df[\"avg_num_bboxes\"])"
   ]
  },
  {
   "cell_type": "code",
   "execution_count": 10,
   "metadata": {},
   "outputs": [
    {
     "name": "stderr",
     "output_type": "stream",
     "text": [
      "/home/ionel/.local/lib/python3.7/site-packages/seaborn/distributions.py:2551: FutureWarning: `distplot` is a deprecated function and will be removed in a future version. Please adapt your code to use either `displot` (a figure-level function with similar flexibility) or `histplot` (an axes-level function for histograms).\n",
      "  warnings.warn(msg, FutureWarning)\n"
     ]
    },
    {
     "data": {
      "text/plain": [
       "Text(0.5, 0, 'Mean number of bounding boxes per scenario')"
      ]
     },
     "execution_count": 10,
     "metadata": {},
     "output_type": "execute_result"
    },
    {
     "data": {
      "image/png": "[encoded data removed]",
      "text/plain": [
       "<Figure size 432x288 with 1 Axes>"
      ]
     },
     "metadata": {
      "needs_background": "light"
     },
     "output_type": "display_data"
    }
   ],
   "source": [
    "sns.distplot(df[\"avg_bbox_speed\"])\n",
    "plt.xlabel(\"Mean number of bounding boxes per scenario\")"
   ]
  },
  {
   "cell_type": "code",
   "execution_count": 9,
   "metadata": {},
   "outputs": [
    {
     "name": "stderr",
     "output_type": "stream",
     "text": [
      "/home/ionel/.local/lib/python3.7/site-packages/seaborn/distributions.py:2551: FutureWarning: `distplot` is a deprecated function and will be removed in a future version. Please adapt your code to use either `displot` (a figure-level function with similar flexibility) or `histplot` (an axes-level function for histograms).\n",
      "  warnings.warn(msg, FutureWarning)\n"
     ]
    },
    {
     "data": {
      "text/plain": [
       "Text(0.5, 0, 'Mean bounding box speed per scenario')"
      ]
     },
     "execution_count": 9,
     "metadata": {},
     "output_type": "execute_result"
    },
    {
     "data": {
      "image/png": "[encoded data removed]",
      "text/plain": [
       "<Figure size 432x288 with 1 Axes>"
      ]
     },
     "metadata": {
      "needs_background": "light"
     },
     "output_type": "display_data"
    }
   ],
   "source": [
    "sns.distplot(df[\"avg_bbox_size\"])\n",
    "plt.xlim(0, 140000)\n",
    "plt.xlabel(\"Mean bounding box speed per scenario\")"
   ]
  },
  {
   "cell_type": "code",
   "execution_count": 6,
   "metadata": {},
   "outputs": [
    {
     "name": "stderr",
     "output_type": "stream",
     "text": [
      "/home/ionel/.local/lib/python3.7/site-packages/seaborn/distributions.py:2551: FutureWarning: `distplot` is a deprecated function and will be removed in a future version. Please adapt your code to use either `displot` (a figure-level function with similar flexibility) or `histplot` (an axes-level function for histograms).\n",
      "  warnings.warn(msg, FutureWarning)\n"
     ]
    },
    {
     "data": {
      "text/plain": [
       "Text(0.5, 0, 'Mean ego-vehicle speed [m/s]')"
      ]
     },
     "execution_count": 6,
     "metadata": {},
     "output_type": "execute_result"
    },
    {
     "data": {
      "image/png": "[encoded data removed]",
      "text/plain": [
       "<Figure size 432x288 with 1 Axes>"
      ]
     },
     "metadata": {
      "needs_background": "light"
     },
     "output_type": "display_data"
    }
   ],
   "source": [
    "sns.distplot(df[\"avg_ego_speed\"])\n",
    "plt.xlabel(\"Mean ego-vehicle speed [m/s]\")"
   ]
  },
  {
   "cell_type": "code",
   "execution_count": 118,
   "metadata": {},
   "outputs": [
    {
     "data": {
      "text/plain": [
       "<BarContainer object of 3 artists>"
      ]
     },
     "execution_count": 118,
     "metadata": {},
     "output_type": "execute_result"
    },
    {
     "data": {
      "image/png": "[encoded data removed]",
      "text/plain": [
       "<Figure size 432x288 with 1 Axes>"
      ]
     },
     "metadata": {
      "needs_background": "light"
     },
     "output_type": "display_data"
    }
   ],
   "source": [
    "locations = dict(df[\"location\"].value_counts())\n",
    "plt.bar(locations.keys(), locations.values())"
   ]
  },
  {
   "cell_type": "code",
   "execution_count": 120,
   "metadata": {},
   "outputs": [
    {
     "data": {
      "text/plain": [
       "<BarContainer object of 3 artists>"
      ]
     },
     "execution_count": 120,
     "metadata": {},
     "output_type": "execute_result"
    },
    {
     "data": {
      "image/png": "[encoded data removed]",
      "text/plain": [
       "<Figure size 432x288 with 1 Axes>"
      ]
     },
     "metadata": {
      "needs_background": "light"
     },
     "output_type": "display_data"
    }
   ],
   "source": [
    "locations = dict(df[\"time_of_day\"].value_counts())\n",
    "plt.bar(locations.keys(), locations.values())"
   ]
  },
  {
   "cell_type": "code",
   "execution_count": 119,
   "metadata": {},
   "outputs": [
    {
     "data": {
      "text/plain": [
       "<BarContainer object of 1 artists>"
      ]
     },
     "execution_count": 119,
     "metadata": {},
     "output_type": "execute_result"
    },
    {
     "data": {
      "image/png": "[encoded data removed]",
      "text/plain": [
       "<Figure size 432x288 with 1 Axes>"
      ]
     },
     "metadata": {
      "needs_background": "light"
     },
     "output_type": "display_data"
    }
   ],
   "source": [
    "locations = dict(df[\"weather\"].value_counts())\n",
    "plt.bar(locations.keys(), locations.values())"
   ]
  },
  {
   "cell_type": "code",
   "execution_count": 129,
   "metadata": {},
   "outputs": [
    {
     "name": "stderr",
     "output_type": "stream",
     "text": [
      "100%|██████████| 148/148 [04:23<00:00,  1.78s/it]\n"
     ]
    }
   ],
   "source": [
    "for path in tqdm(list(Path(\"/data/ges/waymo/\").glob(\"*/*.tfrecord\"))):\n",
    "    frames = frames_from_path(path)\n",
    "    weathers = [frame.context.stats.weather for frame in frames]\n",
    "    tods = [frame.context.stats.time_of_day for frame in frames]\n",
    "    locs = [frame.context.stats.location for frame in frames]\n",
    "    assert len(set(weathers)) == 1, path\n",
    "    assert len(set(tods)) == 1, path\n",
    "    assert len(set(locs)) == 1, path"
   ]
  }
 ],
 "metadata": {
  "colab": {
   "collapsed_sections": [],
   "name": "Waymo Open Dataset Tutorial.ipynb",
   "private_outputs": true,
   "provenance": [],
   "toc_visible": true
  },
  "kernelspec": {
   "display_name": "Python (waymo_env)",
   "language": "python",
   "name": "waymo_env"
  },
  "language_info": {
   "codemirror_mode": {
    "name": "ipython",
    "version": 3
   },
   "file_extension": ".py",
   "mimetype": "text/x-python",
   "name": "python",
   "nbconvert_exporter": "python",
   "pygments_lexer": "ipython3",
   "version": "3.7.7"
  }
 },
 "nbformat": 4,
 "nbformat_minor": 4
}
