{
 "cells": [
  {
   "cell_type": "markdown",
   "metadata": {},
   "source": [
    "# Quantifying Random forest confidence"
   ]
  },
  {
   "cell_type": "code",
   "execution_count": 41,
   "metadata": {},
   "outputs": [
    {
     "name": "stdout",
     "output_type": "stream",
     "text": [
      "The autoreload extension is already loaded. To reload it, use:\n",
      "  %reload_ext autoreload\n"
     ]
    }
   ],
   "source": [
    "import pickle\n",
    "import numpy as np\n",
    "from tqdm import tqdm\n",
    "import seaborn as sns\n",
    "import matplotlib.pyplot as plt\n",
    "\n",
    "from ad_config_search.rforest_utils import get_prediction_dist\n",
    "\n",
    "%load_ext autoreload\n",
    "%autoreload 2"
   ]
  },
  {
   "cell_type": "code",
   "execution_count": 2,
   "metadata": {},
   "outputs": [],
   "source": [
    "with open(\"model=RF__env-window=200__time=present__env-feats=gt-v2__te=0.43.pl\", 'rb') as f:\n",
    "    dictionary = pickle.load(f)"
   ]
  },
  {
   "cell_type": "code",
   "execution_count": 3,
   "metadata": {},
   "outputs": [],
   "source": [
    "model = dictionary[\"model\"]\n",
    "train = dictionary[\"train\"]\n",
    "train_labels = dictionary[\"train_labels\"]\n",
    "test = dictionary[\"test\"]\n",
    "test_labels = dictionary[\"test_labels\"]"
   ]
  },
  {
   "cell_type": "markdown",
   "metadata": {},
   "source": [
    "### Visually correlating statistics (mean/var) of predicted config scores on an environment with its score relative to baseline"
   ]
  },
  {
   "cell_type": "code",
   "execution_count": 10,
   "metadata": {},
   "outputs": [
    {
     "name": "stderr",
     "output_type": "stream",
     "text": [
      "[Parallel(n_jobs=144)]: Using backend ThreadingBackend with 144 concurrent workers.\n",
      "[Parallel(n_jobs=144)]: Done 114 out of 200 | elapsed:    0.2s remaining:    0.1s\n",
      "[Parallel(n_jobs=144)]: Done 200 out of 200 | elapsed:    0.2s finished\n"
     ]
    }
   ],
   "source": [
    "test_predictions = model.predict(test)"
   ]
  },
  {
   "cell_type": "code",
   "execution_count": 11,
   "metadata": {},
   "outputs": [],
   "source": [
    "stats_per_pred = {\n",
    "    k: {scenario: v(test_predictions[test.index == scenario]) for scenario in test.index.unique()} for k, v in [\n",
    "        (\"std\", np.std),\n",
    "        (\"var\", np.var),\n",
    "        (\"range\", lambda x: np.max(x) - np.min(x)),\n",
    "        (\"mean\", lambda x: np.max(x) - np.min(x))\n",
    "    ]\n",
    "}"
   ]
  },
  {
   "cell_type": "code",
   "execution_count": 12,
   "metadata": {},
   "outputs": [],
   "source": [
    "improvement_by_scenario = {'training_0000-S10': -2.738086363636377,\n",
    " 'training_0000-S5': -1.9803766497461979,\n",
    " 'training_0004-S1': -1.81623484848485,\n",
    " 'training_0000-S19': -1.5882614213198138,\n",
    " 'training_0000-S17': -1.1654146464646402,\n",
    " 'training_0003-S20': -1.1606204545454588,\n",
    " 'training_0003-S18': -0.5432207070707022,\n",
    " 'training_0004-S14': -0.4733168367347034,\n",
    " 'training_0000-S4': -0.22366395939085848,\n",
    " 'training_0003-S11': -0.17799106291339228,\n",
    " 'training_0000-S23': -0.16394318697175692,\n",
    " 'training_0000-S22': -0.03955151515151556,\n",
    " 'training_0000-S12': -0.025465384615383613,\n",
    " 'training_0000-S1': 0.0,\n",
    " 'training_0000-S15': 0.0,\n",
    " 'training_0000-S16': 0.0,\n",
    " 'training_0002-S9': 0.0,\n",
    " 'training_0004-S19': 0.016782368175700668,\n",
    " 'training_0000-S3': 0.0190289340101657,\n",
    " 'training_0000-S11': 0.03752842639593723,\n",
    " 'training_0003-S16': 0.043007575757577854,\n",
    " 'training_0003-S24': 0.18685184693479107,\n",
    " 'training_0005-S12': 0.33459600416502866,\n",
    " 'training_0003-S14': 0.3991406091370493,\n",
    " 'training_0002-S24': 0.4729575757575759,\n",
    " 'training_0003-S22': 0.5460055837563402,\n",
    " 'training_0000-S2': 0.6040472582972569,\n",
    " 'training_0005-S6': 0.7548767676767696,\n",
    " 'training_0003-S1': 0.9915954545454548,\n",
    " 'training_0005-S19': 1.0488240620676557,\n",
    " 'training_0004-S22': 1.1540055837563443,\n",
    " 'training_0000-S0': 1.1951055837563516,\n",
    " 'training_0000-S20': 1.2996228426396073,\n",
    " 'training_0003-S5': 1.4568301874830212,\n",
    " 'training_0005-S0': 1.837778859820375,\n",
    " 'training_0002-S4': 2.1918680390765175,\n",
    " 'training_0003-S9': 2.3991641929499075,\n",
    " 'training_0005-S23': 2.4603477707006363,\n",
    " 'training_0000-S21': 2.5419984848484773,\n",
    " 'training_0000-S6': 2.5564560606060596,\n",
    " 'training_0002-S6': 2.9833531385281375,\n",
    " 'training_0003-S7': 3.2347167512690334,\n",
    " 'training_0004-S16': 3.905184289858081,\n",
    " 'training_0004-S12': 3.9615427124820997,\n",
    " 'training_0000-S13': 4.096466583365874,\n",
    " 'training_0000-S18': 4.827542857142856,\n",
    " 'training_0004-S5': 5.2031434101262555,\n",
    " 'training_0000-S14': 5.904958333984119,\n",
    " 'training_0004-S20': 8.628684430560977}"
   ]
  },
  {
   "cell_type": "code",
   "execution_count": 15,
   "metadata": {},
   "outputs": [],
   "source": [
    "xs = []\n",
    "ys = []\n",
    "stat = \"var\"\n",
    "for k in stats_per_pred[stat].keys():\n",
    "    xs.append(stats_per_pred[stat][k])\n",
    "    ys.append(improvement_by_scenario[k])"
   ]
  },
  {
   "cell_type": "code",
   "execution_count": 20,
   "metadata": {},
   "outputs": [
    {
     "data": {
      "text/plain": [
       "<matplotlib.collections.PathCollection at 0x7f20a5622b70>"
      ]
     },
     "execution_count": 20,
     "metadata": {},
     "output_type": "execute_result"
    },
    {
     "data": {
      "image/png": "[encoded data removed]",
      "text/plain": [
       "<Figure size 432x288 with 1 Axes>"
      ]
     },
     "metadata": {
      "needs_background": "light"
     },
     "output_type": "display_data"
    }
   ],
   "source": [
    "import matplotlib.pyplot as plt\n",
    "plt.xlabel(\"{} of predicted scenario performance on all configurations\".format(stat))\n",
    "plt.ylabel(\"mota difference from global static config\")\n",
    "plt.scatter(xs, ys)"
   ]
  },
  {
   "cell_type": "markdown",
   "metadata": {
    "heading_collapsed": "true"
   },
   "source": [
    "### A contrib scikit learn library for convidence intervals gives all nans..."
   ]
  },
  {
   "cell_type": "code",
   "execution_count": 20,
   "metadata": {},
   "outputs": [],
   "source": [
    "import forestci as fci"
   ]
  },
  {
   "cell_type": "code",
   "execution_count": 21,
   "metadata": {},
   "outputs": [
    {
     "name": "stderr",
     "output_type": "stream",
     "text": [
      "/data/ges/miniconda3/envs/erdos_env/lib/python3.6/site-packages/forestci/calibration.py:86: RuntimeWarning: overflow encountered in exp\n",
      "  g_eta_raw = np.exp(np.dot(XX, eta)) * mask\n",
      "/data/ges/miniconda3/envs/erdos_env/lib/python3.6/site-packages/forestci/calibration.py:102: RuntimeWarning: invalid value encountered in true_divide\n",
      "  g_eta_main = g_eta_raw / sum(g_eta_raw)\n"
     ]
    }
   ],
   "source": [
    "mpg_V_IJ_unbiased = fci.random_forest_error(model, train, test)"
   ]
  },
  {
   "cell_type": "code",
   "execution_count": null,
   "metadata": {},
   "outputs": [],
   "source": [
    "# 10:29am"
   ]
  },
  {
   "cell_type": "code",
   "execution_count": 24,
   "metadata": {},
   "outputs": [
    {
     "data": {
      "text/plain": [
       "True"
      ]
     },
     "execution_count": 24,
     "metadata": {},
     "output_type": "execute_result"
    }
   ],
   "source": [
    "np.all(np.isnan(mpg_V_IJ_unbiased))"
   ]
  },
  {
   "cell_type": "markdown",
   "metadata": {},
   "source": [
    "### Instead of getting configuration with best average of trees, compare for lower quantiles"
   ]
  },
  {
   "cell_type": "code",
   "execution_count": 4,
   "metadata": {},
   "outputs": [
    {
     "name": "stderr",
     "output_type": "stream",
     "text": [
      "100%|██████████| 200/200 [00:05<00:00, 34.30it/s]\n"
     ]
    }
   ],
   "source": [
    "test_predictions_per_tree = get_prediction_dist(model, test).T"
   ]
  },
  {
   "cell_type": "code",
   "execution_count": 5,
   "metadata": {},
   "outputs": [
    {
     "data": {
      "text/plain": [
       "(112896, 200)"
      ]
     },
     "execution_count": 5,
     "metadata": {},
     "output_type": "execute_result"
    }
   ],
   "source": [
    "test_predictions_per_tree.shape"
   ]
  },
  {
   "cell_type": "code",
   "execution_count": 53,
   "metadata": {},
   "outputs": [
    {
     "name": "stderr",
     "output_type": "stream",
     "text": [
      "100%|██████████| 49/49 [00:02<00:00, 20.47it/s]\n"
     ]
    },
    {
     "data": {
      "image/png": "[encoded data removed]",
      "text/plain": [
       "<Figure size 432x288 with 1 Axes>"
      ]
     },
     "metadata": {
      "needs_background": "light"
     },
     "output_type": "display_data"
    },
    {
     "name": "stderr",
     "output_type": "stream",
     "text": [
      "100%|██████████| 49/49 [00:02<00:00, 20.06it/s]\n"
     ]
    },
    {
     "data": {
      "image/png": "[encoded data removed]",
      "text/plain": [
       "<Figure size 432x288 with 1 Axes>"
      ]
     },
     "metadata": {
      "needs_background": "light"
     },
     "output_type": "display_data"
    },
    {
     "name": "stderr",
     "output_type": "stream",
     "text": [
      "100%|██████████| 49/49 [00:02<00:00, 21.61it/s]\n"
     ]
    },
    {
     "data": {
      "image/png": "[encoded data removed]",
      "text/plain": [
       "<Figure size 432x288 with 1 Axes>"
      ]
     },
     "metadata": {
      "needs_background": "light"
     },
     "output_type": "display_data"
    },
    {
     "name": "stderr",
     "output_type": "stream",
     "text": [
      "100%|██████████| 49/49 [00:03<00:00, 15.92it/s]\n"
     ]
    },
    {
     "data": {
      "image/png": "[encoded data removed]",
      "text/plain": [
       "<Figure size 432x288 with 1 Axes>"
      ]
     },
     "metadata": {
      "needs_background": "light"
     },
     "output_type": "display_data"
    },
    {
     "name": "stderr",
     "output_type": "stream",
     "text": [
      "100%|██████████| 49/49 [00:01<00:00, 27.62it/s]\n"
     ]
    },
    {
     "data": {
      "image/png": "[encoded data removed]",
      "text/plain": [
       "<Figure size 432x288 with 1 Axes>"
      ]
     },
     "metadata": {
      "needs_background": "light"
     },
     "output_type": "display_data"
    },
    {
     "name": "stderr",
     "output_type": "stream",
     "text": [
      "100%|██████████| 49/49 [00:01<00:00, 36.59it/s]\n"
     ]
    },
    {
     "data": {
      "image/png": "[encoded data removed]",
      "text/plain": [
       "<Figure size 432x288 with 1 Axes>"
      ]
     },
     "metadata": {
      "needs_background": "light"
     },
     "output_type": "display_data"
    },
    {
     "name": "stderr",
     "output_type": "stream",
     "text": [
      "100%|██████████| 49/49 [00:01<00:00, 31.29it/s]\n"
     ]
    },
    {
     "data": {
      "image/png": "[encoded data removed]",
      "text/plain": [
       "<Figure size 432x288 with 1 Axes>"
      ]
     },
     "metadata": {
      "needs_background": "light"
     },
     "output_type": "display_data"
    },
    {
     "name": "stderr",
     "output_type": "stream",
     "text": [
      "100%|██████████| 49/49 [00:01<00:00, 29.88it/s]\n"
     ]
    },
    {
     "data": {
      "image/png": "[encoded data removed]",
      "text/plain": [
       "<Figure size 432x288 with 1 Axes>"
      ]
     },
     "metadata": {
      "needs_background": "light"
     },
     "output_type": "display_data"
    },
    {
     "name": "stderr",
     "output_type": "stream",
     "text": [
      "100%|██████████| 49/49 [00:03<00:00, 15.95it/s]\n"
     ]
    },
    {
     "data": {
      "image/png": "[encoded data removed]",
      "text/plain": [
       "<Figure size 432x288 with 1 Axes>"
      ]
     },
     "metadata": {
      "needs_background": "light"
     },
     "output_type": "display_data"
    },
    {
     "name": "stderr",
     "output_type": "stream",
     "text": [
      "100%|██████████| 49/49 [00:02<00:00, 24.15it/s]\n"
     ]
    },
    {
     "data": {
      "image/png": "[encoded data removed]",
      "text/plain": [
       "<Figure size 432x288 with 1 Axes>"
      ]
     },
     "metadata": {
      "needs_background": "light"
     },
     "output_type": "display_data"
    }
   ],
   "source": [
    "for scenario in test.index.unique()[:10]:\n",
    "    plt.title(scenario)\n",
    "    scenario_numbers = test_predictions_per_tree[test.index == scenario]\n",
    "    sorted_by_mean = scenario_numbers[np.argsort(np.mean(scenario_numbers, axis=1))]\n",
    "    for forest_trees in tqdm(sorted_by_mean[-1:-50:-1]):\n",
    "        sns.histplot(forest_trees)\n",
    "    plt.show()"
   ]
  },
  {
   "cell_type": "code",
   "execution_count": 50,
   "metadata": {},
   "outputs": [
    {
     "name": "stderr",
     "output_type": "stream",
     "text": [
      "100%|██████████| 50/50 [00:02<00:00, 24.25it/s]\n"
     ]
    },
    {
     "data": {
      "image/png": "[encoded data removed]",
      "text/plain": [
       "<Figure size 432x288 with 1 Axes>"
      ]
     },
     "metadata": {
      "needs_background": "light"
     },
     "output_type": "display_data"
    }
   ],
   "source": [
    "for scenario in test.index.unique():\n",
    "    plt.title(scenario)\n",
    "    scenario_numbers = test_predictions_per_tree[test.index == scenario]\n",
    "    sorted_by_mean = scenario_numbers[np.argsort(np.mean(scenario_numbers, axis=1))]\n",
    "    for forest_trees in tqdm(sorted_by_mean[-50:]):\n",
    "        sns.histplot(forest_trees)\n",
    "    plt.show()\n",
    "    break"
   ]
  },
  {
   "cell_type": "code",
   "execution_count": null,
   "metadata": {},
   "outputs": [],
   "source": []
  },
  {
   "cell_type": "code",
   "execution_count": 6,
   "metadata": {},
   "outputs": [
    {
     "data": {
      "text/plain": [
       "Index(['D-conf', 'T-min-iou', 'T-max-age', 'T-every-nth-det',\n",
       "       'avg_bbox_longevity', '90p_bbox_longevity', '90p_num_bboxes',\n",
       "       '90p_bbox_speed', '90p_bbox_size', 'avg_num_bboxes', 'avg_bbox_speed',\n",
       "       'avg_bbox_size', 'avg_ego_speed', 'D-model__efficientdet-d1',\n",
       "       'D-model__efficientdet-d2', 'D-model__efficientdet-d3',\n",
       "       'D-model__efficientdet-d4', 'D-model__efficientdet-d5',\n",
       "       'D-model__efficientdet-d6', 'D-model__efficientdet-d7',\n",
       "       'D-model__efficientdet-d7x', 'D-seq-pol__eager',\n",
       "       'D-seq-pol__tail-aware', 'D-seq-pol__wait', 'T-model__sort',\n",
       "       'time_of_day__Dawn/Dusk', 'time_of_day__Day', 'time_of_day__Night',\n",
       "       'location__location_other', 'location__location_phx',\n",
       "       'location__location_sf'],\n",
       "      dtype='object')"
      ]
     },
     "execution_count": 6,
     "metadata": {},
     "output_type": "execute_result"
    }
   ],
   "source": [
    "test.columns"
   ]
  },
  {
   "cell_type": "code",
   "execution_count": 7,
   "metadata": {},
   "outputs": [],
   "source": [
    "from ad_config_search.utils import contract_one_hot"
   ]
  },
  {
   "cell_type": "code",
   "execution_count": 25,
   "metadata": {},
   "outputs": [],
   "source": [
    "config_only_test = contract_one_hot(test)"
   ]
  },
  {
   "cell_type": "code",
   "execution_count": 26,
   "metadata": {},
   "outputs": [
    {
     "data": {
      "text/plain": [
       "Index(['D-conf', 'T-min-iou', 'T-max-age', 'T-every-nth-det',\n",
       "       'avg_bbox_longevity', '90p_bbox_longevity', '90p_num_bboxes',\n",
       "       '90p_bbox_speed', '90p_bbox_size', 'avg_num_bboxes', 'avg_bbox_speed',\n",
       "       'avg_bbox_size', 'avg_ego_speed', 'D-model', 'location', 'time_of_day',\n",
       "       'D-seq-pol', 'T-model'],\n",
       "      dtype='object')"
      ]
     },
     "execution_count": 26,
     "metadata": {},
     "output_type": "execute_result"
    }
   ],
   "source": [
    "config_only_test.columns"
   ]
  },
  {
   "cell_type": "code",
   "execution_count": 27,
   "metadata": {},
   "outputs": [
    {
     "data": {
      "text/html": [
       "<div>\n",
       "<style scoped>\n",
       "    .dataframe tbody tr th:only-of-type {\n",
       "        vertical-align: middle;\n",
       "    }\n",
       "\n",
       "    .dataframe tbody tr th {\n",
       "        vertical-align: top;\n",
       "    }\n",
       "\n",
       "    .dataframe thead th {\n",
       "        text-align: right;\n",
       "    }\n",
       "</style>\n",
       "<table border=\"1\" class=\"dataframe\">\n",
       "  <thead>\n",
       "    <tr style=\"text-align: right;\">\n",
       "      <th></th>\n",
       "      <th>D-conf</th>\n",
       "      <th>T-min-iou</th>\n",
       "      <th>T-max-age</th>\n",
       "      <th>T-every-nth-det</th>\n",
       "      <th>D-model</th>\n",
       "      <th>D-seq-pol</th>\n",
       "    </tr>\n",
       "  </thead>\n",
       "  <tbody>\n",
       "    <tr>\n",
       "      <th>training_0000-S0</th>\n",
       "      <td>0.3</td>\n",
       "      <td>0.1</td>\n",
       "      <td>1</td>\n",
       "      <td>1</td>\n",
       "      <td>efficientdet-d3</td>\n",
       "      <td>tail-aware</td>\n",
       "    </tr>\n",
       "    <tr>\n",
       "      <th>training_0000-S0</th>\n",
       "      <td>0.3</td>\n",
       "      <td>0.1</td>\n",
       "      <td>7</td>\n",
       "      <td>3</td>\n",
       "      <td>efficientdet-d5</td>\n",
       "      <td>wait</td>\n",
       "    </tr>\n",
       "    <tr>\n",
       "      <th>training_0000-S0</th>\n",
       "      <td>0.3</td>\n",
       "      <td>0.2</td>\n",
       "      <td>7</td>\n",
       "      <td>3</td>\n",
       "      <td>efficientdet-d5</td>\n",
       "      <td>eager</td>\n",
       "    </tr>\n",
       "    <tr>\n",
       "      <th>training_0000-S0</th>\n",
       "      <td>0.3</td>\n",
       "      <td>0.1</td>\n",
       "      <td>1</td>\n",
       "      <td>3</td>\n",
       "      <td>efficientdet-d1</td>\n",
       "      <td>eager</td>\n",
       "    </tr>\n",
       "    <tr>\n",
       "      <th>training_0000-S0</th>\n",
       "      <td>0.5</td>\n",
       "      <td>0.1</td>\n",
       "      <td>5</td>\n",
       "      <td>3</td>\n",
       "      <td>efficientdet-d5</td>\n",
       "      <td>wait</td>\n",
       "    </tr>\n",
       "    <tr>\n",
       "      <th>...</th>\n",
       "      <td>...</td>\n",
       "      <td>...</td>\n",
       "      <td>...</td>\n",
       "      <td>...</td>\n",
       "      <td>...</td>\n",
       "      <td>...</td>\n",
       "    </tr>\n",
       "    <tr>\n",
       "      <th>training_0005-S6</th>\n",
       "      <td>0.3</td>\n",
       "      <td>0.1</td>\n",
       "      <td>5</td>\n",
       "      <td>1</td>\n",
       "      <td>efficientdet-d2</td>\n",
       "      <td>wait</td>\n",
       "    </tr>\n",
       "    <tr>\n",
       "      <th>training_0005-S6</th>\n",
       "      <td>0.3</td>\n",
       "      <td>0.2</td>\n",
       "      <td>7</td>\n",
       "      <td>1</td>\n",
       "      <td>efficientdet-d2</td>\n",
       "      <td>wait</td>\n",
       "    </tr>\n",
       "    <tr>\n",
       "      <th>training_0005-S6</th>\n",
       "      <td>0.3</td>\n",
       "      <td>0.3</td>\n",
       "      <td>7</td>\n",
       "      <td>1</td>\n",
       "      <td>efficientdet-d7</td>\n",
       "      <td>tail-aware</td>\n",
       "    </tr>\n",
       "    <tr>\n",
       "      <th>training_0005-S6</th>\n",
       "      <td>0.3</td>\n",
       "      <td>0.2</td>\n",
       "      <td>5</td>\n",
       "      <td>5</td>\n",
       "      <td>efficientdet-d7</td>\n",
       "      <td>eager</td>\n",
       "    </tr>\n",
       "    <tr>\n",
       "      <th>training_0005-S6</th>\n",
       "      <td>0.5</td>\n",
       "      <td>0.2</td>\n",
       "      <td>3</td>\n",
       "      <td>3</td>\n",
       "      <td>efficientdet-d4</td>\n",
       "      <td>wait</td>\n",
       "    </tr>\n",
       "  </tbody>\n",
       "</table>\n",
       "<p>112896 rows × 6 columns</p>\n",
       "</div>"
      ],
      "text/plain": [
       "                  D-conf  T-min-iou  T-max-age  T-every-nth-det  \\\n",
       "training_0000-S0     0.3        0.1          1                1   \n",
       "training_0000-S0     0.3        0.1          7                3   \n",
       "training_0000-S0     0.3        0.2          7                3   \n",
       "training_0000-S0     0.3        0.1          1                3   \n",
       "training_0000-S0     0.5        0.1          5                3   \n",
       "...                  ...        ...        ...              ...   \n",
       "training_0005-S6     0.3        0.1          5                1   \n",
       "training_0005-S6     0.3        0.2          7                1   \n",
       "training_0005-S6     0.3        0.3          7                1   \n",
       "training_0005-S6     0.3        0.2          5                5   \n",
       "training_0005-S6     0.5        0.2          3                3   \n",
       "\n",
       "                          D-model   D-seq-pol  \n",
       "training_0000-S0  efficientdet-d3  tail-aware  \n",
       "training_0000-S0  efficientdet-d5        wait  \n",
       "training_0000-S0  efficientdet-d5       eager  \n",
       "training_0000-S0  efficientdet-d1       eager  \n",
       "training_0000-S0  efficientdet-d5        wait  \n",
       "...                           ...         ...  \n",
       "training_0005-S6  efficientdet-d2        wait  \n",
       "training_0005-S6  efficientdet-d2        wait  \n",
       "training_0005-S6  efficientdet-d7  tail-aware  \n",
       "training_0005-S6  efficientdet-d7       eager  \n",
       "training_0005-S6  efficientdet-d4        wait  \n",
       "\n",
       "[112896 rows x 6 columns]"
      ]
     },
     "execution_count": 27,
     "metadata": {},
     "output_type": "execute_result"
    }
   ],
   "source": [
    "config_only_test = config_only_test.drop(columns=['avg_bbox_longevity', '90p_bbox_longevity', '90p_num_bboxes', '90p_bbox_speed', '90p_bbox_size', 'avg_num_bboxes', 'avg_bbox_speed', \n",
    "                                                  'avg_bbox_size', 'avg_ego_speed', 'location', 'time_of_day'])\n",
    "config_only_test = config_only_test.drop(columns=[\"T-model\"])\n",
    "config_only_test"
   ]
  },
  {
   "cell_type": "code",
   "execution_count": 21,
   "metadata": {},
   "outputs": [],
   "source": [
    "with open(\"RF_test_policy_map_various_stats.pl\", 'rb') as f:\n",
    "    RF_tesT_policy_map_various_stats = pickle.load(f)"
   ]
  },
  {
   "cell_type": "code",
   "execution_count": 28,
   "metadata": {},
   "outputs": [],
   "source": [
    "def get_best_config_by_score(scenario, metric_fn):\n",
    "    best_row_index = np.argmax(metric_fn(test_predictions_per_tree[test.index == scenario]))\n",
    "    return dict(config_only_test[test.index == scenario].iloc[best_row_index])\n",
    "\n",
    "stats_per_pred = {\n",
    "    metric_name: {scenario: get_best_config_by_score(scenario, metric_fn) for scenario in test.index.unique()} for metric_name, metric_fn in [\n",
    "        (\"p50\", lambda x: np.percentile(x, 50, axis=1)),\n",
    "        (\"p25\", lambda x: np.percentile(x, 25, axis=1)),\n",
    "        (\"p10\", lambda x: np.percentile(x, 10, axis=1)),\n",
    "        (\"mean\", lambda x: np.mean(x, axis=1))\n",
    "    ]\n",
    "}"
   ]
  },
  {
   "cell_type": "markdown",
   "metadata": {},
   "source": [
    "#### get mean policy generated in RForest-AD-configs to see that the mean policy generated here is the same for sanity check"
   ]
  },
  {
   "cell_type": "code",
   "execution_count": 19,
   "metadata": {},
   "outputs": [],
   "source": [
    "with open(\"RF_test_policy_map2.pl\", 'rb') as f:\n",
    "    mean_pol = pickle.load(f)"
   ]
  },
  {
   "cell_type": "code",
   "execution_count": 33,
   "metadata": {},
   "outputs": [
    {
     "data": {
      "text/plain": [
       "True"
      ]
     },
     "execution_count": 33,
     "metadata": {},
     "output_type": "execute_result"
    }
   ],
   "source": [
    "np.all([mean_pol[k] == stats_per_pred[\"mean\"][k] for k in mean_pol])"
   ]
  },
  {
   "cell_type": "code",
   "execution_count": 34,
   "metadata": {},
   "outputs": [],
   "source": [
    "with open(\"RF_test_policy_map_various_stats.pl\", 'wb') as f:\n",
    "    pickle.dump(stats_per_pred, f)"
   ]
  },
  {
   "cell_type": "code",
   "execution_count": null,
   "metadata": {},
   "outputs": [],
   "source": []
  }
 ],
 "metadata": {
  "kernelspec": {
   "display_name": "Python 3",
   "language": "python",
   "name": "python3"
  },
  "language_info": {
   "codemirror_mode": {
    "name": "ipython",
    "version": 3
   },
   "file_extension": ".py",
   "mimetype": "text/x-python",
   "name": "python",
   "nbconvert_exporter": "python",
   "pygments_lexer": "ipython3",
   "version": "3.6.12"
  }
 },
 "nbformat": 4,
 "nbformat_minor": 4
}
