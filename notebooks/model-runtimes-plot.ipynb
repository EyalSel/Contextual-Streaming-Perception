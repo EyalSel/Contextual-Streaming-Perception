{
 "cells": [
  {
   "cell_type": "markdown",
   "metadata": {},
   "source": [
    "# Plotting GPU runtimes from cached detection"
   ]
  },
  {
   "cell_type": "code",
   "execution_count": 19,
   "metadata": {},
   "outputs": [],
   "source": [
    "import jsonlines\n",
    "from pathlib import Path\n",
    "import seaborn as sns\n",
    "import matplotlib.pyplot as plt"
   ]
  },
  {
   "cell_type": "markdown",
   "metadata": {},
   "source": [
    "### Extracting data from jsonls inside cached_waymo_train_0001_detection_v100 as a representative sample"
   ]
  },
  {
   "cell_type": "code",
   "execution_count": 17,
   "metadata": {},
   "outputs": [],
   "source": [
    "runtimes = {}\n",
    "for p in Path(\"../scripts/cached_waymo_train_0001_detection_v100\").glob(\"*.jsonl\"):\n",
    "    with jsonlines.open(p) as reader:\n",
    "        data = list(reader)\n",
    "    model = data[0][\"model_names\"][0]\n",
    "    data = data[1:]\n",
    "    if model not in runtimes:\n",
    "        runtimes[model] = [x[\"runtime\"] for x in data]\n",
    "    else:\n",
    "        runtimes[model].extend([x[\"runtime\"] for x in data])"
   ]
  },
  {
   "cell_type": "code",
   "execution_count": 34,
   "metadata": {},
   "outputs": [
    {
     "data": {
      "text/plain": [
       "<matplotlib.legend.Legend at 0x7f4b1f4c10b8>"
      ]
     },
     "execution_count": 34,
     "metadata": {},
     "output_type": "execute_result"
    },
    {
     "data": {
      "image/png": "[encoded data removed]",
      "text/plain": [
       "<Figure size 432x288 with 1 Axes>"
      ]
     },
     "metadata": {
      "needs_background": "light"
     },
     "output_type": "display_data"
    }
   ],
   "source": [
    "for x in [100, 200, 300]:\n",
    "    plt.axvline(x=x, linestyle=\"--\")\n",
    "plt.xlabel(\"ms\")\n",
    "cmap = plt.get_cmap(\"tab10\")\n",
    "for i, (d, v) in enumerate(sorted(runtimes.items(), key=lambda x: x[0])):\n",
    "    sns.histplot(v, label=d, color=cmap(i), linewidth=0)\n",
    "plt.legend()"
   ]
  },
  {
   "cell_type": "code",
   "execution_count": null,
   "metadata": {},
   "outputs": [],
   "source": []
  }
 ],
 "metadata": {
  "kernelspec": {
   "display_name": "Python (erdos_env)",
   "language": "python",
   "name": "erdos_env"
  },
  "language_info": {
   "codemirror_mode": {
    "name": "ipython",
    "version": 3
   },
   "file_extension": ".py",
   "mimetype": "text/x-python",
   "name": "python",
   "nbconvert_exporter": "python",
   "pygments_lexer": "ipython3",
   "version": "3.6.10"
  }
 },
 "nbformat": 4,
 "nbformat_minor": 4
}
